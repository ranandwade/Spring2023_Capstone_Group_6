{
 "cells": [
  {
   "cell_type": "code",
   "execution_count": 2,
   "id": "90356ed2",
   "metadata": {},
   "outputs": [],
   "source": [
    "import matplotlib.pyplot as plt\n",
    "import time\n",
    "import numpy as np\n",
    "from numpy import pi\n",
    "\n",
    "from qutip import *\n",
    "from qutip.control import *\n",
    "from qutip.qip.operations import rx\n",
    "from qutip.qip.operations import ry\n",
    "from qutip.qip.operations import rz\n",
    "\n",
    "from qutip.control.grape import plot_grape_control_fields, _overlap\n",
    "from qutip.control.cy_grape import cy_overlap\n",
    "from qutip.control.grape import cy_grape_unitary, grape_unitary_adaptive\n",
    "\n",
    "from scipy.interpolate import interp1d\n",
    "from qutip.ui.progressbar import TextProgressBar\n",
    "from dataclasses import dataclass\n",
    "from typing import List, Tuple, Sequence\n",
    "\n",
    "import matplotlib.pyplot as plt\n",
    "import numpy as np\n",
    "import plotly.graph_objs as go\n",
    "import plotly.express as px\n",
    "\n",
    "from scipy.constants import physical_constants, h\n",
    "\n",
    "from qutip import jmat, tensor, identity, Qobj\n",
    "\n",
    "from scipy.interpolate import interp1d\n",
    "from qutip.ui.progressbar import TextProgressBar\n",
    "from qiskit.visualization import plot_state_city\n",
    "from qiskit.visualization import plot_bloch_multivector\n",
    "\n",
    "import numpy as np"
   ]
  },
  {
   "cell_type": "markdown",
   "id": "02f55882",
   "metadata": {},
   "source": [
    "# Finding Pulse Sequence"
   ]
  },
  {
   "cell_type": "markdown",
   "id": "62678ac8",
   "metadata": {},
   "source": [
    "### Setting beginning and ending states\n",
    "### setting desired U value"
   ]
  },
  {
   "cell_type": "code",
   "execution_count": 3,
   "id": "c0d049a4",
   "metadata": {},
   "outputs": [
    {
     "name": "stdout",
     "output_type": "stream",
     "text": [
      "Quantum object: dims = [[9], [1]], shape = (9, 1), type = ket\n",
      "Qobj data =\n",
      "[[1.]\n",
      " [0.]\n",
      " [0.]\n",
      " [0.]\n",
      " [0.]\n",
      " [0.]\n",
      " [0.]\n",
      " [0.]\n",
      " [0.]]\n"
     ]
    },
    {
     "name": "stderr",
     "output_type": "stream",
     "text": [
      "C:\\Users\\RA\\AppData\\Local\\Temp\\ipykernel_8488\\3270121689.py:12: DeprecationWarning: Importing functions/classes of the qip submodule directly from the namespace qutip is deprecated. Please import them from the submodule instead, e.g.\n",
      "from qutip.qip.operations import cnot\n",
      "from qutip.qip.circuit import QubitCircuit\n",
      "\n",
      "  U=tensor(rotation (jmat(1,'x'),pi),identity(3))\n"
     ]
    },
    {
     "data": {
      "text/latex": [
       "Quantum object: dims = [[9], [9]], shape = (9, 9), type = oper, isherm = False $ \\\\ \\left(\\begin{matrix}0.500 & 0.0 & 0.0 & -0.707j & 0.0 & 0.0 & -0.500 & 0.0 & 0.0\\\\0.0 & 0.500 & 0.0 & 0.0 & -0.707j & 0.0 & 0.0 & -0.500 & 0.0\\\\0.0 & 0.0 & 0.500 & 0.0 & 0.0 & -0.707j & 0.0 & 0.0 & -0.500\\\\-0.707j & 0.0 & 0.0 & 0.0 & 0.0 & 0.0 & -0.707j & 0.0 & 0.0\\\\0.0 & -0.707j & 0.0 & 0.0 & 0.0 & 0.0 & 0.0 & -0.707j & 0.0\\\\0.0 & 0.0 & -0.707j & 0.0 & 0.0 & 0.0 & 0.0 & 0.0 & -0.707j\\\\-0.500 & 0.0 & 0.0 & -0.707j & 0.0 & 0.0 & 0.500 & 0.0 & 0.0\\\\0.0 & -0.500 & 0.0 & 0.0 & -0.707j & 0.0 & 0.0 & 0.500 & 0.0\\\\0.0 & 0.0 & -0.500 & 0.0 & 0.0 & -0.707j & 0.0 & 0.0 & 0.500\\\\\\end{matrix}\\right)$"
      ],
      "text/plain": [
       "Quantum object: dims = [[9], [9]], shape = (9, 9), type = oper, isherm = False\n",
       "Qobj data =\n",
       "[[ 0.5+0.j          0. +0.j          0. +0.j          0. -0.70710678j\n",
       "   0. +0.j          0. +0.j         -0.5+0.j          0. +0.j\n",
       "   0. +0.j        ]\n",
       " [ 0. +0.j          0.5+0.j          0. +0.j          0. +0.j\n",
       "   0. -0.70710678j  0. +0.j          0. +0.j         -0.5+0.j\n",
       "   0. +0.j        ]\n",
       " [ 0. +0.j          0. +0.j          0.5+0.j          0. +0.j\n",
       "   0. +0.j          0. -0.70710678j  0. +0.j          0. +0.j\n",
       "  -0.5+0.j        ]\n",
       " [ 0. -0.70710678j  0. +0.j          0. +0.j          0. +0.j\n",
       "   0. +0.j          0. +0.j          0. -0.70710678j  0. +0.j\n",
       "   0. +0.j        ]\n",
       " [ 0. +0.j          0. -0.70710678j  0. +0.j          0. +0.j\n",
       "   0. +0.j          0. +0.j          0. +0.j          0. -0.70710678j\n",
       "   0. +0.j        ]\n",
       " [ 0. +0.j          0. +0.j          0. -0.70710678j  0. +0.j\n",
       "   0. +0.j          0. +0.j          0. +0.j          0. +0.j\n",
       "   0. -0.70710678j]\n",
       " [-0.5+0.j          0. +0.j          0. +0.j          0. -0.70710678j\n",
       "   0. +0.j          0. +0.j          0.5+0.j          0. +0.j\n",
       "   0. +0.j        ]\n",
       " [ 0. +0.j         -0.5+0.j          0. +0.j          0. +0.j\n",
       "   0. -0.70710678j  0. +0.j          0. +0.j          0.5+0.j\n",
       "   0. +0.j        ]\n",
       " [ 0. +0.j          0. +0.j         -0.5+0.j          0. +0.j\n",
       "   0. +0.j          0. -0.70710678j  0. +0.j          0. +0.j\n",
       "   0.5+0.j        ]]"
      ]
     },
     "execution_count": 3,
     "metadata": {},
     "output_type": "execute_result"
    }
   ],
   "source": [
    "qubit1state=basis(3, 0)\n",
    "qubit2state=basis(3, 0)\n",
    "e=basis(2,0)\n",
    "startingstate=tensor(tensor(qubit1state,qubit1state)) #initial state\n",
    "#endingstate= tensor(basis(3,0),basis(3,2))\n",
    "startingstate.dims=[[9],[1]]\n",
    "#endingstate.dims=[[9],[1]]\n",
    "print (startingstate)\n",
    "\n",
    "\n",
    "\n",
    "U=tensor(rotation (jmat(1,'x'),pi),identity(3))\n",
    "\n",
    "U.dims=[[9],[9]]\n",
    "U\n",
    "\n",
    "#rotation in x about "
   ]
  },
  {
   "cell_type": "markdown",
   "id": "45166508",
   "metadata": {},
   "source": [
    "## Defining 3x3 pauli spin matrices \n",
    "## Definiting number of iterations\n",
    "## Defining H_ops"
   ]
  },
  {
   "cell_type": "code",
   "execution_count": 4,
   "id": "2ddca87e",
   "metadata": {},
   "outputs": [],
   "source": [
    "\n",
    "R = 150 #GRAPE itterations\n",
    "\n",
    "#T = 1\n",
    "times = np.linspace(0, T, 100)\n",
    "\n",
    "\n",
    "#wirting our terms so I can actually read the hamiltonian\n",
    "#Nuc terms are second qubit\n",
    "#Elec qubit is first qubit\n",
    "\n",
    "nuclear_spin = 1\n",
    "electron_spin = 1\n",
    "sigmaxE = jmat(electron_spin,'x')\n",
    "sigmayE = jmat(electron_spin,'y')\n",
    "#print (sigmayE)\n",
    "sigmazE = jmat(electron_spin,'z')\n",
    "sigmaxN = jmat(nuclear_spin,'x')\n",
    "sigmayN = jmat(nuclear_spin,'y')\n",
    "sigmazN = jmat(nuclear_spin,'z')\n",
    "sigmazEsquared = sigmazE*sigmazE\n",
    "sigmazNsquared = sigmazN*sigmazN\n",
    "identity3 = identity(3) #3x3 identity matrix\n",
    "\n",
    "# RF field can only control Sx and Sy for both qubits\n",
    "#Creating operators that can be tuned in the Hamiltonian via the control fields, list is below called H_ops\n",
    "\n",
    "H_opsEx=tensor(sigmaxE, identity3)\n",
    "H_opsEy=tensor(sigmayE, identity3)\n",
    "H_opsEz=tensor(sigmazE, identity3)\n",
    "\n",
    "\n",
    "\n",
    "H_opsNx=tensor(identity3, sigmaxN)\n",
    "H_opsNy=tensor(identity3, sigmayN)\n",
    "H_opsNz=tensor(identity3, sigmazN)\n",
    "\n",
    "H_opsENx = tensor(sigmaxE, sigmaxN)\n",
    "H_opsENy = tensor(sigmayE, sigmayN)           \n",
    "H_opsENz = tensor(sigmazE, sigmazN)\n",
    "#print (H_opsENz)\n",
    "\n",
    "#changing dims bc qutip is silly\n",
    "\n",
    "H_opsEx.dims=[[9],[9]]\n",
    "H_opsEy.dims=[[9],[9]]\n",
    "H_opsEz.dims=[[9],[9]]\n",
    "\n",
    "H_opsNx.dims=[[9],[9]]\n",
    "H_opsNy.dims=[[9],[9]]\n",
    "H_opsNz.dims=[[9],[9]]\n",
    "\n",
    "H_opsENx.dims=[[9],[9]]\n",
    "H_opsENy.dims=[[9],[9]]\n",
    "H_opsENz.dims=[[9],[9]] \n",
    "\n",
    "\n",
    "#making H_ops list           \n",
    "H_ops = [H_opsEx, H_opsEy, H_opsEz, H_opsNx, H_opsNy, H_opsNz, H_opsENx, H_opsENy, H_opsENz]            \n",
    "               \n",
    "               \n",
    "#making labels for pulse sequence graphs\n",
    "H_labels = [r'$uE_{x}$',\n",
    "            r'$uE_{y}$',\n",
    "            r'$uE_{z}$',\n",
    "            r'$uN_{x}$',\n",
    "            r'$uN_{y}$',\n",
    "            r'$uN_{z}$',\n",
    "            r'$uEN_{x}$',\n",
    "            r'$uEN_{y}$',\n",
    "            r'$uEN_{z}$']\n"
   ]
  },
  {
   "cell_type": "markdown",
   "id": "587c4893",
   "metadata": {},
   "source": [
    "# Defining hamiltonian and constants "
   ]
  },
  {
   "cell_type": "code",
   "execution_count": 5,
   "id": "43f769bc",
   "metadata": {},
   "outputs": [
    {
     "ename": "NameError",
     "evalue": "name 'Delta' is not defined",
     "output_type": "error",
     "traceback": [
      "\u001b[1;31m---------------------------------------------------------------------------\u001b[0m",
      "\u001b[1;31mNameError\u001b[0m                                 Traceback (most recent call last)",
      "Input \u001b[1;32mIn [5]\u001b[0m, in \u001b[0;36m<cell line: 28>\u001b[1;34m()\u001b[0m\n\u001b[0;32m     24\u001b[0m H3 \u001b[38;5;241m=\u001b[39m f_transverse_magnetic_hyperfine \u001b[38;5;241m*\u001b[39m (tensor(sigmaxE,sigmaxN)\u001b[38;5;241m+\u001b[39mtensor(sigmayE,sigmayN))\n\u001b[0;32m     26\u001b[0m H4 \u001b[38;5;241m=\u001b[39m f_nuclear_quadrupole \u001b[38;5;241m*\u001b[39m tensor(tensor(identity3), (sigmazNsquared\u001b[38;5;241m-\u001b[39m(\u001b[38;5;241m2\u001b[39m\u001b[38;5;241m/\u001b[39m\u001b[38;5;241m3\u001b[39m)\u001b[38;5;241m*\u001b[39midentity3))\n\u001b[1;32m---> 28\u001b[0m h\u001b[38;5;241m*\u001b[39m\u001b[43mDelta\u001b[49m\u001b[38;5;241m*\u001b[39msigmaz() \u001b[38;5;241m+\u001b[39m h\u001b[38;5;241m*\u001b[39msigmax() \u001b[38;5;241m+\u001b[39m h\u001b[38;5;241m*\u001b[39msigmay()\n\u001b[0;32m     31\u001b[0m H5 \u001b[38;5;241m=\u001b[39m ((uB\u001b[38;5;241m/\u001b[39mh) \u001b[38;5;241m*\u001b[39m g_factor_electron) \u001b[38;5;241m*\u001b[39m tensor((sigmaxE\u001b[38;5;241m*\u001b[39mbvector[\u001b[38;5;241m0\u001b[39m] \u001b[38;5;241m+\u001b[39m sigmayE\u001b[38;5;241m*\u001b[39mbvector[\u001b[38;5;241m1\u001b[39m] \u001b[38;5;241m+\u001b[39m sigmazE\u001b[38;5;241m*\u001b[39mbvector[\u001b[38;5;241m2\u001b[39m]), identity3)\n\u001b[0;32m     33\u001b[0m H6 \u001b[38;5;241m=\u001b[39m gyromagnetic_constant_nuclear \u001b[38;5;241m*\u001b[39m tensor(identity3,(sigmaxN\u001b[38;5;241m*\u001b[39mbvector[\u001b[38;5;241m0\u001b[39m] \u001b[38;5;241m+\u001b[39m sigmayN\u001b[38;5;241m*\u001b[39mbvector[\u001b[38;5;241m1\u001b[39m] \u001b[38;5;241m+\u001b[39m sigmazN\u001b[38;5;241m*\u001b[39mbvector[\u001b[38;5;241m2\u001b[39m]))\n",
      "\u001b[1;31mNameError\u001b[0m: name 'Delta' is not defined"
     ]
    }
   ],
   "source": [
    "#defining hamiltonian for NV center\n",
    "\n",
    "#constants\n",
    "\n",
    "f_fine_structure = .10 #2.87e9\n",
    "f_nuclear_quadrupole = .10  #-5.01e6\n",
    "f_axial_magnetic_hyperfine = .10 #-2.14e6\n",
    "f_transverse_magnetic_hyperfine = .10 #-2.7e6\n",
    "g_factor_electron = .10 #2.0028\n",
    "gyromagnetic_constant_nuclear = .10 # 1.93297e7 / (2 * np.pi)\n",
    "uB = .10 #physical_constants['Bohr magneton'][0]\n",
    "uN = .10 #physical_constants['nuclear magneton'][0]    \n",
    "bvector=[0,0,1]\n",
    "h=.1\n",
    "\n",
    "\n",
    "\n",
    "#witing out hamiltonian terms\n",
    "\n",
    "H1 = f_fine_structure * tensor((sigmazEsquared-(2/3)*identity3),identity3)\n",
    "\n",
    "H2 = f_axial_magnetic_hyperfine * tensor(sigmazE,sigmazN) \n",
    "\n",
    "H3 = f_transverse_magnetic_hyperfine * (tensor(sigmaxE,sigmaxN)+tensor(sigmayE,sigmayN))\n",
    "\n",
    "H4 = f_nuclear_quadrupole * tensor(tensor(identity3), (sigmazNsquared-(2/3)*identity3))\n",
    "\n",
    "h*Delta*sigmaz() + h*sigmax() + h*sigmay()\n",
    "\n",
    "\n",
    "H5 = ((uB/h) * g_factor_electron) * tensor((sigmaxE*bvector[0] + sigmayE*bvector[1] + sigmazE*bvector[2]), identity3)\n",
    "\n",
    "H6 = gyromagnetic_constant_nuclear * tensor(identity3,(sigmaxN*bvector[0] + sigmayN*bvector[1] + sigmazN*bvector[2]))\n",
    "          \n",
    "    \n",
    "H0= H1+H2 +H3 +H4 +H5 +H6\n",
    "#H0.dims=[[9],[9]] #changing dimensions bc dot products are silly\n",
    "\n",
    "#H0 = tensor(pi*jmat(1,'z'), pi*jmat(1,'z'))\n",
    "H0.dims=[[9],[9]]\n",
    "H0 #hamiltonian without b field term\n",
    "\n"
   ]
  },
  {
   "cell_type": "code",
   "execution_count": 1,
   "id": "c03d7a91",
   "metadata": {},
   "outputs": [
    {
     "ename": "NameError",
     "evalue": "name 'np' is not defined",
     "output_type": "error",
     "traceback": [
      "\u001b[1;31m---------------------------------------------------------------------------\u001b[0m",
      "\u001b[1;31mNameError\u001b[0m                                 Traceback (most recent call last)",
      "Input \u001b[1;32mIn [1]\u001b[0m, in \u001b[0;36m<cell line: 4>\u001b[1;34m()\u001b[0m\n\u001b[0;32m      2\u001b[0m Bperpendicular \u001b[38;5;241m=\u001b[39m \u001b[38;5;241m10\u001b[39m \u001b[38;5;66;03m#mT\u001b[39;00m\n\u001b[0;32m      3\u001b[0m Bparallel \u001b[38;5;241m=\u001b[39m \u001b[38;5;241m10\u001b[39m \u001b[38;5;66;03m#mT\u001b[39;00m\n\u001b[1;32m----> 4\u001b[0m gammanv \u001b[38;5;241m=\u001b[39m \u001b[38;5;241m2\u001b[39m\u001b[38;5;241m*\u001b[39m\u001b[43mnp\u001b[49m\u001b[38;5;241m.\u001b[39mpi\u001b[38;5;241m*\u001b[39m\u001b[38;5;241m28\u001b[39m \u001b[38;5;241m*\u001b[39m \u001b[38;5;241m1000000\u001b[39m \u001b[38;5;66;03m#Hz/mT\u001b[39;00m\n\u001b[0;32m      5\u001b[0m omeganv \u001b[38;5;241m=\u001b[39m Bparallel \u001b[38;5;241m*\u001b[39m gammanv\n\u001b[0;32m      6\u001b[0m omegamw \u001b[38;5;241m=\u001b[39m \u001b[38;5;241m1000000000\u001b[39m \u001b[38;5;66;03m#Hz\u001b[39;00m\n",
      "\u001b[1;31mNameError\u001b[0m: name 'np' is not defined"
     ]
    }
   ],
   "source": [
    "h= 6.582119 * 1e-16 #eV * sec \n",
    "Bperpendicular = 10 #mT\n",
    "Bparallel = 10 #mT\n",
    "gammanv = 2*np.pi*28 * 1000000 #Hz/mT\n",
    "omeganv = Bparallel * gammanv\n",
    "omegamw = 1000000000 #Hz\n",
    "Delta = omeganv - omegamw\n",
    "#Delta\n",
    "Omega = Bperpendicular * gammanv\n",
    "Omega"
   ]
  },
  {
   "cell_type": "markdown",
   "id": "05144d08",
   "metadata": {},
   "source": [
    "# Plot pulses"
   ]
  },
  {
   "cell_type": "code",
   "execution_count": 31,
   "id": "c72769a0",
   "metadata": {},
   "outputs": [
    {
     "name": "stdout",
     "output_type": "stream",
     "text": [
      "[array([0.00881101, 0.01139093, 0.01418184, 0.01522794, 0.01647066,\n",
      "       0.01721275, 0.01761659, 0.01518004, 0.0150754 , 0.01574832,\n",
      "       0.0171586 , 0.01524283, 0.01461441, 0.01522038, 0.01632095,\n",
      "       0.01850276, 0.01902292, 0.01848774, 0.01784493, 0.01501612,\n",
      "       0.01495533, 0.01447371, 0.01380955, 0.01420125, 0.01256051,\n",
      "       0.01060425, 0.01056453, 0.01337959, 0.01561763, 0.01761613,\n",
      "       0.0179358 , 0.02014401, 0.0190317 , 0.01841922, 0.02035029,\n",
      "       0.02217628, 0.02034333, 0.01992609, 0.02013031, 0.01997545,\n",
      "       0.02032153, 0.01887737, 0.02109005, 0.02090322, 0.01836902,\n",
      "       0.0174746 , 0.01900112, 0.01697071, 0.0151088 , 0.01565566,\n",
      "       0.01456849, 0.01407857, 0.01287804, 0.01311294, 0.01362312,\n",
      "       0.01417465, 0.01276856, 0.01445683, 0.01659086, 0.01574188,\n",
      "       0.01736403, 0.01889085, 0.02051246, 0.02195411, 0.02321786,\n",
      "       0.02112614, 0.02080259, 0.01930201, 0.01806582, 0.01935728,\n",
      "       0.01835403, 0.01787111, 0.0149964 , 0.01490402, 0.01539846,\n",
      "       0.01695165, 0.01792655, 0.01926888, 0.01884965, 0.01803421,\n",
      "       0.01643597, 0.01612442, 0.01849192, 0.01578626, 0.01611155,\n",
      "       0.01491529, 0.01520613, 0.01358011, 0.01338521, 0.01347845,\n",
      "       0.013609  , 0.01408805, 0.01350616, 0.01465426, 0.0143982 ,\n",
      "       0.01405309, 0.01202303, 0.01174177, 0.01047564, 0.00816041]), array([0.00767535, 0.01041043, 0.01247202, 0.01490642, 0.01524186,\n",
      "       0.01623342, 0.01682372, 0.01639362, 0.01852135, 0.02043882,\n",
      "       0.02092547, 0.01905877, 0.01715102, 0.015921  , 0.01604825,\n",
      "       0.01517649, 0.01264152, 0.01170061, 0.01015758, 0.00951388,\n",
      "       0.00894824, 0.01083523, 0.01329318, 0.01335359, 0.01424893,\n",
      "       0.01449535, 0.01682931, 0.01730159, 0.0182152 , 0.01847975,\n",
      "       0.01815412, 0.01633506, 0.01395213, 0.01283848, 0.01310402,\n",
      "       0.0141515 , 0.01433649, 0.01495893, 0.01343247, 0.01148624,\n",
      "       0.0133558 , 0.01485419, 0.01468052, 0.01630855, 0.01526874,\n",
      "       0.01484407, 0.01235647, 0.01062185, 0.01240969, 0.01446694,\n",
      "       0.01229541, 0.01292383, 0.01566915, 0.0139271 , 0.0135469 ,\n",
      "       0.0139147 , 0.01350925, 0.01593505, 0.01455717, 0.01338272,\n",
      "       0.01370266, 0.01148873, 0.00998433, 0.01221179, 0.01303065,\n",
      "       0.01299999, 0.01523373, 0.01355798, 0.01326208, 0.0129442 ,\n",
      "       0.01373729, 0.01421582, 0.01334673, 0.01260893, 0.01442444,\n",
      "       0.01556825, 0.01389432, 0.01577544, 0.01787715, 0.01841684,\n",
      "       0.01683103, 0.01817701, 0.01775006, 0.01864254, 0.01780478,\n",
      "       0.01726814, 0.01803547, 0.0164229 , 0.0171118 , 0.01798687,\n",
      "       0.02040584, 0.0206578 , 0.02372557, 0.02158852, 0.02145631,\n",
      "       0.02174623, 0.02036585, 0.01895004, 0.01599148, 0.01320456]), array([0.00505135, 0.00808193, 0.00859735, 0.01112683, 0.01217328,\n",
      "       0.01384817, 0.015705  , 0.01710287, 0.01933708, 0.02065558,\n",
      "       0.01858183, 0.01614428, 0.01734405, 0.016706  , 0.01774556,\n",
      "       0.01622746, 0.01486634, 0.01328894, 0.01254642, 0.0116198 ,\n",
      "       0.0122368 , 0.01184547, 0.0124983 , 0.01087975, 0.01144025,\n",
      "       0.01220138, 0.01195719, 0.0126917 , 0.01355126, 0.0139693 ,\n",
      "       0.01427798, 0.01651375, 0.01619944, 0.01715129, 0.01515672,\n",
      "       0.01538025, 0.01516029, 0.01583033, 0.01401985, 0.01282517,\n",
      "       0.01268668, 0.01149452, 0.01230484, 0.01405534, 0.01581955,\n",
      "       0.01729511, 0.01782838, 0.01563763, 0.0162449 , 0.0171721 ,\n",
      "       0.01774396, 0.01927177, 0.01899996, 0.0174733 , 0.01572037,\n",
      "       0.01465693, 0.01395566, 0.01588406, 0.01520932, 0.01574705,\n",
      "       0.01702086, 0.01428917, 0.01328803, 0.01326579, 0.01355061,\n",
      "       0.01502348, 0.01534684, 0.01505864, 0.01580381, 0.01711112,\n",
      "       0.01632426, 0.01651636, 0.01654759, 0.017607  , 0.0188483 ,\n",
      "       0.01881348, 0.02053006, 0.01880333, 0.01721741, 0.01665309,\n",
      "       0.01726737, 0.01798552, 0.01658195, 0.01642609, 0.01669389,\n",
      "       0.01502272, 0.01442255, 0.01609877, 0.01681868, 0.01643528,\n",
      "       0.01436881, 0.01598205, 0.01880522, 0.01867548, 0.01771105,\n",
      "       0.01841363, 0.01654338, 0.01459861, 0.01375403, 0.01188582]), array([0.00627407, 0.00689301, 0.00794153, 0.00989857, 0.0120682 ,\n",
      "       0.01486596, 0.01747161, 0.01741796, 0.0172275 , 0.01543657,\n",
      "       0.01408372, 0.01427418, 0.01578624, 0.01646798, 0.0165154 ,\n",
      "       0.01658522, 0.0148376 , 0.01511437, 0.01681833, 0.01880982,\n",
      "       0.01991535, 0.02001936, 0.01858673, 0.01839079, 0.0185626 ,\n",
      "       0.01598831, 0.01555927, 0.01515157, 0.01555617, 0.01503323,\n",
      "       0.0129074 , 0.01241402, 0.01391675, 0.01193536, 0.01254545,\n",
      "       0.01526653, 0.01528046, 0.01535395, 0.0135766 , 0.01446814,\n",
      "       0.01623584, 0.01640393, 0.0165683 , 0.01889087, 0.01873221,\n",
      "       0.01853862, 0.01959253, 0.01980609, 0.02059035, 0.02091269,\n",
      "       0.01948604, 0.02118385, 0.01944914, 0.01680141, 0.01509233,\n",
      "       0.01394821, 0.01276508, 0.01206308, 0.01260606, 0.01231997,\n",
      "       0.01169232, 0.01077067, 0.01208885, 0.01267754, 0.01157377,\n",
      "       0.01051864, 0.01261384, 0.01270484, 0.01266526, 0.01026135,\n",
      "       0.01148135, 0.01302169, 0.01157278, 0.0116882 , 0.01289868,\n",
      "       0.01325244, 0.01089041, 0.01128012, 0.01064586, 0.01330308,\n",
      "       0.01233123, 0.01236996, 0.01198847, 0.01191121, 0.01362973,\n",
      "       0.01299037, 0.01350249, 0.0134838 , 0.01448724, 0.0137306 ,\n",
      "       0.01462238, 0.01246251, 0.01387834, 0.0154478 , 0.01387162,\n",
      "       0.0155481 , 0.01476209, 0.01423504, 0.01204251, 0.00991945]), array([0.00993604, 0.0110706 , 0.01285451, 0.01431818, 0.01731344,\n",
      "       0.01890114, 0.01918712, 0.02068497, 0.01934949, 0.01700503,\n",
      "       0.01719882, 0.01655687, 0.01578292, 0.01577113, 0.01325018,\n",
      "       0.01411011, 0.01557212, 0.0156505 , 0.01756605, 0.01938897,\n",
      "       0.01821997, 0.01952294, 0.01904258, 0.02058628, 0.02265879,\n",
      "       0.02318272, 0.02088461, 0.02032294, 0.02078098, 0.01964434,\n",
      "       0.02136386, 0.02095097, 0.02121669, 0.01929454, 0.01956892,\n",
      "       0.0181118 , 0.01911888, 0.01967659, 0.01727819, 0.0168468 ,\n",
      "       0.01565594, 0.01471261, 0.01487787, 0.01400265, 0.01353111,\n",
      "       0.0123055 , 0.01284091, 0.01226729, 0.01490197, 0.01693832,\n",
      "       0.01792042, 0.0187005 , 0.01888191, 0.02046496, 0.02009867,\n",
      "       0.02017192, 0.01873548, 0.0176114 , 0.01676241, 0.01473571,\n",
      "       0.01201279, 0.01150062, 0.01257099, 0.01300667, 0.01229607,\n",
      "       0.01315271, 0.01334427, 0.01479085, 0.01353514, 0.01541065,\n",
      "       0.01601464, 0.01598074, 0.01620576, 0.01500345, 0.01423846,\n",
      "       0.01455284, 0.01400078, 0.01234244, 0.01373447, 0.01383478,\n",
      "       0.01339458, 0.01526917, 0.0131858 , 0.01365282, 0.0136581 ,\n",
      "       0.01427206, 0.01445944, 0.0143473 , 0.01400223, 0.01144735,\n",
      "       0.01324265, 0.01299689, 0.01333165, 0.01365492, 0.01462485,\n",
      "       0.01320423, 0.01263515, 0.01152632, 0.00949021, 0.00911834]), array([0.01024358, 0.01222793, 0.01299505, 0.01601836, 0.01740832,\n",
      "       0.01786156, 0.01690162, 0.01762118, 0.01631402, 0.01487121,\n",
      "       0.0148174 , 0.01491525, 0.01680368, 0.01472327, 0.01436296,\n",
      "       0.01630461, 0.0150411 , 0.01382606, 0.01448707, 0.01336498,\n",
      "       0.01410546, 0.01370961, 0.01170512, 0.01275094, 0.01298697,\n",
      "       0.01352326, 0.01599655, 0.01636793, 0.01580123, 0.01548762,\n",
      "       0.01291988, 0.01273166, 0.01296561, 0.01099736, 0.01211657,\n",
      "       0.00947344, 0.00830657, 0.0079562 , 0.00795154, 0.00918248,\n",
      "       0.00941168, 0.00992135, 0.01022377, 0.0107458 , 0.01116285,\n",
      "       0.01152204, 0.01219717, 0.01386912, 0.01389847, 0.01399968,\n",
      "       0.01458246, 0.01292954, 0.0119483 , 0.01260355, 0.01134128,\n",
      "       0.01184163, 0.01266074, 0.01258303, 0.01235141, 0.01216879,\n",
      "       0.01235364, 0.01287171, 0.01311526, 0.01334799, 0.01190512,\n",
      "       0.01371036, 0.01333895, 0.01318951, 0.01336337, 0.01278228,\n",
      "       0.012824  , 0.01211194, 0.01422997, 0.01326958, 0.0138829 ,\n",
      "       0.01239541, 0.01280074, 0.01108469, 0.01381913, 0.01370045,\n",
      "       0.0146043 , 0.01444388, 0.01476045, 0.01657252, 0.01767535,\n",
      "       0.01822676, 0.01569698, 0.01629996, 0.01587505, 0.01616979,\n",
      "       0.01649111, 0.0177794 , 0.01802175, 0.01714852, 0.01588017,\n",
      "       0.01576892, 0.01526352, 0.01416419, 0.01163721, 0.0107424 ]), array([0.00930817, 0.01177724, 0.01232856, 0.01409225, 0.01572166,\n",
      "       0.01788929, 0.018054  , 0.01733435, 0.01808389, 0.01924754,\n",
      "       0.01814697, 0.01604262, 0.01652518, 0.01598291, 0.01672497,\n",
      "       0.016896  , 0.01601721, 0.01669196, 0.01631636, 0.01508728,\n",
      "       0.01434933, 0.01505947, 0.01547807, 0.01454606, 0.01435814,\n",
      "       0.01234975, 0.01150601, 0.00977263, 0.01124604, 0.01053198,\n",
      "       0.01277369, 0.01440044, 0.01367578, 0.0155068 , 0.01627681,\n",
      "       0.01707029, 0.01806217, 0.01756331, 0.01852011, 0.02003722,\n",
      "       0.01954937, 0.019483  , 0.02034699, 0.01989303, 0.01802868,\n",
      "       0.01760135, 0.01657068, 0.01841518, 0.01809878, 0.01890576,\n",
      "       0.01770616, 0.0179321 , 0.01667333, 0.0176926 , 0.0169516 ,\n",
      "       0.01857869, 0.01851719, 0.01622051, 0.01545808, 0.01404155,\n",
      "       0.01504721, 0.01451012, 0.01620879, 0.01547068, 0.01552792,\n",
      "       0.01372213, 0.01259625, 0.01536287, 0.01603179, 0.01504427,\n",
      "       0.01557899, 0.01580784, 0.01496071, 0.01533744, 0.01616396,\n",
      "       0.01655954, 0.01943207, 0.01746947, 0.01529169, 0.01630269,\n",
      "       0.01428741, 0.0128202 , 0.01471185, 0.013086  , 0.01322667,\n",
      "       0.01327424, 0.0113188 , 0.01351297, 0.01482461, 0.0150558 ,\n",
      "       0.01562963, 0.01537214, 0.01368234, 0.0136873 , 0.01291937,\n",
      "       0.01278953, 0.01178666, 0.00865413, 0.00705581, 0.00576054]), array([0.00561193, 0.00722265, 0.00732466, 0.01005924, 0.01034678,\n",
      "       0.01226562, 0.01051377, 0.01175719, 0.01032548, 0.01142795,\n",
      "       0.01272126, 0.01289978, 0.01281713, 0.01035042, 0.01262968,\n",
      "       0.0132402 , 0.01382311, 0.01304177, 0.01443411, 0.01358619,\n",
      "       0.01220863, 0.01150949, 0.01278541, 0.01380863, 0.01125807,\n",
      "       0.0099916 , 0.01160894, 0.01098305, 0.00954323, 0.01119572,\n",
      "       0.01078158, 0.01107649, 0.01144351, 0.01224018, 0.01293259,\n",
      "       0.0145472 , 0.01266879, 0.01476556, 0.01482314, 0.01481686,\n",
      "       0.01748593, 0.01879494, 0.01979099, 0.01883504, 0.01992863,\n",
      "       0.01727296, 0.01908863, 0.0170143 , 0.01719196, 0.01571758,\n",
      "       0.0148779 , 0.01236473, 0.01150683, 0.01155939, 0.01270466,\n",
      "       0.01540323, 0.01467994, 0.01676415, 0.01609926, 0.01806148,\n",
      "       0.01887373, 0.02096688, 0.02066386, 0.02051564, 0.01958644,\n",
      "       0.01745665, 0.01743966, 0.01650355, 0.01696316, 0.016089  ,\n",
      "       0.01596672, 0.01455303, 0.01371388, 0.01334132, 0.0144158 ,\n",
      "       0.01591295, 0.01526689, 0.01534949, 0.01719911, 0.01700537,\n",
      "       0.01736157, 0.01839625, 0.018379  , 0.01831389, 0.01597626,\n",
      "       0.01492277, 0.01538848, 0.01420646, 0.01375265, 0.01421924,\n",
      "       0.01304196, 0.01222152, 0.0141161 , 0.01554219, 0.01753188,\n",
      "       0.01674899, 0.01508549, 0.01494537, 0.01274577, 0.01065737]), array([0.0049996 , 0.00803832, 0.00897489, 0.00995493, 0.01236248,\n",
      "       0.01239185, 0.0135326 , 0.01352072, 0.01358903, 0.01350882,\n",
      "       0.01530441, 0.01399847, 0.01427898, 0.01521112, 0.01491176,\n",
      "       0.01792661, 0.01808014, 0.01881057, 0.01864929, 0.01634286,\n",
      "       0.01457411, 0.01340529, 0.0144992 , 0.0149564 , 0.0139532 ,\n",
      "       0.01237299, 0.01302879, 0.01349948, 0.01380783, 0.01600513,\n",
      "       0.01708191, 0.01695103, 0.01762586, 0.01767565, 0.01901864,\n",
      "       0.02022937, 0.01942628, 0.01817307, 0.0197809 , 0.0195893 ,\n",
      "       0.02034351, 0.02288544, 0.02229182, 0.02151484, 0.01982839,\n",
      "       0.01937294, 0.01957344, 0.02037923, 0.01845513, 0.01871195,\n",
      "       0.01875188, 0.01638549, 0.0171226 , 0.01850482, 0.01848264,\n",
      "       0.01631581, 0.01512142, 0.0147845 , 0.01569109, 0.0149632 ,\n",
      "       0.01347504, 0.01586243, 0.01527642, 0.01257652, 0.01242998,\n",
      "       0.01547931, 0.01680028, 0.01897254, 0.02002274, 0.01908373,\n",
      "       0.01991656, 0.0188401 , 0.01670763, 0.01793664, 0.01925509,\n",
      "       0.01663448, 0.01535958, 0.01383868, 0.01457162, 0.01557154,\n",
      "       0.01605629, 0.01575269, 0.01706218, 0.01711512, 0.0156769 ,\n",
      "       0.01799753, 0.01724802, 0.01615615, 0.01558354, 0.01598571,\n",
      "       0.01357197, 0.01472541, 0.01406902, 0.01251243, 0.01390514,\n",
      "       0.01395793, 0.01383361, 0.01338462, 0.01108422, 0.00878012])]\n"
     ]
    }
   ],
   "source": [
    "##creating initial control pulse values as starting guess for GRAPE\n",
    "\n",
    "u0 = np.array([np.random.rand(len(times)) * 2 * pi * 0.005 for _ in range(len(H_ops))])\n",
    "\n",
    "u0 = [np.convolve(np.ones(10) / 10, u0[idx, :], mode='same') for idx in range(len(H_ops))]\n",
    "print (u0)"
   ]
  },
  {
   "cell_type": "code",
   "execution_count": 21,
   "id": "8342fb7d",
   "metadata": {},
   "outputs": [
    {
     "name": "stdout",
     "output_type": "stream",
     "text": [
      "10.0%. Run time:  10.13s. Est. time left: 00:00:01:31\n",
      "20.0%. Run time:  20.27s. Est. time left: 00:00:01:21\n",
      "30.0%. Run time:  30.40s. Est. time left: 00:00:01:10\n",
      "40.0%. Run time:  40.55s. Est. time left: 00:00:01:00\n",
      "50.0%. Run time:  50.77s. Est. time left: 00:00:00:50\n",
      "60.0%. Run time:  60.98s. Est. time left: 00:00:00:40\n",
      "70.0%. Run time:  71.12s. Est. time left: 00:00:00:30\n",
      "80.0%. Run time:  81.26s. Est. time left: 00:00:00:20\n",
      "90.0%. Run time:  91.40s. Est. time left: 00:00:00:10\n",
      "Total run time: 100.86s\n"
     ]
    }
   ],
   "source": [
    "#doing GRAPE!\n",
    "\n",
    "result = cy_grape_unitary(U, H0, H_ops, R, times, u_start=u0, eps=2 * pi / T, phase_sensitive=False,\n",
    "                          progress_bar=TextProgressBar())\n",
    "\n"
   ]
  },
  {
   "cell_type": "code",
   "execution_count": 30,
   "id": "97f31e2a",
   "metadata": {},
   "outputs": [
    {
     "data": {
      "image/png": "[encoded data removed]",
      "text/plain": [
       "<Figure size 576x1296 with 9 Axes>"
      ]
     },
     "metadata": {
      "needs_background": "light"
     },
     "output_type": "display_data"
    }
   ],
   "source": [
    "plot_grape_control_fields(times, result.u[:, :, :] / (2 * pi), H_labels, uniform_axes=True);\n",
    "plt.savefig(\"NVcenterpluse.jpeg\")\n",
    "plt.show()"
   ]
  },
  {
   "cell_type": "markdown",
   "id": "6e786cb8",
   "metadata": {},
   "source": [
    "# Calcuate fidelity"
   ]
  },
  {
   "cell_type": "code",
   "execution_count": 23,
   "id": "45f4ba5b",
   "metadata": {},
   "outputs": [
    {
     "name": "stdout",
     "output_type": "stream",
     "text": [
      "Quantum object: dims = [[9], [1]], shape = (9, 1), type = ket\n",
      "Qobj data =\n",
      "[[ 0.5+0.j        ]\n",
      " [ 0. +0.j        ]\n",
      " [ 0. +0.j        ]\n",
      " [ 0. -0.70710678j]\n",
      " [ 0. +0.j        ]\n",
      " [ 0. +0.j        ]\n",
      " [-0.5+0.j        ]\n",
      " [ 0. +0.j        ]\n",
      " [ 0. +0.j        ]]\n"
     ]
    }
   ],
   "source": [
    "idealfinalstate=U*startingstate\n",
    "print (idealfinalstate)"
   ]
  },
  {
   "cell_type": "code",
   "execution_count": 24,
   "id": "d83fcdfd",
   "metadata": {},
   "outputs": [
    {
     "data": {
      "text/latex": [
       "Quantum object: dims = [[9], [9]], shape = (9, 9), type = oper, isherm = False $ \\\\ \\left(\\begin{matrix}(0.497-0.049j) & 0.0 & 0.0 & (-0.012-0.707j) & 0.0 & 0.0 & (-0.499+0.017j) & 0.0 & 0.0\\\\0.0 & 0.500 & 0.0 & 0.0 & (0.059-0.705j) & 0.0 & 0.0 & (-0.499-0.033j) & 0.0\\\\0.0 & 0.0 & (0.497-0.049j) & 0.0 & 0.0 & (-0.012-0.707j) & 0.0 & 0.0 & (-0.499+0.017j)\\\\(-0.012-0.707j) & 0.0 & 0.0 & 0.032j & 0.0 & 0.0 & (-0.012-0.706j) & 0.0 & 0.0\\\\0.0 & (0.059-0.705j) & 0.0 & 0.0 & 0.032j & 0.0 & 0.0 & (0.059-0.704j) & 0.0\\\\0.0 & 0.0 & (-0.012-0.707j) & 0.0 & 0.0 & 0.032j & 0.0 & 0.0 & (-0.012-0.706j)\\\\(-0.499+0.017j) & 0.0 & 0.0 & (-0.012-0.706j) & 0.0 & 0.0 & (0.499-0.049j) & 0.0 & 0.0\\\\0.0 & (-0.499-0.033j) & 0.0 & 0.0 & (0.059-0.704j) & 0.0 & 0.0 & 0.502 & 0.0\\\\0.0 & 0.0 & (-0.499+0.017j) & 0.0 & 0.0 & (-0.012-0.706j) & 0.0 & 0.0 & (0.499-0.049j)\\\\\\end{matrix}\\right)$"
      ],
      "text/plain": [
       "Quantum object: dims = [[9], [9]], shape = (9, 9), type = oper, isherm = False\n",
       "Qobj data =\n",
       "[[ 0.49723336-0.04925554j  0.        +0.j          0.        +0.j\n",
       "  -0.01193487-0.70740688j  0.        +0.j          0.        +0.j\n",
       "  -0.49945962+0.01749323j  0.        +0.j          0.        +0.j        ]\n",
       " [ 0.        +0.j          0.49967426+0.j          0.        +0.j\n",
       "   0.        +0.j          0.05888796-0.70503533j  0.        +0.j\n",
       "   0.        +0.j         -0.49872294-0.03252386j  0.        +0.j        ]\n",
       " [ 0.        +0.j          0.        +0.j          0.49727548-0.0489919j\n",
       "   0.        +0.j          0.        +0.j         -0.01164968-0.70737724j\n",
       "   0.        +0.j          0.        +0.j         -0.49949686+0.01736218j]\n",
       " [-0.01186211-0.70741807j  0.        +0.j          0.        +0.j\n",
       "   0.        +0.03175235j  0.        +0.j          0.        +0.j\n",
       "  -0.01173898-0.70588447j  0.        +0.j          0.        +0.j        ]\n",
       " [ 0.        +0.j          0.05886849-0.70504737j  0.        +0.j\n",
       "   0.        +0.j          0.        +0.03158403j  0.        +0.j\n",
       "   0.        +0.j          0.05874553-0.70355048j  0.        +0.j        ]\n",
       " [ 0.        +0.j          0.        +0.j         -0.01176359-0.70738619j\n",
       "   0.        +0.j          0.        +0.j          0.        +0.03175383j\n",
       "   0.        +0.j          0.        +0.j         -0.01183221-0.70591643j]\n",
       " [-0.49945009+0.01736087j  0.        +0.j          0.        +0.j\n",
       "  -0.01162682-0.70589635j  0.        +0.j          0.        +0.j\n",
       "   0.49941583-0.04906259j  0.        +0.j          0.        +0.j        ]\n",
       " [ 0.        +0.j         -0.49870822-0.03252302j  0.        +0.j\n",
       "   0.        +0.j          0.05876553-0.70355932j  0.        +0.j\n",
       "   0.        +0.j          0.5017792 +0.j          0.        +0.j        ]\n",
       " [ 0.        +0.j          0.        +0.j         -0.49947693+0.01749338j\n",
       "   0.        +0.j          0.        +0.j         -0.01190645-0.70592608j\n",
       "   0.        +0.j          0.        +0.j          0.49930968-0.04932752j]]"
      ]
     },
     "execution_count": 24,
     "metadata": {},
     "output_type": "execute_result"
    }
   ],
   "source": [
    "result.U_f.tidyup(1e-2)"
   ]
  },
  {
   "cell_type": "code",
   "execution_count": 25,
   "id": "dfc11651",
   "metadata": {},
   "outputs": [
    {
     "name": "stdout",
     "output_type": "stream",
     "text": [
      "Quantum object: dims = [[9], [1]], shape = (9, 1), type = ket\n",
      "Qobj data =\n",
      "[[ 0.49723336-0.04925554j]\n",
      " [ 0.        +0.j        ]\n",
      " [ 0.        +0.j        ]\n",
      " [-0.01186211-0.70741807j]\n",
      " [ 0.        +0.j        ]\n",
      " [ 0.        +0.j        ]\n",
      " [-0.49945009+0.01736087j]\n",
      " [ 0.        +0.j        ]\n",
      " [ 0.        +0.j        ]]\n"
     ]
    }
   ],
   "source": [
    "realfinalstate=result.U_f*startingstate\n",
    "print (realfinalstate)"
   ]
  },
  {
   "cell_type": "code",
   "execution_count": 26,
   "id": "c21a234f",
   "metadata": {},
   "outputs": [
    {
     "name": "stdout",
     "output_type": "stream",
     "text": [
      "Quantum object: dims = [[9], [9]], shape = (9, 9), type = oper, isherm = True\n",
      "Qobj data =\n",
      "[[ 0.25+0.j          0.  +0.j          0.  +0.j          0.  +0.35355339j\n",
      "   0.  +0.j          0.  +0.j         -0.25+0.j          0.  +0.j\n",
      "   0.  +0.j        ]\n",
      " [ 0.  +0.j          0.  +0.j          0.  +0.j          0.  +0.j\n",
      "   0.  +0.j          0.  +0.j          0.  +0.j          0.  +0.j\n",
      "   0.  +0.j        ]\n",
      " [ 0.  +0.j          0.  +0.j          0.  +0.j          0.  +0.j\n",
      "   0.  +0.j          0.  +0.j          0.  +0.j          0.  +0.j\n",
      "   0.  +0.j        ]\n",
      " [ 0.  -0.35355339j  0.  +0.j          0.  +0.j          0.5 +0.j\n",
      "   0.  +0.j          0.  +0.j          0.  +0.35355339j  0.  +0.j\n",
      "   0.  +0.j        ]\n",
      " [ 0.  +0.j          0.  +0.j          0.  +0.j          0.  +0.j\n",
      "   0.  +0.j          0.  +0.j          0.  +0.j          0.  +0.j\n",
      "   0.  +0.j        ]\n",
      " [ 0.  +0.j          0.  +0.j          0.  +0.j          0.  +0.j\n",
      "   0.  +0.j          0.  +0.j          0.  +0.j          0.  +0.j\n",
      "   0.  +0.j        ]\n",
      " [-0.25+0.j          0.  +0.j          0.  +0.j          0.  -0.35355339j\n",
      "   0.  +0.j          0.  +0.j          0.25+0.j          0.  +0.j\n",
      "   0.  +0.j        ]\n",
      " [ 0.  +0.j          0.  +0.j          0.  +0.j          0.  +0.j\n",
      "   0.  +0.j          0.  +0.j          0.  +0.j          0.  +0.j\n",
      "   0.  +0.j        ]\n",
      " [ 0.  +0.j          0.  +0.j          0.  +0.j          0.  +0.j\n",
      "   0.  +0.j          0.  +0.j          0.  +0.j          0.  +0.j\n",
      "   0.  +0.j        ]]\n",
      "Quantum object: dims = [[9], [9]], shape = (9, 9), type = oper, isherm = True\n",
      "Qobj data =\n",
      "[[ 0.24966712+0.j          0.        +0.j          0.        +0.j\n",
      "   0.02894602+0.35233613j  0.        +0.j          0.        +0.j\n",
      "  -0.24919837+0.01596828j  0.        +0.j          0.        +0.j        ]\n",
      " [ 0.        +0.j          0.        +0.j          0.        +0.j\n",
      "   0.        +0.j          0.        +0.j          0.        +0.j\n",
      "   0.        +0.j          0.        +0.j          0.        +0.j        ]\n",
      " [ 0.        +0.j          0.        +0.j          0.        +0.j\n",
      "   0.        +0.j          0.        +0.j          0.        +0.j\n",
      "   0.        +0.j          0.        +0.j          0.        +0.j        ]\n",
      " [ 0.02894602-0.35233613j  0.        +0.j          0.        +0.j\n",
      "   0.50058103+0.j          0.        +0.j          0.        +0.j\n",
      "  -0.00635686+0.35352596j  0.        +0.j          0.        +0.j        ]\n",
      " [ 0.        +0.j          0.        +0.j          0.        +0.j\n",
      "   0.        +0.j          0.        +0.j          0.        +0.j\n",
      "   0.        +0.j          0.        +0.j          0.        +0.j        ]\n",
      " [ 0.        +0.j          0.        +0.j          0.        +0.j\n",
      "   0.        +0.j          0.        +0.j          0.        +0.j\n",
      "   0.        +0.j          0.        +0.j          0.        +0.j        ]\n",
      " [-0.24919837-0.01596828j  0.        +0.j          0.        +0.j\n",
      "  -0.00635686-0.35352596j  0.        +0.j          0.        +0.j\n",
      "   0.24975179+0.j          0.        +0.j          0.        +0.j        ]\n",
      " [ 0.        +0.j          0.        +0.j          0.        +0.j\n",
      "   0.        +0.j          0.        +0.j          0.        +0.j\n",
      "   0.        +0.j          0.        +0.j          0.        +0.j        ]\n",
      " [ 0.        +0.j          0.        +0.j          0.        +0.j\n",
      "   0.        +0.j          0.        +0.j          0.        +0.j\n",
      "   0.        +0.j          0.        +0.j          0.        +0.j        ]]\n"
     ]
    },
    {
     "data": {
      "text/plain": [
       "0.9994319870197814"
      ]
     },
     "execution_count": 26,
     "metadata": {},
     "output_type": "execute_result"
    }
   ],
   "source": [
    "idealdensitymatrix=(idealfinalstate * idealfinalstate.dag())#ideal density matrix\n",
    "densitymatrix=(realfinalstate * realfinalstate.dag())# real density matrix\n",
    "print (idealdensitymatrix)\n",
    "print (densitymatrix)\n",
    "fidelity(idealdensitymatrix,densitymatrix)"
   ]
  },
  {
   "cell_type": "markdown",
   "id": "374a06f6",
   "metadata": {},
   "source": [
    "# Plotting City Scape\n"
   ]
  },
  {
   "cell_type": "code",
   "execution_count": 29,
   "id": "fa0873ed",
   "metadata": {},
   "outputs": [
    {
     "name": "stdout",
     "output_type": "stream",
     "text": [
      "[[ 0.24966712+0.j          0.        +0.j          0.        +0.j\n",
      "   0.02894602+0.35233613j  0.        +0.j          0.        +0.j\n",
      "  -0.24919837+0.01596828j  0.        +0.j          0.        +0.j        ]\n",
      " [ 0.        +0.j          0.        +0.j          0.        +0.j\n",
      "   0.        +0.j          0.        +0.j          0.        +0.j\n",
      "   0.        +0.j          0.        +0.j          0.        +0.j        ]\n",
      " [ 0.        +0.j          0.        +0.j          0.        +0.j\n",
      "   0.        +0.j          0.        +0.j          0.        +0.j\n",
      "   0.        +0.j          0.        +0.j          0.        +0.j        ]\n",
      " [ 0.02894602-0.35233613j  0.        +0.j          0.        +0.j\n",
      "   0.50058103+0.j          0.        +0.j          0.        +0.j\n",
      "  -0.00635686+0.35352596j  0.        +0.j          0.        +0.j        ]\n",
      " [ 0.        +0.j          0.        +0.j          0.        +0.j\n",
      "   0.        +0.j          0.        +0.j          0.        +0.j\n",
      "   0.        +0.j          0.        +0.j          0.        +0.j        ]\n",
      " [ 0.        +0.j          0.        +0.j          0.        +0.j\n",
      "   0.        +0.j          0.        +0.j          0.        +0.j\n",
      "   0.        +0.j          0.        +0.j          0.        +0.j        ]\n",
      " [-0.24919837-0.01596828j  0.        +0.j          0.        +0.j\n",
      "  -0.00635686-0.35352596j  0.        +0.j          0.        +0.j\n",
      "   0.24975179+0.j          0.        +0.j          0.        +0.j        ]\n",
      " [ 0.        +0.j          0.        +0.j          0.        +0.j\n",
      "   0.        +0.j          0.        +0.j          0.        +0.j\n",
      "   0.        +0.j          0.        +0.j          0.        +0.j        ]\n",
      " [ 0.        +0.j          0.        +0.j          0.        +0.j\n",
      "   0.        +0.j          0.        +0.j          0.        +0.j\n",
      "   0.        +0.j          0.        +0.j          0.        +0.j        ]]\n"
     ]
    },
    {
     "ename": "VisualizationError",
     "evalue": "'Input is not a multi-qubit quantum state.'",
     "output_type": "error",
     "traceback": [
      "\u001b[1;31m---------------------------------------------------------------------------\u001b[0m",
      "\u001b[1;31mVisualizationError\u001b[0m                        Traceback (most recent call last)",
      "Input \u001b[1;32mIn [29]\u001b[0m, in \u001b[0;36m<cell line: 4>\u001b[1;34m()\u001b[0m\n\u001b[0;32m      2\u001b[0m dm\u001b[38;5;241m=\u001b[39mnp\u001b[38;5;241m.\u001b[39marray(densitymatrix)\n\u001b[0;32m      3\u001b[0m \u001b[38;5;28mprint\u001b[39m (dm)\n\u001b[1;32m----> 4\u001b[0m \u001b[43mplot_state_city\u001b[49m\u001b[43m(\u001b[49m\u001b[43mdm\u001b[49m\u001b[43m,\u001b[49m\u001b[43m \u001b[49m\u001b[43mtitle\u001b[49m\u001b[38;5;241;43m=\u001b[39;49m\u001b[38;5;124;43m'\u001b[39;49m\u001b[38;5;124;43mState Tomography for Real State\u001b[39;49m\u001b[38;5;124;43m'\u001b[39;49m\u001b[43m)\u001b[49m\n",
      "File \u001b[1;32m~\\AppData\\Roaming\\Python\\Python39\\site-packages\\qiskit\\utils\\deprecation.py:28\u001b[0m, in \u001b[0;36mdeprecate_arguments.<locals>.decorator.<locals>.wrapper\u001b[1;34m(*args, **kwargs)\u001b[0m\n\u001b[0;32m     26\u001b[0m \u001b[38;5;28;01mif\u001b[39;00m kwargs:\n\u001b[0;32m     27\u001b[0m     _rename_kwargs(func\u001b[38;5;241m.\u001b[39m\u001b[38;5;18m__name__\u001b[39m, kwargs, kwarg_map, category)\n\u001b[1;32m---> 28\u001b[0m \u001b[38;5;28;01mreturn\u001b[39;00m func(\u001b[38;5;241m*\u001b[39margs, \u001b[38;5;241m*\u001b[39m\u001b[38;5;241m*\u001b[39mkwargs)\n",
      "File \u001b[1;32m~\\AppData\\Roaming\\Python\\Python39\\site-packages\\qiskit\\utils\\lazy_tester.py:165\u001b[0m, in \u001b[0;36mLazyDependencyManager.require_in_call.<locals>.out\u001b[1;34m(*args, **kwargs)\u001b[0m\n\u001b[0;32m    162\u001b[0m \u001b[38;5;129m@functools\u001b[39m\u001b[38;5;241m.\u001b[39mwraps(function)\n\u001b[0;32m    163\u001b[0m \u001b[38;5;28;01mdef\u001b[39;00m \u001b[38;5;21mout\u001b[39m(\u001b[38;5;241m*\u001b[39margs, \u001b[38;5;241m*\u001b[39m\u001b[38;5;241m*\u001b[39mkwargs):\n\u001b[0;32m    164\u001b[0m     \u001b[38;5;28mself\u001b[39m\u001b[38;5;241m.\u001b[39mrequire_now(feature)\n\u001b[1;32m--> 165\u001b[0m     \u001b[38;5;28;01mreturn\u001b[39;00m function(\u001b[38;5;241m*\u001b[39margs, \u001b[38;5;241m*\u001b[39m\u001b[38;5;241m*\u001b[39mkwargs)\n",
      "File \u001b[1;32m~\\AppData\\Roaming\\Python\\Python39\\site-packages\\qiskit\\visualization\\state_visualization.py:439\u001b[0m, in \u001b[0;36mplot_state_city\u001b[1;34m(state, title, figsize, color, alpha, ax_real, ax_imag, rho, filename)\u001b[0m\n\u001b[0;32m    437\u001b[0m num \u001b[38;5;241m=\u001b[39m rho\u001b[38;5;241m.\u001b[39mnum_qubits\n\u001b[0;32m    438\u001b[0m \u001b[38;5;28;01mif\u001b[39;00m num \u001b[38;5;129;01mis\u001b[39;00m \u001b[38;5;28;01mNone\u001b[39;00m:\n\u001b[1;32m--> 439\u001b[0m     \u001b[38;5;28;01mraise\u001b[39;00m VisualizationError(\u001b[38;5;124m\"\u001b[39m\u001b[38;5;124mInput is not a multi-qubit quantum state.\u001b[39m\u001b[38;5;124m\"\u001b[39m)\n\u001b[0;32m    441\u001b[0m \u001b[38;5;66;03m# get the real and imag parts of rho\u001b[39;00m\n\u001b[0;32m    442\u001b[0m datareal \u001b[38;5;241m=\u001b[39m np\u001b[38;5;241m.\u001b[39mreal(rho\u001b[38;5;241m.\u001b[39mdata)\n",
      "\u001b[1;31mVisualizationError\u001b[0m: 'Input is not a multi-qubit quantum state.'"
     ]
    }
   ],
   "source": [
    "#plotting cityscape for real density matrix\n",
    "dm=np.array(densitymatrix)\n",
    "print (dm)\n",
    "plot_state_city(dm, title='State Tomography for Real State')"
   ]
  },
  {
   "cell_type": "code",
   "execution_count": 39,
   "id": "ae627330",
   "metadata": {},
   "outputs": [
    {
     "name": "stdout",
     "output_type": "stream",
     "text": [
      "[[0.+0.j 0.+0.j 0.+0.j 0.+0.j 0.+0.j 0.+0.j 0.+0.j 0.+0.j 0.+0.j]\n",
      " [0.+0.j 0.+0.j 0.+0.j 0.+0.j 0.+0.j 0.+0.j 0.+0.j 0.+0.j 0.+0.j]\n",
      " [0.+0.j 0.+0.j 0.+0.j 0.+0.j 0.+0.j 0.+0.j 0.+0.j 0.+0.j 0.+0.j]\n",
      " [0.+0.j 0.+0.j 0.+0.j 0.+0.j 0.+0.j 0.+0.j 0.+0.j 0.+0.j 0.+0.j]\n",
      " [0.+0.j 0.+0.j 0.+0.j 0.+0.j 0.+0.j 0.+0.j 0.+0.j 0.+0.j 0.+0.j]\n",
      " [0.+0.j 0.+0.j 0.+0.j 0.+0.j 0.+0.j 0.+0.j 0.+0.j 0.+0.j 0.+0.j]\n",
      " [0.+0.j 0.+0.j 0.+0.j 0.+0.j 0.+0.j 0.+0.j 0.+0.j 0.+0.j 0.+0.j]\n",
      " [0.+0.j 0.+0.j 0.+0.j 0.+0.j 0.+0.j 0.+0.j 0.+0.j 0.+0.j 0.+0.j]\n",
      " [0.+0.j 0.+0.j 0.+0.j 0.+0.j 0.+0.j 0.+0.j 0.+0.j 0.+0.j 1.+0.j]]\n"
     ]
    },
    {
     "ename": "VisualizationError",
     "evalue": "'Input is not a multi-qubit quantum state.'",
     "output_type": "error",
     "traceback": [
      "\u001b[0;31m---------------------------------------------------------------------------\u001b[0m",
      "\u001b[0;31mVisualizationError\u001b[0m                        Traceback (most recent call last)",
      "\u001b[0;32m/var/folders/kp/62g79wp12_n8fv0_13djdpr40000gn/T/ipykernel_64682/2657582601.py\u001b[0m in \u001b[0;36m<module>\u001b[0;34m\u001b[0m\n\u001b[1;32m      2\u001b[0m \u001b[0midm\u001b[0m\u001b[0;34m=\u001b[0m\u001b[0mnp\u001b[0m\u001b[0;34m.\u001b[0m\u001b[0marray\u001b[0m\u001b[0;34m(\u001b[0m\u001b[0midealdensitymatrix\u001b[0m\u001b[0;34m)\u001b[0m\u001b[0;34m\u001b[0m\u001b[0;34m\u001b[0m\u001b[0m\n\u001b[1;32m      3\u001b[0m \u001b[0mprint\u001b[0m \u001b[0;34m(\u001b[0m\u001b[0midm\u001b[0m\u001b[0;34m)\u001b[0m\u001b[0;34m\u001b[0m\u001b[0;34m\u001b[0m\u001b[0m\n\u001b[0;32m----> 4\u001b[0;31m \u001b[0mplot_state_city\u001b[0m\u001b[0;34m(\u001b[0m\u001b[0midm\u001b[0m\u001b[0;34m,\u001b[0m \u001b[0mtitle\u001b[0m\u001b[0;34m=\u001b[0m\u001b[0;34m'State Tomography for Ideal State'\u001b[0m\u001b[0;34m)\u001b[0m\u001b[0;34m\u001b[0m\u001b[0;34m\u001b[0m\u001b[0m\n\u001b[0m",
      "\u001b[0;32m/opt/anaconda3/lib/python3.9/site-packages/qiskit/utils/deprecation.py\u001b[0m in \u001b[0;36mwrapper\u001b[0;34m(*args, **kwargs)\u001b[0m\n\u001b[1;32m     26\u001b[0m             \u001b[0;32mif\u001b[0m \u001b[0mkwargs\u001b[0m\u001b[0;34m:\u001b[0m\u001b[0;34m\u001b[0m\u001b[0;34m\u001b[0m\u001b[0m\n\u001b[1;32m     27\u001b[0m                 \u001b[0m_rename_kwargs\u001b[0m\u001b[0;34m(\u001b[0m\u001b[0mfunc\u001b[0m\u001b[0;34m.\u001b[0m\u001b[0m__name__\u001b[0m\u001b[0;34m,\u001b[0m \u001b[0mkwargs\u001b[0m\u001b[0;34m,\u001b[0m \u001b[0mkwarg_map\u001b[0m\u001b[0;34m,\u001b[0m \u001b[0mcategory\u001b[0m\u001b[0;34m)\u001b[0m\u001b[0;34m\u001b[0m\u001b[0;34m\u001b[0m\u001b[0m\n\u001b[0;32m---> 28\u001b[0;31m             \u001b[0;32mreturn\u001b[0m \u001b[0mfunc\u001b[0m\u001b[0;34m(\u001b[0m\u001b[0;34m*\u001b[0m\u001b[0margs\u001b[0m\u001b[0;34m,\u001b[0m \u001b[0;34m**\u001b[0m\u001b[0mkwargs\u001b[0m\u001b[0;34m)\u001b[0m\u001b[0;34m\u001b[0m\u001b[0;34m\u001b[0m\u001b[0m\n\u001b[0m\u001b[1;32m     29\u001b[0m \u001b[0;34m\u001b[0m\u001b[0m\n\u001b[1;32m     30\u001b[0m         \u001b[0;32mreturn\u001b[0m \u001b[0mwrapper\u001b[0m\u001b[0;34m\u001b[0m\u001b[0;34m\u001b[0m\u001b[0m\n",
      "\u001b[0;32m/opt/anaconda3/lib/python3.9/site-packages/qiskit/utils/lazy_tester.py\u001b[0m in \u001b[0;36mout\u001b[0;34m(*args, **kwargs)\u001b[0m\n\u001b[1;32m    163\u001b[0m         \u001b[0;32mdef\u001b[0m \u001b[0mout\u001b[0m\u001b[0;34m(\u001b[0m\u001b[0;34m*\u001b[0m\u001b[0margs\u001b[0m\u001b[0;34m,\u001b[0m \u001b[0;34m**\u001b[0m\u001b[0mkwargs\u001b[0m\u001b[0;34m)\u001b[0m\u001b[0;34m:\u001b[0m\u001b[0;34m\u001b[0m\u001b[0;34m\u001b[0m\u001b[0m\n\u001b[1;32m    164\u001b[0m             \u001b[0mself\u001b[0m\u001b[0;34m.\u001b[0m\u001b[0mrequire_now\u001b[0m\u001b[0;34m(\u001b[0m\u001b[0mfeature\u001b[0m\u001b[0;34m)\u001b[0m\u001b[0;34m\u001b[0m\u001b[0;34m\u001b[0m\u001b[0m\n\u001b[0;32m--> 165\u001b[0;31m             \u001b[0;32mreturn\u001b[0m \u001b[0mfunction\u001b[0m\u001b[0;34m(\u001b[0m\u001b[0;34m*\u001b[0m\u001b[0margs\u001b[0m\u001b[0;34m,\u001b[0m \u001b[0;34m**\u001b[0m\u001b[0mkwargs\u001b[0m\u001b[0;34m)\u001b[0m\u001b[0;34m\u001b[0m\u001b[0;34m\u001b[0m\u001b[0m\n\u001b[0m\u001b[1;32m    166\u001b[0m \u001b[0;34m\u001b[0m\u001b[0m\n\u001b[1;32m    167\u001b[0m         \u001b[0;32mreturn\u001b[0m \u001b[0mout\u001b[0m\u001b[0;34m\u001b[0m\u001b[0;34m\u001b[0m\u001b[0m\n",
      "\u001b[0;32m/opt/anaconda3/lib/python3.9/site-packages/qiskit/visualization/state_visualization.py\u001b[0m in \u001b[0;36mplot_state_city\u001b[0;34m(state, title, figsize, color, alpha, ax_real, ax_imag, rho, filename)\u001b[0m\n\u001b[1;32m    413\u001b[0m     \u001b[0mnum\u001b[0m \u001b[0;34m=\u001b[0m \u001b[0mrho\u001b[0m\u001b[0;34m.\u001b[0m\u001b[0mnum_qubits\u001b[0m\u001b[0;34m\u001b[0m\u001b[0;34m\u001b[0m\u001b[0m\n\u001b[1;32m    414\u001b[0m     \u001b[0;32mif\u001b[0m \u001b[0mnum\u001b[0m \u001b[0;32mis\u001b[0m \u001b[0;32mNone\u001b[0m\u001b[0;34m:\u001b[0m\u001b[0;34m\u001b[0m\u001b[0;34m\u001b[0m\u001b[0m\n\u001b[0;32m--> 415\u001b[0;31m         \u001b[0;32mraise\u001b[0m \u001b[0mVisualizationError\u001b[0m\u001b[0;34m(\u001b[0m\u001b[0;34m\"Input is not a multi-qubit quantum state.\"\u001b[0m\u001b[0;34m)\u001b[0m\u001b[0;34m\u001b[0m\u001b[0;34m\u001b[0m\u001b[0m\n\u001b[0m\u001b[1;32m    416\u001b[0m \u001b[0;34m\u001b[0m\u001b[0m\n\u001b[1;32m    417\u001b[0m     \u001b[0;31m# get the real and imag parts of rho\u001b[0m\u001b[0;34m\u001b[0m\u001b[0;34m\u001b[0m\u001b[0m\n",
      "\u001b[0;31mVisualizationError\u001b[0m: 'Input is not a multi-qubit quantum state.'"
     ]
    }
   ],
   "source": [
    "#plotting cityscape for ideal density matrix\n",
    "idm=np.array(idealdensitymatrix)\n",
    "print (idm)\n",
    "plot_state_city(idm, title='State Tomography for Ideal State')"
   ]
  },
  {
   "cell_type": "code",
   "execution_count": null,
   "id": "bf2afec2",
   "metadata": {},
   "outputs": [],
   "source": []
  }
 ],
 "metadata": {
  "kernelspec": {
   "display_name": "Python 3 (ipykernel)",
   "language": "python",
   "name": "python3"
  },
  "language_info": {
   "codemirror_mode": {
    "name": "ipython",
    "version": 3
   },
   "file_extension": ".py",
   "mimetype": "text/x-python",
   "name": "python",
   "nbconvert_exporter": "python",
   "pygments_lexer": "ipython3",
   "version": "3.9.12"
  }
 },
 "nbformat": 4,
 "nbformat_minor": 5
}
