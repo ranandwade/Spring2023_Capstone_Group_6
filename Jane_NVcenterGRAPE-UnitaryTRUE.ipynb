{
 "cells": [
  {
   "cell_type": "code",
   "execution_count": 52,
   "id": "90356ed2",
   "metadata": {},
   "outputs": [],
   "source": [
    "import matplotlib.pyplot as plt\n",
    "import time\n",
    "import numpy as np\n",
    "from numpy import pi\n",
    "\n",
    "from qutip import *\n",
    "from qutip.control import *\n",
    "from qutip.qip.operations import rx\n",
    "from qutip.qip.operations import ry\n",
    "from qutip.qip.operations import rz\n",
    "\n",
    "from qutip.control.grape import plot_grape_control_fields, _overlap\n",
    "from qutip.control.cy_grape import cy_overlap\n",
    "from qutip.control.grape import cy_grape_unitary, grape_unitary_adaptive\n",
    "\n",
    "from scipy.interpolate import interp1d\n",
    "from qutip.ui.progressbar import TextProgressBar\n",
    "from dataclasses import dataclass\n",
    "from typing import List, Tuple, Sequence\n",
    "\n",
    "import matplotlib.pyplot as plt\n",
    "import numpy as np\n",
    "import plotly.graph_objs as go\n",
    "import plotly.express as px\n",
    "\n",
    "from scipy.constants import physical_constants, h\n",
    "\n",
    "from qutip import jmat, tensor, identity, Qobj\n",
    "\n",
    "from scipy.interpolate import interp1d\n",
    "from qutip.ui.progressbar import TextProgressBar\n",
    "from qiskit.visualization import plot_state_city\n",
    "from qiskit.visualization import plot_bloch_multivector"
   ]
  },
  {
   "cell_type": "markdown",
   "id": "02f55882",
   "metadata": {},
   "source": [
    "# Finding Pulse Sequence"
   ]
  },
  {
   "cell_type": "markdown",
   "id": "62678ac8",
   "metadata": {},
   "source": [
    "### Setting beginning and ending states\n",
    "### setting desired U value"
   ]
  },
  {
   "cell_type": "code",
   "execution_count": 58,
   "id": "c0d049a4",
   "metadata": {},
   "outputs": [
    {
     "name": "stdout",
     "output_type": "stream",
     "text": [
      "Quantum object: dims = [[9], [1]], shape = (9, 1), type = ket\n",
      "Qobj data =\n",
      "[[1.]\n",
      " [0.]\n",
      " [0.]\n",
      " [0.]\n",
      " [0.]\n",
      " [0.]\n",
      " [0.]\n",
      " [0.]\n",
      " [0.]]\n",
      "Quantum object: dims = [[9], [1]], shape = (9, 1), type = ket\n",
      "Qobj data =\n",
      "[[0.]\n",
      " [0.]\n",
      " [0.]\n",
      " [0.]\n",
      " [0.]\n",
      " [0.]\n",
      " [0.]\n",
      " [0.]\n",
      " [1.]]\n"
     ]
    },
    {
     "data": {
      "text/latex": [
       "Quantum object: dims = [[9], [9]], shape = (9, 9), type = oper, isherm = False $ \\\\ \\left(\\begin{matrix}0.0 & 0.0 & 0.0 & 0.0 & 0.0 & 0.0 & 0.0 & 0.0 & 0.0\\\\0.0 & 0.0 & 0.0 & 0.0 & 0.0 & 0.0 & 0.0 & 0.0 & 0.0\\\\0.0 & 0.0 & 0.0 & 0.0 & 0.0 & 0.0 & 0.0 & 0.0 & 0.0\\\\0.0 & 0.0 & 0.0 & 0.0 & 0.0 & 0.0 & 0.0 & 0.0 & 0.0\\\\0.0 & 0.0 & 0.0 & 0.0 & 0.0 & 0.0 & 0.0 & 0.0 & 0.0\\\\0.0 & 0.0 & 0.0 & 0.0 & 0.0 & 0.0 & 0.0 & 0.0 & 0.0\\\\0.0 & 0.0 & 0.0 & 0.0 & 0.0 & 0.0 & 0.0 & 0.0 & 0.0\\\\0.0 & 0.0 & 0.0 & 0.0 & 0.0 & 0.0 & 0.0 & 0.0 & 0.0\\\\1.0 & 0.0 & 0.0 & 0.0 & 0.0 & 0.0 & 0.0 & 0.0 & 0.0\\\\\\end{matrix}\\right)$"
      ],
      "text/plain": [
       "Quantum object: dims = [[9], [9]], shape = (9, 9), type = oper, isherm = False\n",
       "Qobj data =\n",
       "[[0. 0. 0. 0. 0. 0. 0. 0. 0.]\n",
       " [0. 0. 0. 0. 0. 0. 0. 0. 0.]\n",
       " [0. 0. 0. 0. 0. 0. 0. 0. 0.]\n",
       " [0. 0. 0. 0. 0. 0. 0. 0. 0.]\n",
       " [0. 0. 0. 0. 0. 0. 0. 0. 0.]\n",
       " [0. 0. 0. 0. 0. 0. 0. 0. 0.]\n",
       " [0. 0. 0. 0. 0. 0. 0. 0. 0.]\n",
       " [0. 0. 0. 0. 0. 0. 0. 0. 0.]\n",
       " [1. 0. 0. 0. 0. 0. 0. 0. 0.]]"
      ]
     },
     "execution_count": 58,
     "metadata": {},
     "output_type": "execute_result"
    }
   ],
   "source": [
    "qubit1state=basis(3, 0)\n",
    "qubit2state=basis(3, 0)\n",
    "startingstate=tensor(qubit1state,qubit1state) #initial state\n",
    "endingstate= tensor(basis(3,2),basis(3,2))\n",
    "startingstate.dims=[[9],[1]]\n",
    "endingstate.dims=[[9],[1]]\n",
    "print (startingstate)\n",
    "print (endingstate)\n",
    "\n",
    "U=endingstate * startingstate.dag()\n",
    "U.dims=[[9],[9]]\n",
    "U"
   ]
  },
  {
   "cell_type": "markdown",
   "id": "45166508",
   "metadata": {},
   "source": [
    "## Defining 3x3 pauli spin matrices \n",
    "## Definiting number of iterations\n",
    "## Defining H_ops"
   ]
  },
  {
   "cell_type": "code",
   "execution_count": 59,
   "id": "2ddca87e",
   "metadata": {},
   "outputs": [],
   "source": [
    "\n",
    "R = 150 #GRAPE itterations\n",
    "\n",
    "T = 1\n",
    "times = np.linspace(0, T, 100)\n",
    "\n",
    "\n",
    "#wirting our terms so I can actually read the hamiltonian\n",
    "#Nuc terms are second qubit\n",
    "#Elec qubit is first qubit\n",
    "nuclear_spin = 1\n",
    "electron_spin = 1\n",
    "\n",
    "sigmaxE = jmat(electron_spin,'x')\n",
    "sigmayE = jmat(electron_spin,'y')\n",
    "sigmazE = jmat(electron_spin,'z')\n",
    "sigmaxN = jmat(nuclear_spin,'x')\n",
    "sigmayN = jmat(nuclear_spin,'y')\n",
    "sigmazN = jmat(nuclear_spin,'y')\n",
    "sigmazEsquared = sigmazE*sigmazE\n",
    "sigmazNsquared = sigmazN*sigmazN\n",
    "identity3 = identity(3) #3x3 identity matrix\n",
    "\n",
    "\n",
    "\n",
    "#Creating operators that can be tuned in the Hamiltonian via the control fields, list is below called H_ops\n",
    "\n",
    "H_opsEx=tensor(sigmaxE, identity3)\n",
    "H_opsEy=tensor(sigmayE, identity3)\n",
    "H_opsEz=tensor(sigmazE, identity3)\n",
    "\n",
    "H_opsNx=tensor(identity3, sigmaxN)\n",
    "H_opsNy=tensor(identity3, sigmayN)\n",
    "H_opsNz=tensor(identity3, sigmazN)\n",
    "\n",
    "H_opsENx = tensor(sigmaxE, sigmaxN)\n",
    "H_opsENy = tensor(sigmayE, sigmayN)           \n",
    "H_opsENz = tensor(sigmazE, sigmazN)\n",
    "\n",
    "\n",
    "#changing dims bc qutip is silly\n",
    "\n",
    "H_opsEx.dims=[[9],[9]]\n",
    "H_opsEy.dims=[[9],[9]]\n",
    "H_opsEz.dims=[[9],[9]]\n",
    "\n",
    "H_opsNx.dims=[[9],[9]]\n",
    "H_opsNy.dims=[[9],[9]]\n",
    "H_opsNz.dims=[[9],[9]]\n",
    "\n",
    "H_opsENx.dims=[[9],[9]]\n",
    "H_opsENy.dims=[[9],[9]]\n",
    "H_opsENz.dims=[[9],[9]] \n",
    "\n",
    "\n",
    "#making H_ops list           \n",
    "H_ops = [H_opsEx, H_opsEy, H_opsEz, H_opsNx, H_opsNy, H_opsNz, H_opsENx, H_opsENy, H_opsENz]            \n",
    "               \n",
    "               \n",
    "#making labels for pulse sequence graphs\n",
    "H_labels = [r'$uE_{x}$',\n",
    "            r'$uE_{y}$',\n",
    "            r'$uE_{z}$',\n",
    "            r'$uN_{x}$',\n",
    "            r'$uN_{y}$',\n",
    "            r'$uN_{z}$',\n",
    "            r'$uEN_{x}$',\n",
    "            r'$uEN_{y}$',\n",
    "            r'$uEN_{z}$']\n"
   ]
  },
  {
   "cell_type": "markdown",
   "id": "587c4893",
   "metadata": {},
   "source": [
    "# Defining hamiltonian and constants "
   ]
  },
  {
   "cell_type": "code",
   "execution_count": 60,
   "id": "43f769bc",
   "metadata": {},
   "outputs": [
    {
     "data": {
      "text/latex": [
       "Quantum object: dims = [[9], [9]], shape = (9, 9), type = oper, isherm = True $ \\\\ \\left(\\begin{matrix}9.567\\times10^{+08} & 0.0 & 0.0 & 0.0 & 0.0 & 0.0 & 0.0 & 0.0 & 0.0\\\\0.0 & 9.567\\times10^{+08} & 0.0 & 0.0 & 0.0 & 0.0 & 0.0 & 0.0 & 0.0\\\\0.0 & 0.0 & 9.567\\times10^{+08} & 0.0 & 0.0 & 0.0 & 0.0 & 0.0 & 0.0\\\\0.0 & 0.0 & 0.0 & -1.913\\times10^{+09} & 0.0 & 0.0 & 0.0 & 0.0 & 0.0\\\\0.0 & 0.0 & 0.0 & 0.0 & -1.913\\times10^{+09} & 0.0 & 0.0 & 0.0 & 0.0\\\\0.0 & 0.0 & 0.0 & 0.0 & 0.0 & -1.913\\times10^{+09} & 0.0 & 0.0 & 0.0\\\\0.0 & 0.0 & 0.0 & 0.0 & 0.0 & 0.0 & 9.567\\times10^{+08} & 0.0 & 0.0\\\\0.0 & 0.0 & 0.0 & 0.0 & 0.0 & 0.0 & 0.0 & 9.567\\times10^{+08} & 0.0\\\\0.0 & 0.0 & 0.0 & 0.0 & 0.0 & 0.0 & 0.0 & 0.0 & 9.567\\times10^{+08}\\\\\\end{matrix}\\right)$"
      ],
      "text/plain": [
       "Quantum object: dims = [[9], [9]], shape = (9, 9), type = oper, isherm = True\n",
       "Qobj data =\n",
       "[[ 9.56666667e+08  0.00000000e+00  0.00000000e+00  0.00000000e+00\n",
       "   0.00000000e+00  0.00000000e+00  0.00000000e+00  0.00000000e+00\n",
       "   0.00000000e+00]\n",
       " [ 0.00000000e+00  9.56666667e+08  0.00000000e+00  0.00000000e+00\n",
       "   0.00000000e+00  0.00000000e+00  0.00000000e+00  0.00000000e+00\n",
       "   0.00000000e+00]\n",
       " [ 0.00000000e+00  0.00000000e+00  9.56666667e+08  0.00000000e+00\n",
       "   0.00000000e+00  0.00000000e+00  0.00000000e+00  0.00000000e+00\n",
       "   0.00000000e+00]\n",
       " [ 0.00000000e+00  0.00000000e+00  0.00000000e+00 -1.91333333e+09\n",
       "   0.00000000e+00  0.00000000e+00  0.00000000e+00  0.00000000e+00\n",
       "   0.00000000e+00]\n",
       " [ 0.00000000e+00  0.00000000e+00  0.00000000e+00  0.00000000e+00\n",
       "  -1.91333333e+09  0.00000000e+00  0.00000000e+00  0.00000000e+00\n",
       "   0.00000000e+00]\n",
       " [ 0.00000000e+00  0.00000000e+00  0.00000000e+00  0.00000000e+00\n",
       "   0.00000000e+00 -1.91333333e+09  0.00000000e+00  0.00000000e+00\n",
       "   0.00000000e+00]\n",
       " [ 0.00000000e+00  0.00000000e+00  0.00000000e+00  0.00000000e+00\n",
       "   0.00000000e+00  0.00000000e+00  9.56666667e+08  0.00000000e+00\n",
       "   0.00000000e+00]\n",
       " [ 0.00000000e+00  0.00000000e+00  0.00000000e+00  0.00000000e+00\n",
       "   0.00000000e+00  0.00000000e+00  0.00000000e+00  9.56666667e+08\n",
       "   0.00000000e+00]\n",
       " [ 0.00000000e+00  0.00000000e+00  0.00000000e+00  0.00000000e+00\n",
       "   0.00000000e+00  0.00000000e+00  0.00000000e+00  0.00000000e+00\n",
       "   9.56666667e+08]]"
      ]
     },
     "execution_count": 60,
     "metadata": {},
     "output_type": "execute_result"
    }
   ],
   "source": [
    "#defining hamiltonian for NV center\n",
    "\n",
    "#constants\n",
    "\n",
    "f_fine_structure = 2.87e9\n",
    "f_nuclear_quadrupole = -5.01e6\n",
    "f_axial_magnetic_hyperfine = -2.14E6\n",
    "f_transverse_magnetic_hyperfine = -2.7E6\n",
    "g_factor_electron = 2.0028\n",
    "gyromagnetic_constant_nuclear = 1.93297E7 / (2 * np.pi)\n",
    "uB = physical_constants['Bohr magneton'][0]\n",
    "uN = physical_constants['nuclear magneton'][0]    \n",
    "bvector=[0,0,1]\n",
    "\n",
    "\n",
    "\n",
    "\n",
    "\n",
    "#witing out hamiltonian terms\n",
    "\n",
    "H1 = f_fine_structure * tensor((sigmazEsquared-(2/3)*identity3),identity3)\n",
    "\n",
    "H2 = f_axial_magnetic_hyperfine * tensor(sigmazE,sigmazN) \n",
    "\n",
    "#H3 = f_transverse_magnetic_hyperfine * (tensor(sigmaxE,sigmaxN)+tensor(sigmayE,sigmayN))\n",
    "\n",
    "#H4 = f_nuclear_quadrupole * tensor(tensor(identity3), (sigmazNsquared-(2/3)*identity3))\n",
    "\n",
    "#H5 = (uB * g_factor_electron) * tensor((sigmaxE*bvector[0] + sigmayE*bvector[1] + sigmazE*bvector[2]), identity3)\n",
    "\n",
    "#H6 = gyromagnetic_constant_nuclear * tensor(identity3,(sigmaxN*bvector[0] + sigmayN*bvector[1] + sigmazN*bvector[2]))\n",
    "          \n",
    "    \n",
    "H0= H1 #+H2+H3+H4+H5+H6\n",
    "H0.dims=[[9],[9]] #changing dimensions bc dot products are silly\n",
    "H0 #hamiltonian without b field term\n",
    "\n"
   ]
  },
  {
   "cell_type": "markdown",
   "id": "05144d08",
   "metadata": {},
   "source": [
    "# Plot pulses"
   ]
  },
  {
   "cell_type": "code",
   "execution_count": 61,
   "id": "c72769a0",
   "metadata": {},
   "outputs": [],
   "source": [
    "##creating initial control pulse values as starting guess for GRAPE\n",
    "\n",
    "u0 = np.array([np.random.rand(len(times)) * 2 * pi * 0.005 for _ in range(len(H_ops))])\n",
    "\n",
    "u0 = [np.convolve(np.ones(10) / 10, u0[idx, :], mode='same') for idx in range(len(H_ops))]\n"
   ]
  },
  {
   "cell_type": "code",
   "execution_count": 62,
   "id": "8342fb7d",
   "metadata": {},
   "outputs": [
    {
     "name": "stdout",
     "output_type": "stream",
     "text": [
      "10.0%. Run time:  11.31s. Est. time left: 00:00:01:41\n",
      "20.0%. Run time:  21.89s. Est. time left: 00:00:01:27\n",
      "30.0%. Run time:  32.32s. Est. time left: 00:00:01:15\n",
      "40.0%. Run time:  42.76s. Est. time left: 00:00:01:04\n",
      "50.0%. Run time:  53.21s. Est. time left: 00:00:00:53\n",
      "60.0%. Run time:  63.64s. Est. time left: 00:00:00:42\n",
      "70.0%. Run time:  74.11s. Est. time left: 00:00:00:31\n",
      "80.0%. Run time:  85.41s. Est. time left: 00:00:00:21\n",
      "90.0%. Run time:  96.30s. Est. time left: 00:00:00:10\n",
      "Total run time: 106.02s\n"
     ]
    }
   ],
   "source": [
    "#doing GRAPE!\n",
    "\n",
    "result = cy_grape_unitary(U, H0, H_ops, R, times, u_start=u0, eps=2 * pi / T, phase_sensitive=True,\n",
    "                          progress_bar=TextProgressBar())"
   ]
  },
  {
   "cell_type": "code",
   "execution_count": 63,
   "id": "97f31e2a",
   "metadata": {},
   "outputs": [
    {
     "data": {
      "image/png": "[encoded data removed]",
      "text/plain": [
       "<Figure size 576x1296 with 9 Axes>"
      ]
     },
     "metadata": {
      "needs_background": "light"
     },
     "output_type": "display_data"
    }
   ],
   "source": [
    "plot_grape_control_fields(times, result.u[:, :, :] / (2 * pi), H_labels, uniform_axes=True);\n",
    "plt.show()"
   ]
  },
  {
   "cell_type": "markdown",
   "id": "6e786cb8",
   "metadata": {},
   "source": [
    "# Calcuate overlap (is this fidelity?)"
   ]
  },
  {
   "cell_type": "code",
   "execution_count": 64,
   "id": "45f4ba5b",
   "metadata": {},
   "outputs": [
    {
     "name": "stdout",
     "output_type": "stream",
     "text": [
      "Quantum object: dims = [[9], [1]], shape = (9, 1), type = ket\n",
      "Qobj data =\n",
      "[[0.]\n",
      " [0.]\n",
      " [0.]\n",
      " [0.]\n",
      " [0.]\n",
      " [0.]\n",
      " [0.]\n",
      " [0.]\n",
      " [1.]]\n"
     ]
    }
   ],
   "source": [
    "idealfinalstate=U*startingstate\n",
    "print (idealfinalstate)"
   ]
  },
  {
   "cell_type": "code",
   "execution_count": 65,
   "id": "d83fcdfd",
   "metadata": {},
   "outputs": [
    {
     "data": {
      "text/latex": [
       "Quantum object: dims = [[9], [9]], shape = (9, 9), type = oper, isherm = False $ \\\\ \\left(\\begin{matrix}(0.784+0.620j) & (-0.019-0.028j) & 0.0 & 0.0 & 0.0 & 0.0 & 0.0 & 0.0 & 0.0\\\\(0.032+0.012j) & (0.783+0.620j) & (-0.019-0.028j) & 0.0 & 0.0 & 0.0 & 0.0 & 0.0 & 0.0\\\\0.0 & (0.032+0.012j) & (0.784+0.620j) & 0.0 & 0.0 & 0.0 & 0.0 & 0.0 & 0.0\\\\0.0 & 0.0 & 0.0 & (0.203-0.979j) & (-0.015+0.020j) & 0.0 & 0.0 & 0.0 & 0.0\\\\0.0 & 0.0 & 0.0 & -0.024j & (0.203-0.979j) & (-0.015+0.020j) & 0.0 & 0.0 & 0.0\\\\0.0 & 0.0 & 0.0 & 0.0 & -0.024j & (0.203-0.979j) & 0.0 & 0.0 & 0.0\\\\0.0 & 0.0 & 0.0 & 0.0 & 0.0 & 0.0 & (0.767+0.642j) & -0.016j & 0.0\\\\0.0 & 0.0 & 0.0 & 0.0 & 0.0 & 0.0 & 0.016 & (0.766+0.642j) & -0.016j\\\\0.0 & 0.0 & 0.0 & 0.0 & 0.0 & 0.0 & 0.0 & 0.016 & (0.767+0.642j)\\\\\\end{matrix}\\right)$"
      ],
      "text/plain": [
       "Quantum object: dims = [[9], [9]], shape = (9, 9), type = oper, isherm = False\n",
       "Qobj data =\n",
       "[[ 0.78368086+0.62022662j -0.01888226-0.02839682j  0.        +0.j\n",
       "   0.        +0.j          0.        +0.j          0.        +0.j\n",
       "   0.        +0.j          0.        +0.j          0.        +0.j        ]\n",
       " [ 0.03197529+0.01185327j  0.78322438+0.6198659j  -0.01888225-0.02839682j\n",
       "   0.        +0.j          0.        +0.j          0.        +0.j\n",
       "   0.        +0.j          0.        +0.j          0.        +0.j        ]\n",
       " [ 0.        +0.j          0.03197528+0.01185328j  0.78368032+0.62022729j\n",
       "   0.        +0.j          0.        +0.j          0.        +0.j\n",
       "   0.        +0.j          0.        +0.j          0.        +0.j        ]\n",
       " [ 0.        +0.j          0.        +0.j          0.        +0.j\n",
       "   0.20268172-0.9789293j  -0.01489197+0.01988662j  0.        +0.j\n",
       "   0.        +0.j          0.        +0.j          0.        +0.j        ]\n",
       " [ 0.        +0.j          0.        +0.j          0.        +0.j\n",
       "   0.        -0.02416485j  0.20261959-0.9786269j  -0.01489198+0.01988661j\n",
       "   0.        +0.j          0.        +0.j          0.        +0.j        ]\n",
       " [ 0.        +0.j          0.        +0.j          0.        +0.j\n",
       "   0.        +0.j          0.        -0.02416485j  0.20268264-0.97892911j\n",
       "   0.        +0.j          0.        +0.j          0.        +0.j        ]\n",
       " [ 0.        +0.j          0.        +0.j          0.        +0.j\n",
       "   0.        +0.j          0.        +0.j          0.        +0.j\n",
       "   0.76657642+0.64194366j  0.        -0.01614896j  0.        +0.j        ]\n",
       " [ 0.        +0.j          0.        +0.j          0.        +0.j\n",
       "   0.        +0.j          0.        +0.j          0.        +0.j\n",
       "   0.0163983 +0.j          0.766473  +0.64185772j  0.        -0.01614896j]\n",
       " [ 0.        +0.j          0.        +0.j          0.        +0.j\n",
       "   0.        +0.j          0.        +0.j          0.        +0.j\n",
       "   0.        +0.j          0.0163983 +0.j          0.76657577+0.64194444j]]"
      ]
     },
     "execution_count": 65,
     "metadata": {},
     "output_type": "execute_result"
    }
   ],
   "source": [
    "result.U_f.tidyup(1e-2)"
   ]
  },
  {
   "cell_type": "code",
   "execution_count": 66,
   "id": "dfc11651",
   "metadata": {},
   "outputs": [
    {
     "name": "stdout",
     "output_type": "stream",
     "text": [
      "Quantum object: dims = [[9], [1]], shape = (9, 1), type = ket\n",
      "Qobj data =\n",
      "[[0.78368086+0.62022662j]\n",
      " [0.03197529+0.01185327j]\n",
      " [0.        +0.j        ]\n",
      " [0.        +0.j        ]\n",
      " [0.        +0.j        ]\n",
      " [0.        +0.j        ]\n",
      " [0.        +0.j        ]\n",
      " [0.        +0.j        ]\n",
      " [0.        +0.j        ]]\n"
     ]
    }
   ],
   "source": [
    "realfinalstate=result.U_f*startingstate\n",
    "print (realfinalstate)"
   ]
  },
  {
   "cell_type": "code",
   "execution_count": 67,
   "id": "c21a234f",
   "metadata": {},
   "outputs": [
    {
     "name": "stdout",
     "output_type": "stream",
     "text": [
      "Quantum object: dims = [[9], [9]], shape = (9, 9), type = oper, isherm = True\n",
      "Qobj data =\n",
      "[[0. 0. 0. 0. 0. 0. 0. 0. 0.]\n",
      " [0. 0. 0. 0. 0. 0. 0. 0. 0.]\n",
      " [0. 0. 0. 0. 0. 0. 0. 0. 0.]\n",
      " [0. 0. 0. 0. 0. 0. 0. 0. 0.]\n",
      " [0. 0. 0. 0. 0. 0. 0. 0. 0.]\n",
      " [0. 0. 0. 0. 0. 0. 0. 0. 0.]\n",
      " [0. 0. 0. 0. 0. 0. 0. 0. 0.]\n",
      " [0. 0. 0. 0. 0. 0. 0. 0. 0.]\n",
      " [0. 0. 0. 0. 0. 0. 0. 0. 1.]]\n",
      "Quantum object: dims = [[9], [9]], shape = (9, 9), type = oper, isherm = True\n",
      "Qobj data =\n",
      "[[0.99883674+0.j         0.03241013+0.01054275j 0.        +0.j\n",
      "  0.        +0.j         0.        +0.j         0.        +0.j\n",
      "  0.        +0.j         0.        +0.j         0.        +0.j        ]\n",
      " [0.03241013-0.01054275j 0.00116292+0.j         0.        +0.j\n",
      "  0.        +0.j         0.        +0.j         0.        +0.j\n",
      "  0.        +0.j         0.        +0.j         0.        +0.j        ]\n",
      " [0.        +0.j         0.        +0.j         0.        +0.j\n",
      "  0.        +0.j         0.        +0.j         0.        +0.j\n",
      "  0.        +0.j         0.        +0.j         0.        +0.j        ]\n",
      " [0.        +0.j         0.        +0.j         0.        +0.j\n",
      "  0.        +0.j         0.        +0.j         0.        +0.j\n",
      "  0.        +0.j         0.        +0.j         0.        +0.j        ]\n",
      " [0.        +0.j         0.        +0.j         0.        +0.j\n",
      "  0.        +0.j         0.        +0.j         0.        +0.j\n",
      "  0.        +0.j         0.        +0.j         0.        +0.j        ]\n",
      " [0.        +0.j         0.        +0.j         0.        +0.j\n",
      "  0.        +0.j         0.        +0.j         0.        +0.j\n",
      "  0.        +0.j         0.        +0.j         0.        +0.j        ]\n",
      " [0.        +0.j         0.        +0.j         0.        +0.j\n",
      "  0.        +0.j         0.        +0.j         0.        +0.j\n",
      "  0.        +0.j         0.        +0.j         0.        +0.j        ]\n",
      " [0.        +0.j         0.        +0.j         0.        +0.j\n",
      "  0.        +0.j         0.        +0.j         0.        +0.j\n",
      "  0.        +0.j         0.        +0.j         0.        +0.j        ]\n",
      " [0.        +0.j         0.        +0.j         0.        +0.j\n",
      "  0.        +0.j         0.        +0.j         0.        +0.j\n",
      "  0.        +0.j         0.        +0.j         0.        +0.j        ]]\n"
     ]
    },
    {
     "data": {
      "text/plain": [
       "0.0"
      ]
     },
     "execution_count": 67,
     "metadata": {},
     "output_type": "execute_result"
    }
   ],
   "source": [
    "idealdensitymatrix=(idealfinalstate * idealfinalstate.dag())#ideal density matrix\n",
    "densitymatrix=(realfinalstate * realfinalstate.dag())# real density matrix\n",
    "print (idealdensitymatrix)\n",
    "print (densitymatrix)\n",
    "fidelity(idealdensitymatrix,densitymatrix)"
   ]
  },
  {
   "cell_type": "markdown",
   "id": "374a06f6",
   "metadata": {},
   "source": [
    "# Plotting City Scape\n"
   ]
  },
  {
   "cell_type": "code",
   "execution_count": 55,
   "id": "fa0873ed",
   "metadata": {},
   "outputs": [
    {
     "name": "stdout",
     "output_type": "stream",
     "text": [
      "[[ 0.15081582+0.j          0.14160228+0.02722125j -0.17380785-0.06234141j\n",
      "   0.        +0.j          0.        +0.j          0.        +0.j\n",
      "   0.18205341-0.05762696j  0.        +0.j          0.18229072-0.05905361j]\n",
      " [ 0.14160228-0.02722125j  0.13786487+0.j         -0.17444192-0.02716173j\n",
      "   0.        +0.j          0.        +0.j          0.        +0.j\n",
      "   0.16053025-0.08696588j  0.        +0.j          0.16049556-0.0883482j ]\n",
      " [-0.17380785+0.06234141j -0.17444192+0.02716173j  0.22607457+0.j\n",
      "   0.        +0.j          0.        +0.j          0.        +0.j\n",
      "  -0.1859869 +0.14166607j  0.        +0.j         -0.18567067+0.1434083j ]\n",
      " [ 0.        +0.j          0.        +0.j          0.        +0.j\n",
      "   0.        +0.j          0.        +0.j          0.        +0.j\n",
      "   0.        +0.j          0.        +0.j          0.        +0.j        ]\n",
      " [ 0.        +0.j          0.        +0.j          0.        +0.j\n",
      "   0.        +0.j          0.        +0.j          0.        +0.j\n",
      "   0.        +0.j          0.        +0.j          0.        +0.j        ]\n",
      " [ 0.        +0.j          0.        +0.j          0.        +0.j\n",
      "   0.        +0.j          0.        +0.j          0.        +0.j\n",
      "   0.        +0.j          0.        +0.j          0.        +0.j        ]\n",
      " [ 0.18205341+0.05762696j  0.16053025+0.08696588j -0.1859869 -0.14166607j\n",
      "   0.        +0.j          0.        +0.j          0.        +0.j\n",
      "   0.24178042+0.j          0.        +0.j          0.242612  -0.00163146j]\n",
      " [ 0.        +0.j          0.        +0.j          0.        +0.j\n",
      "   0.        +0.j          0.        +0.j          0.        +0.j\n",
      "   0.        +0.j          0.        +0.j          0.        +0.j        ]\n",
      " [ 0.18229072+0.05905361j  0.16049556+0.0883482j  -0.18567067-0.1434083j\n",
      "   0.        +0.j          0.        +0.j          0.        +0.j\n",
      "   0.242612  +0.00163146j  0.        +0.j          0.24345745+0.j        ]]\n"
     ]
    },
    {
     "ename": "VisualizationError",
     "evalue": "'Input is not a multi-qubit quantum state.'",
     "output_type": "error",
     "traceback": [
      "\u001b[1;31m---------------------------------------------------------------------------\u001b[0m",
      "\u001b[1;31mVisualizationError\u001b[0m                        Traceback (most recent call last)",
      "Input \u001b[1;32mIn [55]\u001b[0m, in \u001b[0;36m<cell line: 4>\u001b[1;34m()\u001b[0m\n\u001b[0;32m      2\u001b[0m dm\u001b[38;5;241m=\u001b[39mnp\u001b[38;5;241m.\u001b[39marray(densitymatrix)\n\u001b[0;32m      3\u001b[0m \u001b[38;5;28mprint\u001b[39m (dm)\n\u001b[1;32m----> 4\u001b[0m \u001b[43mplot_state_city\u001b[49m\u001b[43m(\u001b[49m\u001b[43mdm\u001b[49m\u001b[43m,\u001b[49m\u001b[43m \u001b[49m\u001b[43mtitle\u001b[49m\u001b[38;5;241;43m=\u001b[39;49m\u001b[38;5;124;43m'\u001b[39;49m\u001b[38;5;124;43mState Tomography for Real State\u001b[39;49m\u001b[38;5;124;43m'\u001b[39;49m\u001b[43m)\u001b[49m\n",
      "File \u001b[1;32m~\\AppData\\Roaming\\Python\\Python39\\site-packages\\qiskit\\utils\\deprecation.py:28\u001b[0m, in \u001b[0;36mdeprecate_arguments.<locals>.decorator.<locals>.wrapper\u001b[1;34m(*args, **kwargs)\u001b[0m\n\u001b[0;32m     26\u001b[0m \u001b[38;5;28;01mif\u001b[39;00m kwargs:\n\u001b[0;32m     27\u001b[0m     _rename_kwargs(func\u001b[38;5;241m.\u001b[39m\u001b[38;5;18m__name__\u001b[39m, kwargs, kwarg_map, category)\n\u001b[1;32m---> 28\u001b[0m \u001b[38;5;28;01mreturn\u001b[39;00m func(\u001b[38;5;241m*\u001b[39margs, \u001b[38;5;241m*\u001b[39m\u001b[38;5;241m*\u001b[39mkwargs)\n",
      "File \u001b[1;32m~\\AppData\\Roaming\\Python\\Python39\\site-packages\\qiskit\\utils\\lazy_tester.py:165\u001b[0m, in \u001b[0;36mLazyDependencyManager.require_in_call.<locals>.out\u001b[1;34m(*args, **kwargs)\u001b[0m\n\u001b[0;32m    162\u001b[0m \u001b[38;5;129m@functools\u001b[39m\u001b[38;5;241m.\u001b[39mwraps(function)\n\u001b[0;32m    163\u001b[0m \u001b[38;5;28;01mdef\u001b[39;00m \u001b[38;5;21mout\u001b[39m(\u001b[38;5;241m*\u001b[39margs, \u001b[38;5;241m*\u001b[39m\u001b[38;5;241m*\u001b[39mkwargs):\n\u001b[0;32m    164\u001b[0m     \u001b[38;5;28mself\u001b[39m\u001b[38;5;241m.\u001b[39mrequire_now(feature)\n\u001b[1;32m--> 165\u001b[0m     \u001b[38;5;28;01mreturn\u001b[39;00m function(\u001b[38;5;241m*\u001b[39margs, \u001b[38;5;241m*\u001b[39m\u001b[38;5;241m*\u001b[39mkwargs)\n",
      "File \u001b[1;32m~\\AppData\\Roaming\\Python\\Python39\\site-packages\\qiskit\\visualization\\state_visualization.py:439\u001b[0m, in \u001b[0;36mplot_state_city\u001b[1;34m(state, title, figsize, color, alpha, ax_real, ax_imag, rho, filename)\u001b[0m\n\u001b[0;32m    437\u001b[0m num \u001b[38;5;241m=\u001b[39m rho\u001b[38;5;241m.\u001b[39mnum_qubits\n\u001b[0;32m    438\u001b[0m \u001b[38;5;28;01mif\u001b[39;00m num \u001b[38;5;129;01mis\u001b[39;00m \u001b[38;5;28;01mNone\u001b[39;00m:\n\u001b[1;32m--> 439\u001b[0m     \u001b[38;5;28;01mraise\u001b[39;00m VisualizationError(\u001b[38;5;124m\"\u001b[39m\u001b[38;5;124mInput is not a multi-qubit quantum state.\u001b[39m\u001b[38;5;124m\"\u001b[39m)\n\u001b[0;32m    441\u001b[0m \u001b[38;5;66;03m# get the real and imag parts of rho\u001b[39;00m\n\u001b[0;32m    442\u001b[0m datareal \u001b[38;5;241m=\u001b[39m np\u001b[38;5;241m.\u001b[39mreal(rho\u001b[38;5;241m.\u001b[39mdata)\n",
      "\u001b[1;31mVisualizationError\u001b[0m: 'Input is not a multi-qubit quantum state.'"
     ]
    }
   ],
   "source": [
    "#plotting cityscape for real density matrix\n",
    "dm=np.array(densitymatrix)\n",
    "print (dm)\n",
    "plot_state_city(dm, title='State Tomography for Real State')"
   ]
  },
  {
   "cell_type": "code",
   "execution_count": 56,
   "id": "ae627330",
   "metadata": {},
   "outputs": [
    {
     "name": "stdout",
     "output_type": "stream",
     "text": [
      "[[0.+0.j 0.+0.j 0.+0.j 0.+0.j 0.+0.j 0.+0.j 0.+0.j 0.+0.j 0.+0.j]\n",
      " [0.+0.j 0.+0.j 0.+0.j 0.+0.j 0.+0.j 0.+0.j 0.+0.j 0.+0.j 0.+0.j]\n",
      " [0.+0.j 0.+0.j 0.+0.j 0.+0.j 0.+0.j 0.+0.j 0.+0.j 0.+0.j 0.+0.j]\n",
      " [0.+0.j 0.+0.j 0.+0.j 0.+0.j 0.+0.j 0.+0.j 0.+0.j 0.+0.j 0.+0.j]\n",
      " [0.+0.j 0.+0.j 0.+0.j 0.+0.j 0.+0.j 0.+0.j 0.+0.j 0.+0.j 0.+0.j]\n",
      " [0.+0.j 0.+0.j 0.+0.j 0.+0.j 0.+0.j 0.+0.j 0.+0.j 0.+0.j 0.+0.j]\n",
      " [0.+0.j 0.+0.j 0.+0.j 0.+0.j 0.+0.j 0.+0.j 0.+0.j 0.+0.j 0.+0.j]\n",
      " [0.+0.j 0.+0.j 0.+0.j 0.+0.j 0.+0.j 0.+0.j 0.+0.j 0.+0.j 0.+0.j]\n",
      " [0.+0.j 0.+0.j 0.+0.j 0.+0.j 0.+0.j 0.+0.j 0.+0.j 0.+0.j 1.+0.j]]\n"
     ]
    },
    {
     "ename": "VisualizationError",
     "evalue": "'Input is not a multi-qubit quantum state.'",
     "output_type": "error",
     "traceback": [
      "\u001b[1;31m---------------------------------------------------------------------------\u001b[0m",
      "\u001b[1;31mVisualizationError\u001b[0m                        Traceback (most recent call last)",
      "Input \u001b[1;32mIn [56]\u001b[0m, in \u001b[0;36m<cell line: 4>\u001b[1;34m()\u001b[0m\n\u001b[0;32m      2\u001b[0m idm\u001b[38;5;241m=\u001b[39mnp\u001b[38;5;241m.\u001b[39marray(idealdensitymatrix)\n\u001b[0;32m      3\u001b[0m \u001b[38;5;28mprint\u001b[39m (idm)\n\u001b[1;32m----> 4\u001b[0m \u001b[43mplot_state_city\u001b[49m\u001b[43m(\u001b[49m\u001b[43midm\u001b[49m\u001b[43m,\u001b[49m\u001b[43m \u001b[49m\u001b[43mtitle\u001b[49m\u001b[38;5;241;43m=\u001b[39;49m\u001b[38;5;124;43m'\u001b[39;49m\u001b[38;5;124;43mState Tomography for Ideal State\u001b[39;49m\u001b[38;5;124;43m'\u001b[39;49m\u001b[43m)\u001b[49m\n",
      "File \u001b[1;32m~\\AppData\\Roaming\\Python\\Python39\\site-packages\\qiskit\\utils\\deprecation.py:28\u001b[0m, in \u001b[0;36mdeprecate_arguments.<locals>.decorator.<locals>.wrapper\u001b[1;34m(*args, **kwargs)\u001b[0m\n\u001b[0;32m     26\u001b[0m \u001b[38;5;28;01mif\u001b[39;00m kwargs:\n\u001b[0;32m     27\u001b[0m     _rename_kwargs(func\u001b[38;5;241m.\u001b[39m\u001b[38;5;18m__name__\u001b[39m, kwargs, kwarg_map, category)\n\u001b[1;32m---> 28\u001b[0m \u001b[38;5;28;01mreturn\u001b[39;00m func(\u001b[38;5;241m*\u001b[39margs, \u001b[38;5;241m*\u001b[39m\u001b[38;5;241m*\u001b[39mkwargs)\n",
      "File \u001b[1;32m~\\AppData\\Roaming\\Python\\Python39\\site-packages\\qiskit\\utils\\lazy_tester.py:165\u001b[0m, in \u001b[0;36mLazyDependencyManager.require_in_call.<locals>.out\u001b[1;34m(*args, **kwargs)\u001b[0m\n\u001b[0;32m    162\u001b[0m \u001b[38;5;129m@functools\u001b[39m\u001b[38;5;241m.\u001b[39mwraps(function)\n\u001b[0;32m    163\u001b[0m \u001b[38;5;28;01mdef\u001b[39;00m \u001b[38;5;21mout\u001b[39m(\u001b[38;5;241m*\u001b[39margs, \u001b[38;5;241m*\u001b[39m\u001b[38;5;241m*\u001b[39mkwargs):\n\u001b[0;32m    164\u001b[0m     \u001b[38;5;28mself\u001b[39m\u001b[38;5;241m.\u001b[39mrequire_now(feature)\n\u001b[1;32m--> 165\u001b[0m     \u001b[38;5;28;01mreturn\u001b[39;00m function(\u001b[38;5;241m*\u001b[39margs, \u001b[38;5;241m*\u001b[39m\u001b[38;5;241m*\u001b[39mkwargs)\n",
      "File \u001b[1;32m~\\AppData\\Roaming\\Python\\Python39\\site-packages\\qiskit\\visualization\\state_visualization.py:439\u001b[0m, in \u001b[0;36mplot_state_city\u001b[1;34m(state, title, figsize, color, alpha, ax_real, ax_imag, rho, filename)\u001b[0m\n\u001b[0;32m    437\u001b[0m num \u001b[38;5;241m=\u001b[39m rho\u001b[38;5;241m.\u001b[39mnum_qubits\n\u001b[0;32m    438\u001b[0m \u001b[38;5;28;01mif\u001b[39;00m num \u001b[38;5;129;01mis\u001b[39;00m \u001b[38;5;28;01mNone\u001b[39;00m:\n\u001b[1;32m--> 439\u001b[0m     \u001b[38;5;28;01mraise\u001b[39;00m VisualizationError(\u001b[38;5;124m\"\u001b[39m\u001b[38;5;124mInput is not a multi-qubit quantum state.\u001b[39m\u001b[38;5;124m\"\u001b[39m)\n\u001b[0;32m    441\u001b[0m \u001b[38;5;66;03m# get the real and imag parts of rho\u001b[39;00m\n\u001b[0;32m    442\u001b[0m datareal \u001b[38;5;241m=\u001b[39m np\u001b[38;5;241m.\u001b[39mreal(rho\u001b[38;5;241m.\u001b[39mdata)\n",
      "\u001b[1;31mVisualizationError\u001b[0m: 'Input is not a multi-qubit quantum state.'"
     ]
    }
   ],
   "source": [
    "#plotting cityscape for ideal density matrix\n",
    "idm=np.array(idealdensitymatrix)\n",
    "print (idm)\n",
    "plot_state_city(idm, title='State Tomography for Ideal State')"
   ]
  },
  {
   "cell_type": "code",
   "execution_count": null,
   "id": "bf2afec2",
   "metadata": {},
   "outputs": [],
   "source": []
  }
 ],
 "metadata": {
  "kernelspec": {
   "display_name": "Python 3 (ipykernel)",
   "language": "python",
   "name": "python3"
  },
  "language_info": {
   "codemirror_mode": {
    "name": "ipython",
    "version": 3
   },
   "file_extension": ".py",
   "mimetype": "text/x-python",
   "name": "python",
   "nbconvert_exporter": "python",
   "pygments_lexer": "ipython3",
   "version": "3.9.12"
  }
 },
 "nbformat": 4,
 "nbformat_minor": 5
}
