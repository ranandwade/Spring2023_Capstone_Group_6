{
 "cells": [
  {
   "cell_type": "code",
   "execution_count": 1,
   "id": "90356ed2",
   "metadata": {},
   "outputs": [],
   "source": [
    "import matplotlib.pyplot as plt\n",
    "import time\n",
    "import numpy as np\n",
    "from numpy import pi\n",
    "\n",
    "from qutip import *\n",
    "from qutip.control import *\n",
    "from qutip.qip.operations import rx\n",
    "from qutip.qip.operations import ry\n",
    "from qutip.qip.operations import rz\n",
    "\n",
    "from qutip.control.grape import plot_grape_control_fields, _overlap\n",
    "from qutip.control.cy_grape import cy_overlap\n",
    "from qutip.control.grape import cy_grape_unitary, grape_unitary_adaptive\n",
    "\n",
    "from scipy.interpolate import interp1d\n",
    "from qutip.ui.progressbar import TextProgressBar\n",
    "from dataclasses import dataclass\n",
    "from typing import List, Tuple, Sequence\n",
    "\n",
    "import matplotlib.pyplot as plt\n",
    "import numpy as np\n",
    "import plotly.graph_objs as go\n",
    "import plotly.express as px\n",
    "\n",
    "from scipy.constants import physical_constants, h\n",
    "\n",
    "from qutip import jmat, tensor, identity, Qobj\n",
    "\n",
    "from scipy.interpolate import interp1d\n",
    "from qutip.ui.progressbar import TextProgressBar\n",
    "from qiskit.visualization import plot_state_city\n",
    "from qiskit.visualization import plot_bloch_multivector\n",
    "\n",
    "import numpy as np"
   ]
  },
  {
   "cell_type": "markdown",
   "id": "02f55882",
   "metadata": {},
   "source": [
    "# Finding Pulse Sequence"
   ]
  },
  {
   "cell_type": "markdown",
   "id": "62678ac8",
   "metadata": {},
   "source": [
    "### Setting beginning and ending states\n",
    "### setting desired U value"
   ]
  },
  {
   "cell_type": "code",
   "execution_count": 2,
   "id": "c0d049a4",
   "metadata": {},
   "outputs": [
    {
     "name": "stdout",
     "output_type": "stream",
     "text": [
      "Quantum object: dims = [[9], [1]], shape = (9, 1), type = ket\n",
      "Qobj data =\n",
      "[[1.]\n",
      " [0.]\n",
      " [0.]\n",
      " [0.]\n",
      " [0.]\n",
      " [0.]\n",
      " [0.]\n",
      " [0.]\n",
      " [0.]]\n",
      "Quantum object: dims = [[9], [1]], shape = (9, 1), type = ket\n",
      "Qobj data =\n",
      "[[0.]\n",
      " [0.]\n",
      " [1.]\n",
      " [0.]\n",
      " [0.]\n",
      " [0.]\n",
      " [0.]\n",
      " [0.]\n",
      " [0.]]\n"
     ]
    },
    {
     "name": "stderr",
     "output_type": "stream",
     "text": [
      "C:\\Users\\RA\\AppData\\Local\\Temp\\ipykernel_6816\\1588627107.py:11: DeprecationWarning: Importing functions/classes of the qip submodule directly from the namespace qutip is deprecated. Please import them from the submodule instead, e.g.\n",
      "from qutip.qip.operations import cnot\n",
      "from qutip.qip.circuit import QubitCircuit\n",
      "\n",
      "  U=tensor(rotation (jmat(1,'x'),pi),identity(3))\n"
     ]
    },
    {
     "data": {
      "text/latex": [
       "Quantum object: dims = [[9], [9]], shape = (9, 9), type = oper, isherm = False $ \\\\ \\left(\\begin{matrix}0.500 & 0.0 & 0.0 & -0.707j & 0.0 & 0.0 & -0.500 & 0.0 & 0.0\\\\0.0 & 0.500 & 0.0 & 0.0 & -0.707j & 0.0 & 0.0 & -0.500 & 0.0\\\\0.0 & 0.0 & 0.500 & 0.0 & 0.0 & -0.707j & 0.0 & 0.0 & -0.500\\\\-0.707j & 0.0 & 0.0 & 0.0 & 0.0 & 0.0 & -0.707j & 0.0 & 0.0\\\\0.0 & -0.707j & 0.0 & 0.0 & 0.0 & 0.0 & 0.0 & -0.707j & 0.0\\\\0.0 & 0.0 & -0.707j & 0.0 & 0.0 & 0.0 & 0.0 & 0.0 & -0.707j\\\\-0.500 & 0.0 & 0.0 & -0.707j & 0.0 & 0.0 & 0.500 & 0.0 & 0.0\\\\0.0 & -0.500 & 0.0 & 0.0 & -0.707j & 0.0 & 0.0 & 0.500 & 0.0\\\\0.0 & 0.0 & -0.500 & 0.0 & 0.0 & -0.707j & 0.0 & 0.0 & 0.500\\\\\\end{matrix}\\right)$"
      ],
      "text/plain": [
       "Quantum object: dims = [[9], [9]], shape = (9, 9), type = oper, isherm = False\n",
       "Qobj data =\n",
       "[[ 0.5+0.j          0. +0.j          0. +0.j          0. -0.70710678j\n",
       "   0. +0.j          0. +0.j         -0.5+0.j          0. +0.j\n",
       "   0. +0.j        ]\n",
       " [ 0. +0.j          0.5+0.j          0. +0.j          0. +0.j\n",
       "   0. -0.70710678j  0. +0.j          0. +0.j         -0.5+0.j\n",
       "   0. +0.j        ]\n",
       " [ 0. +0.j          0. +0.j          0.5+0.j          0. +0.j\n",
       "   0. +0.j          0. -0.70710678j  0. +0.j          0. +0.j\n",
       "  -0.5+0.j        ]\n",
       " [ 0. -0.70710678j  0. +0.j          0. +0.j          0. +0.j\n",
       "   0. +0.j          0. +0.j          0. -0.70710678j  0. +0.j\n",
       "   0. +0.j        ]\n",
       " [ 0. +0.j          0. -0.70710678j  0. +0.j          0. +0.j\n",
       "   0. +0.j          0. +0.j          0. +0.j          0. -0.70710678j\n",
       "   0. +0.j        ]\n",
       " [ 0. +0.j          0. +0.j          0. -0.70710678j  0. +0.j\n",
       "   0. +0.j          0. +0.j          0. +0.j          0. +0.j\n",
       "   0. -0.70710678j]\n",
       " [-0.5+0.j          0. +0.j          0. +0.j          0. -0.70710678j\n",
       "   0. +0.j          0. +0.j          0.5+0.j          0. +0.j\n",
       "   0. +0.j        ]\n",
       " [ 0. +0.j         -0.5+0.j          0. +0.j          0. +0.j\n",
       "   0. -0.70710678j  0. +0.j          0. +0.j          0.5+0.j\n",
       "   0. +0.j        ]\n",
       " [ 0. +0.j          0. +0.j         -0.5+0.j          0. +0.j\n",
       "   0. +0.j          0. -0.70710678j  0. +0.j          0. +0.j\n",
       "   0.5+0.j        ]]"
      ]
     },
     "execution_count": 2,
     "metadata": {},
     "output_type": "execute_result"
    }
   ],
   "source": [
    "qubit1state=basis(3, 0)\n",
    "qubit2state=basis(3, 0)\n",
    "startingstate=tensor(qubit1state,qubit1state) #initial state\n",
    "endingstate= tensor(basis(3,0),basis(3,2))\n",
    "startingstate.dims=[[9],[1]]\n",
    "endingstate.dims=[[9],[1]]\n",
    "print (startingstate)\n",
    "print (endingstate)\n",
    "\n",
    "\n",
    "U=tensor(rotation (jmat(1,'x'),pi),identity(3))\n",
    "\n",
    "U.dims=[[9],[9]]\n",
    "U\n",
    "\n"
   ]
  },
  {
   "cell_type": "markdown",
   "id": "45166508",
   "metadata": {},
   "source": [
    "## Defining 3x3 pauli spin matrices \n",
    "## Definiting number of iterations\n",
    "## Defining H_ops"
   ]
  },
  {
   "cell_type": "code",
   "execution_count": 3,
   "id": "d67d543b",
   "metadata": {},
   "outputs": [],
   "source": [
    "#defining constants in hamiltonian\n",
    "#h= 6.582119 * 1e-16 #eV * sec \n",
    "Bperpendicular = 10 #mT\n",
    "Bparallel = 10 #mT\n",
    "gammanv = 2*np.pi*28 * 1000000 #Hz/mT\n",
    "omeganv = Bparallel * gammanv\n",
    "omegamw = 1000000000 #Hz\n",
    "Delta = omeganv - omegamw\n",
    "#Delta\n",
    "Omega = Bperpendicular * gammanv\n",
    "Omega\n",
    "\n",
    "#constants\n",
    "\n",
    "f_fine_structure = 2.87e9\n",
    "f_nuclear_quadrupole = -5.01e6\n",
    "f_axial_magnetic_hyperfine = -2.14e6\n",
    "f_transverse_magnetic_hyperfine = -2.7e6\n",
    "g_factor_electron = 2.0028\n",
    "gyromagnetic_constant_nuclear = 1.93297e7 / (2 * np.pi)\n",
    "uB = physical_constants['Bohr magneton'][0]\n",
    "uN = physical_constants['nuclear magneton'][0]    \n",
    "bvector=[0,0,1]\n",
    "\n",
    "\n",
    "T = 1/2000000000\n",
    "steps=1000\n",
    "times = np.linspace(0, T, steps)"
   ]
  },
  {
   "cell_type": "code",
   "execution_count": 4,
   "id": "2ddca87e",
   "metadata": {},
   "outputs": [],
   "source": [
    "\n",
    "\n",
    "#wirting our terms so I can actually read the hamiltonian\n",
    "#Nuc terms are second qubit\n",
    "#Elec qubit is first qubit\n",
    "\n",
    "nuclear_spin = 1\n",
    "electron_spin = 1\n",
    "sigmaxE = jmat(electron_spin,'x')\n",
    "sigmayE = jmat(electron_spin,'y')\n",
    "sigmazE = jmat(electron_spin,'z')\n",
    "sigmaxN = jmat(nuclear_spin,'x')\n",
    "sigmayN = jmat(nuclear_spin,'y')\n",
    "sigmazN = jmat(nuclear_spin,'z')\n",
    "sigmazEsquared = sigmazE*sigmazE\n",
    "sigmazNsquared = sigmazN*sigmazN\n",
    "identity3 = identity(3) #3x3 identity matrix\n",
    "\n",
    "\n",
    "\n",
    "#Creating operators that can be tuned in the Hamiltonian via the control fields, list is below called H_ops\n",
    "\n",
    "H_opsEx=tensor(sigmaxE, identity3)\n",
    "H_opsEy=tensor(sigmayE, identity3)\n",
    "H_opsEz=tensor(sigmazE, identity3)\n",
    "\n",
    "H_opsNx=tensor(identity3, sigmaxN)\n",
    "H_opsNy=tensor(identity3, sigmayN)\n",
    "H_opsNz=tensor(identity3, sigmazN)\n",
    "\n",
    "H_opsENx = tensor(sigmaxE, sigmaxN)\n",
    "H_opsENy = tensor(sigmayE, sigmayN)           \n",
    "H_opsENz = tensor(sigmazE, sigmazN)\n",
    "#print (H_opsENz)\n",
    "\n",
    "#changing dims bc qutip is silly\n",
    "\n",
    "H_opsEx.dims=[[9],[9]]\n",
    "H_opsEy.dims=[[9],[9]]\n",
    "H_opsEz.dims=[[9],[9]]\n",
    "\n",
    "H_opsNx.dims=[[9],[9]]\n",
    "H_opsNy.dims=[[9],[9]]\n",
    "H_opsNz.dims=[[9],[9]]\n",
    "\n",
    "H_opsENx.dims=[[9],[9]]\n",
    "H_opsENy.dims=[[9],[9]]\n",
    "H_opsENz.dims=[[9],[9]] \n",
    "\n",
    "\n",
    "#making H_ops list           \n",
    "H_ops = [H_opsEx*Omega, H_opsEy*Omega]#, H_opsEz, H_opsNx, H_opsNy, H_opsNz, H_opsENx, H_opsENy, H_opsENz]            \n",
    "               \n",
    "               \n",
    "#making labels for pulse sequence graphs\n",
    "H_labels = [r'$uE_{x}$',\n",
    "            r'$uE_{y}$']\n",
    "            #r'$uE_{z}$',\n",
    "            #r'$uN_{x}$',\n",
    "            ##r'$uN_{y}$',\n",
    "            #r'$uN_{z}$',\n",
    "           # r'$uEN_{x}$',\n",
    "           # r'$uEN_{y}$',\n",
    "            #r'$uEN_{z}$']\n"
   ]
  },
  {
   "cell_type": "markdown",
   "id": "587c4893",
   "metadata": {},
   "source": [
    "# Defining hamiltonian and constants "
   ]
  },
  {
   "cell_type": "code",
   "execution_count": 5,
   "id": "43f769bc",
   "metadata": {},
   "outputs": [
    {
     "data": {
      "text/latex": [
       "Quantum object: dims = [[9], [9]], shape = (9, 9), type = oper, isherm = True $ \\\\ \\left(\\begin{matrix}2.899\\times10^{+10} & 0.0 & 0.0 & 0.0 & 0.0 & 0.0 & 0.0 & 0.0 & 0.0\\\\0.0 & 2.899\\times10^{+10} & 0.0 & -2.700\\times10^{+06} & 0.0 & 0.0 & 0.0 & 0.0 & 0.0\\\\0.0 & 0.0 & 2.899\\times10^{+10} & 0.0 & -2.700\\times10^{+06} & 0.0 & 0.0 & 0.0 & 0.0\\\\0.0 & -2.700\\times10^{+06} & 0.0 & -1.912\\times10^{+09} & 0.0 & 0.0 & 0.0 & 0.0 & 0.0\\\\0.0 & 0.0 & -2.700\\times10^{+06} & 0.0 & -1.910\\times10^{+09} & 0.0 & -2.700\\times10^{+06} & 0.0 & 0.0\\\\0.0 & 0.0 & 0.0 & 0.0 & 0.0 & -1.918\\times10^{+09} & 0.0 & -2.700\\times10^{+06} & 0.0\\\\0.0 & 0.0 & 0.0 & 0.0 & -2.700\\times10^{+06} & 0.0 & -2.707\\times10^{+10} & 0.0 & 0.0\\\\0.0 & 0.0 & 0.0 & 0.0 & 0.0 & -2.700\\times10^{+06} & 0.0 & -2.707\\times10^{+10} & 0.0\\\\0.0 & 0.0 & 0.0 & 0.0 & 0.0 & 0.0 & 0.0 & 0.0 & -2.708\\times10^{+10}\\\\\\end{matrix}\\right)$"
      ],
      "text/plain": [
       "Quantum object: dims = [[9], [9]], shape = (9, 9), type = oper, isherm = True\n",
       "Qobj data =\n",
       "[[ 2.89876124e+10  0.00000000e+00  0.00000000e+00  0.00000000e+00\n",
       "   0.00000000e+00  0.00000000e+00  0.00000000e+00  0.00000000e+00\n",
       "   0.00000000e+00]\n",
       " [ 0.00000000e+00  2.89916860e+10  0.00000000e+00 -2.70000000e+06\n",
       "   0.00000000e+00  0.00000000e+00  0.00000000e+00  0.00000000e+00\n",
       "   0.00000000e+00]\n",
       " [ 0.00000000e+00  0.00000000e+00  2.89857396e+10  0.00000000e+00\n",
       "  -2.70000000e+06  0.00000000e+00  0.00000000e+00  0.00000000e+00\n",
       "   0.00000000e+00]\n",
       " [ 0.00000000e+00 -2.70000000e+06  0.00000000e+00 -1.91192692e+09\n",
       "   0.00000000e+00  0.00000000e+00  0.00000000e+00  0.00000000e+00\n",
       "   0.00000000e+00]\n",
       " [ 0.00000000e+00  0.00000000e+00 -2.70000000e+06  0.00000000e+00\n",
       "  -1.90999333e+09  0.00000000e+00 -2.70000000e+06  0.00000000e+00\n",
       "   0.00000000e+00]\n",
       " [ 0.00000000e+00  0.00000000e+00  0.00000000e+00  0.00000000e+00\n",
       "   0.00000000e+00 -1.91807975e+09  0.00000000e+00 -2.70000000e+06\n",
       "   0.00000000e+00]\n",
       " [ 0.00000000e+00  0.00000000e+00  0.00000000e+00  0.00000000e+00\n",
       "  -2.70000000e+06  0.00000000e+00 -2.70714663e+10  0.00000000e+00\n",
       "   0.00000000e+00]\n",
       " [ 0.00000000e+00  0.00000000e+00  0.00000000e+00  0.00000000e+00\n",
       "   0.00000000e+00 -2.70000000e+06  0.00000000e+00 -2.70716727e+10\n",
       "   0.00000000e+00]\n",
       " [ 0.00000000e+00  0.00000000e+00  0.00000000e+00  0.00000000e+00\n",
       "   0.00000000e+00  0.00000000e+00  0.00000000e+00  0.00000000e+00\n",
       "  -2.70818991e+10]]"
      ]
     },
     "execution_count": 5,
     "metadata": {},
     "output_type": "execute_result"
    }
   ],
   "source": [
    "#defining hamiltonian for NV center\n",
    "\n",
    "#constants\n",
    "\n",
    "#witing out hamiltonian terms\n",
    "\n",
    "f_fine_structure = 2.87e9\n",
    "f_nuclear_quadrupole = -5.01e6\n",
    "f_axial_magnetic_hyperfine = -2.14e6\n",
    "f_transverse_magnetic_hyperfine = -2.7e6\n",
    "g_factor_electron = 2.0028\n",
    "gyromagnetic_constant_nuclear = 1.93297e7 / (2 * np.pi)\n",
    "uB = physical_constants['Bohr magneton'][0]\n",
    "uN = physical_constants['nuclear magneton'][0]    \n",
    "bvector=[0,0,1]\n",
    "\n",
    "\n",
    "\n",
    "\n",
    "H1 = f_fine_structure * tensor((sigmazEsquared-(2/3)*identity3),identity3)\n",
    "\n",
    "H2 = f_axial_magnetic_hyperfine * tensor(sigmazE,sigmazN) \n",
    "\n",
    "H3 = f_transverse_magnetic_hyperfine * (tensor(sigmaxE,sigmaxN)+tensor(sigmayE,sigmayN))\n",
    "\n",
    "H4 = f_nuclear_quadrupole * tensor(tensor(identity3), (sigmazNsquared-(2/3)*identity3))\n",
    "\n",
    "H5 = ((uB/h) * g_factor_electron) * tensor((sigmaxE*bvector[0] + sigmayE*bvector[1] + sigmazE*bvector[2]), identity3)\n",
    "\n",
    "H6 = gyromagnetic_constant_nuclear * tensor(identity3,(sigmaxN*bvector[0] + sigmayN*bvector[1] + sigmazN*bvector[2]))\n",
    "          \n",
    "    \n",
    "H0= H1+H2 +H3 +H4 +H5 +H6\n",
    "H0.dims=[[9],[9]] #changing dimensions bc dot products are silly\n",
    "H0 #hamiltonian without b field term\n",
    "\n"
   ]
  },
  {
   "cell_type": "markdown",
   "id": "05144d08",
   "metadata": {},
   "source": [
    "# Plot pulses"
   ]
  },
  {
   "cell_type": "code",
   "execution_count": 6,
   "id": "c72769a0",
   "metadata": {},
   "outputs": [],
   "source": [
    "\n",
    "\n",
    "##creating initial control pulse values as starting guess for GRAPE\n",
    "\n",
    "u0 = np.array([np.random.rand(len(times))*T * 2 * pi * 0.005 for _ in range(len(H_ops))])\n",
    "\n",
    "u0 = [np.convolve(np.ones(10) / 10, u0[idx, :], mode='same') for idx in range(len(H_ops))]\n"
   ]
  },
  {
   "cell_type": "code",
   "execution_count": 7,
   "id": "8342fb7d",
   "metadata": {},
   "outputs": [
    {
     "name": "stdout",
     "output_type": "stream",
     "text": [
      "10.0%. Run time: 317.06s. Est. time left: 00:00:47:33\n",
      "20.0%. Run time: 628.71s. Est. time left: 00:00:41:54\n",
      "30.0%. Run time: 939.74s. Est. time left: 00:00:36:32\n",
      "40.0%. Run time: 1250.74s. Est. time left: 00:00:31:16\n",
      "50.0%. Run time: 1561.86s. Est. time left: 00:00:26:01\n",
      "60.0%. Run time: 1872.77s. Est. time left: 00:00:20:48\n",
      "70.0%. Run time: 2183.72s. Est. time left: 00:00:15:35\n",
      "80.0%. Run time: 2494.93s. Est. time left: 00:00:10:23\n",
      "90.0%. Run time: 2817.83s. Est. time left: 00:00:05:13\n",
      "Total run time: 3131.21s\n"
     ]
    }
   ],
   "source": [
    "#doing GRAPE!\n",
    "R=1000\n",
    "result = cy_grape_unitary(U, H0, H_ops, R, times, u_start=u0, eps=2 * pi / T, phase_sensitive=False,\n",
    "                          progress_bar=TextProgressBar())\n",
    "\n"
   ]
  },
  {
   "cell_type": "code",
   "execution_count": 8,
   "id": "97f31e2a",
   "metadata": {},
   "outputs": [
    {
     "data": {
      "image/png": "[encoded data removed]",
      "text/plain": [
       "<Figure size 576x288 with 2 Axes>"
      ]
     },
     "metadata": {
      "needs_background": "light"
     },
     "output_type": "display_data"
    }
   ],
   "source": [
    "plot_grape_control_fields(times, result.u[:, :, :] / (2 * pi), H_labels, uniform_axes=True);\n",
    "plt.show()"
   ]
  },
  {
   "cell_type": "markdown",
   "id": "6e786cb8",
   "metadata": {},
   "source": [
    "# Calcuate fidelity"
   ]
  },
  {
   "cell_type": "code",
   "execution_count": 9,
   "id": "45f4ba5b",
   "metadata": {},
   "outputs": [
    {
     "name": "stdout",
     "output_type": "stream",
     "text": [
      "Quantum object: dims = [[9], [1]], shape = (9, 1), type = ket\n",
      "Qobj data =\n",
      "[[ 0.5+0.j        ]\n",
      " [ 0. +0.j        ]\n",
      " [ 0. +0.j        ]\n",
      " [ 0. -0.70710678j]\n",
      " [ 0. +0.j        ]\n",
      " [ 0. +0.j        ]\n",
      " [-0.5+0.j        ]\n",
      " [ 0. +0.j        ]\n",
      " [ 0. +0.j        ]]\n"
     ]
    }
   ],
   "source": [
    "idealfinalstate=U*startingstate\n",
    "print (idealfinalstate)"
   ]
  },
  {
   "cell_type": "code",
   "execution_count": 10,
   "id": "d83fcdfd",
   "metadata": {},
   "outputs": [
    {
     "data": {
      "text/latex": [
       "Quantum object: dims = [[9], [9]], shape = (9, 9), type = oper, isherm = False $ \\\\ \\left(\\begin{matrix}(-0.343+0.232j) & 0.0 & 0.0 & (-0.622+0.309j) & 0.0 & 0.0 & (-0.558+0.187j) & 0.0 & 0.0\\\\0.0 & (-0.343+0.232j) & 0.0 & 0.0 & (-0.622+0.309j) & 0.0 & 0.0 & (-0.558+0.187j) & 0.0\\\\0.0 & 0.0 & (-0.344+0.231j) & 0.0 & 0.0 & (-0.623+0.307j) & 0.0 & 0.0 & (-0.559+0.185j)\\\\(-0.687+0.099j) & 0.0 & 0.0 & -0.177 & 0.0 & 0.0 & (0.692+0.090j) & 0.0 & 0.0\\\\0.0 & (-0.687+0.100j) & 0.0 & 0.0 & -0.177 & 0.0 & 0.0 & (0.692+0.089j) & 0.0\\\\0.0 & 0.0 & (-0.688+0.097j) & 0.0 & 0.0 & -0.177 & 0.0 & 0.0 & (0.691+0.092j)\\\\(-0.557-0.190j) & 0.0 & 0.0 & (0.624+0.312j) & 0.0 & 0.0 & (-0.337-0.232j) & 0.0 & 0.0\\\\0.0 & (-0.557-0.189j) & 0.0 & 0.0 & (0.624+0.311j) & 0.0 & 0.0 & (-0.337-0.232j) & 0.0\\\\0.0 & 0.0 & (-0.556-0.192j) & 0.0 & 0.0 & (0.623+0.314j) & 0.0 & 0.0 & (-0.336-0.233j)\\\\\\end{matrix}\\right)$"
      ],
      "text/plain": [
       "Quantum object: dims = [[9], [9]], shape = (9, 9), type = oper, isherm = False\n",
       "Qobj data =\n",
       "[[-0.34299639+0.23159071j  0.        +0.j          0.        +0.j\n",
       "  -0.62224569+0.30868437j  0.        +0.j          0.        +0.j\n",
       "  -0.55797941+0.186822j    0.        +0.j          0.        +0.j        ]\n",
       " [ 0.        +0.j         -0.34277233+0.23192221j  0.        +0.j\n",
       "   0.        +0.j         -0.62194697+0.3092858j   0.        +0.j\n",
       "   0.        +0.j         -0.55779853+0.18736136j  0.        +0.j        ]\n",
       " [ 0.        +0.j          0.        +0.j         -0.34370724+0.23053442j\n",
       "   0.        +0.j          0.        +0.j         -0.62319239+0.30676862j\n",
       "   0.        +0.j          0.        +0.j         -0.55855151+0.18510454j]\n",
       " [-0.6873486 +0.09927176j  0.        +0.j          0.        +0.j\n",
       "  -0.17700545+0.j          0.        +0.j          0.        +0.j\n",
       "   0.69159676+0.08977431j  0.        +0.j          0.        +0.j        ]\n",
       " [ 0.        +0.j         -0.6872523 +0.09993623j  0.        +0.j\n",
       "   0.        +0.j         -0.17700463+0.j          0.        +0.j\n",
       "   0.        +0.j          0.69168323+0.08910564j  0.        +0.j        ]\n",
       " [ 0.        +0.j          0.        +0.j         -0.68765075+0.09715672j\n",
       "   0.        +0.j          0.        +0.j         -0.17700696+0.j\n",
       "   0.        +0.j          0.        +0.j          0.6913173 +0.09190152j]\n",
       " [-0.55707982-0.18994291j  0.        +0.j          0.        +0.j\n",
       "   0.62364561+0.31186359j  0.        +0.j          0.        +0.j\n",
       "  -0.33701069-0.2319802j   0.        +0.j          0.        +0.j        ]\n",
       " [ 0.        +0.j         -0.55726319-0.18940424j  0.        +0.j\n",
       "   0.        +0.j          0.62394683+0.31126051j  0.        +0.j\n",
       "   0.        +0.j         -0.33723481-0.23165427j  0.        +0.j        ]\n",
       " [ 0.        +0.j          0.        +0.j         -0.55649284-0.19165582j\n",
       "   0.        +0.j          0.        +0.j          0.62268324+0.31378071j\n",
       "   0.        +0.j          0.        +0.j         -0.33629543-0.23301588j]]"
      ]
     },
     "execution_count": 10,
     "metadata": {},
     "output_type": "execute_result"
    }
   ],
   "source": [
    "result.U_f.tidyup(1e-2)"
   ]
  },
  {
   "cell_type": "code",
   "execution_count": 11,
   "id": "dfc11651",
   "metadata": {},
   "outputs": [
    {
     "name": "stdout",
     "output_type": "stream",
     "text": [
      "Quantum object: dims = [[9], [1]], shape = (9, 1), type = ket\n",
      "Qobj data =\n",
      "[[-0.34299639+0.23159071j]\n",
      " [ 0.        +0.j        ]\n",
      " [ 0.        +0.j        ]\n",
      " [-0.6873486 +0.09927176j]\n",
      " [ 0.        +0.j        ]\n",
      " [ 0.        +0.j        ]\n",
      " [-0.55707982-0.18994291j]\n",
      " [ 0.        +0.j        ]\n",
      " [ 0.        +0.j        ]]\n"
     ]
    }
   ],
   "source": [
    "realfinalstate=result.U_f*startingstate\n",
    "print (realfinalstate)"
   ]
  },
  {
   "cell_type": "code",
   "execution_count": 12,
   "id": "c21a234f",
   "metadata": {},
   "outputs": [
    {
     "name": "stdout",
     "output_type": "stream",
     "text": [
      "Quantum object: dims = [[9], [9]], shape = (9, 9), type = oper, isherm = True\n",
      "Qobj data =\n",
      "[[ 0.25+0.j          0.  +0.j          0.  +0.j          0.  +0.35355339j\n",
      "   0.  +0.j          0.  +0.j         -0.25+0.j          0.  +0.j\n",
      "   0.  +0.j        ]\n",
      " [ 0.  +0.j          0.  +0.j          0.  +0.j          0.  +0.j\n",
      "   0.  +0.j          0.  +0.j          0.  +0.j          0.  +0.j\n",
      "   0.  +0.j        ]\n",
      " [ 0.  +0.j          0.  +0.j          0.  +0.j          0.  +0.j\n",
      "   0.  +0.j          0.  +0.j          0.  +0.j          0.  +0.j\n",
      "   0.  +0.j        ]\n",
      " [ 0.  -0.35355339j  0.  +0.j          0.  +0.j          0.5 +0.j\n",
      "   0.  +0.j          0.  +0.j          0.  +0.35355339j  0.  +0.j\n",
      "   0.  +0.j        ]\n",
      " [ 0.  +0.j          0.  +0.j          0.  +0.j          0.  +0.j\n",
      "   0.  +0.j          0.  +0.j          0.  +0.j          0.  +0.j\n",
      "   0.  +0.j        ]\n",
      " [ 0.  +0.j          0.  +0.j          0.  +0.j          0.  +0.j\n",
      "   0.  +0.j          0.  +0.j          0.  +0.j          0.  +0.j\n",
      "   0.  +0.j        ]\n",
      " [-0.25+0.j          0.  +0.j          0.  +0.j          0.  -0.35355339j\n",
      "   0.  +0.j          0.  +0.j          0.25+0.j          0.  +0.j\n",
      "   0.  +0.j        ]\n",
      " [ 0.  +0.j          0.  +0.j          0.  +0.j          0.  +0.j\n",
      "   0.  +0.j          0.  +0.j          0.  +0.j          0.  +0.j\n",
      "   0.  +0.j        ]\n",
      " [ 0.  +0.j          0.  +0.j          0.  +0.j          0.  +0.j\n",
      "   0.  +0.j          0.  +0.j          0.  +0.j          0.  +0.j\n",
      "   0.  +0.j        ]]\n",
      "Quantum object: dims = [[9], [9]], shape = (9, 9), type = oper, isherm = True\n",
      "Qobj data =\n",
      "[[0.17128078+0.j         0.        +0.j         0.        +0.j\n",
      "  0.25874851-0.1251337j  0.        +0.j         0.        +0.j\n",
      "  0.14708736-0.19416424j 0.        +0.j         0.        +0.j        ]\n",
      " [0.        +0.j         0.        +0.j         0.        +0.j\n",
      "  0.        +0.j         0.        +0.j         0.        +0.j\n",
      "  0.        +0.j         0.        +0.j         0.        +0.j        ]\n",
      " [0.        +0.j         0.        +0.j         0.        +0.j\n",
      "  0.        +0.j         0.        +0.j         0.        +0.j\n",
      "  0.        +0.j         0.        +0.j         0.        +0.j        ]\n",
      " [0.25874851+0.1251337j  0.        +0.j         0.        +0.j\n",
      "  0.48230298+0.j         0.        +0.j         0.        +0.j\n",
      "  0.36405207-0.18585928j 0.        +0.j         0.        +0.j        ]\n",
      " [0.        +0.j         0.        +0.j         0.        +0.j\n",
      "  0.        +0.j         0.        +0.j         0.        +0.j\n",
      "  0.        +0.j         0.        +0.j         0.        +0.j        ]\n",
      " [0.        +0.j         0.        +0.j         0.        +0.j\n",
      "  0.        +0.j         0.        +0.j         0.        +0.j\n",
      "  0.        +0.j         0.        +0.j         0.        +0.j        ]\n",
      " [0.14708736+0.19416424j 0.        +0.j         0.        +0.j\n",
      "  0.36405207+0.18585928j 0.        +0.j         0.        +0.j\n",
      "  0.34641623+0.j         0.        +0.j         0.        +0.j        ]\n",
      " [0.        +0.j         0.        +0.j         0.        +0.j\n",
      "  0.        +0.j         0.        +0.j         0.        +0.j\n",
      "  0.        +0.j         0.        +0.j         0.        +0.j        ]\n",
      " [0.        +0.j         0.        +0.j         0.        +0.j\n",
      "  0.        +0.j         0.        +0.j         0.        +0.j\n",
      "  0.        +0.j         0.        +0.j         0.        +0.j        ]]\n"
     ]
    },
    {
     "data": {
      "text/plain": [
       "0.27771715953851"
      ]
     },
     "execution_count": 12,
     "metadata": {},
     "output_type": "execute_result"
    }
   ],
   "source": [
    "idealdensitymatrix=(idealfinalstate * idealfinalstate.dag())#ideal density matrix\n",
    "densitymatrix=(realfinalstate * realfinalstate.dag())# real density matrix\n",
    "print (idealdensitymatrix)\n",
    "print (densitymatrix)\n",
    "fidelity(idealdensitymatrix,densitymatrix)"
   ]
  },
  {
   "cell_type": "markdown",
   "id": "374a06f6",
   "metadata": {},
   "source": [
    "# Plotting City Scape\n"
   ]
  }
 ],
 "metadata": {
  "kernelspec": {
   "display_name": "Python 3 (ipykernel)",
   "language": "python",
   "name": "python3"
  },
  "language_info": {
   "codemirror_mode": {
    "name": "ipython",
    "version": 3
   },
   "file_extension": ".py",
   "mimetype": "text/x-python",
   "name": "python",
   "nbconvert_exporter": "python",
   "pygments_lexer": "ipython3",
   "version": "3.9.12"
  }
 },
 "nbformat": 4,
 "nbformat_minor": 5
}
