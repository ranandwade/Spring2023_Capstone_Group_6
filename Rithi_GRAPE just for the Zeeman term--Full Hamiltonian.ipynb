{
 "cells": [
  {
   "cell_type": "markdown",
   "id": "97f674d8",
   "metadata": {},
   "source": [
    "The nv center paper https://pubs.aip.org/avs/aqs/article/2/2/024701/997281/Introduction-to-quantum-optimal-control-for has an example of a control pulse for just the zeeman term of the Hamiltonian.  I want to replicate this and put it in GRAPE to try to understand how to deal with the B-field being aligned or not aligned with the NV-axes."
   ]
  },
  {
   "cell_type": "code",
   "execution_count": 2,
   "id": "1b55f9b7",
   "metadata": {},
   "outputs": [],
   "source": [
    "import matplotlib.pyplot as plt\n",
    "import time\n",
    "import numpy as np\n",
    "from numpy import pi\n",
    "\n",
    "from scipy.constants import physical_constants, h\n",
    "from dataclasses import dataclass\n",
    "\n",
    "from qutip import *\n",
    "from qutip.control import *\n",
    "from qutip.qip.operations import rx\n",
    "from qutip.qip.operations import ry\n",
    "from qutip.qip.operations import rz\n",
    "\n",
    "from qutip.control.grape import plot_grape_control_fields, _overlap\n",
    "from qutip.control.cy_grape import cy_overlap\n",
    "from qutip.control.grape import cy_grape_unitary, grape_unitary_adaptive\n",
    "\n",
    "from scipy.interpolate import interp1d\n",
    "from qutip.ui.progressbar import TextProgressBar"
   ]
  },
  {
   "cell_type": "code",
   "execution_count": 3,
   "id": "4e1276df",
   "metadata": {},
   "outputs": [
    {
     "data": {
      "text/plain": [
       "'def rz3(phi, N=None, target=0):\\n    \\n    rotationx=Qobj([[np.exp(-1j*(phi/2)),0,0],\\n                            [0,0,0],\\n                            [0,0,-np.exp(1j*(phi/2))]])\\n    \\n    return rotationx\\n\\n\\nT = 1\\ntimes = np.linspace(0, T, 100)\\n\\n#theta, phi = np.random.rand(2)\\ntheta, phi = [pi/2, pi/4]\\n\\n# target unitary transformation (random single qubit rotation)\\n#U = rz(phi) * rx(theta) \\n#U\\n\\nU= rz3(phi) #* rx3(theta) \\nU'"
      ]
     },
     "execution_count": 3,
     "metadata": {},
     "output_type": "execute_result"
    }
   ],
   "source": [
    "'''def rz3(phi, N=None, target=0):\n",
    "    \n",
    "    rotationx=Qobj([[np.exp(-1j*(phi/2)),0,0],\n",
    "                            [0,0,0],\n",
    "                            [0,0,-np.exp(1j*(phi/2))]])\n",
    "    \n",
    "    return rotationx\n",
    "\n",
    "\n",
    "T = 1\n",
    "times = np.linspace(0, T, 100)\n",
    "\n",
    "#theta, phi = np.random.rand(2)\n",
    "theta, phi = [pi/2, pi/4]\n",
    "\n",
    "# target unitary transformation (random single qubit rotation)\n",
    "#U = rz(phi) * rx(theta) \n",
    "#U\n",
    "\n",
    "U= rz3(phi) #* rx3(theta) \n",
    "U'''"
   ]
  },
  {
   "cell_type": "markdown",
   "id": "e0fdab55",
   "metadata": {},
   "source": [
    "ok now I'm going to write out the full Hamiltonian for that term"
   ]
  },
  {
   "cell_type": "code",
   "execution_count": 8,
   "id": "1ceae871",
   "metadata": {},
   "outputs": [
    {
     "name": "stdout",
     "output_type": "stream",
     "text": [
      "Quantum object: dims = [[3, 3], [3, 3]], shape = (9, 9), type = oper, isherm = True\n",
      "Qobj data =\n",
      "[[ 1.  0.  0.  0.  0.  0.  0.  0.  0.]\n",
      " [ 0.  0.  0.  0.  0.  0.  0.  0.  0.]\n",
      " [ 0.  0. -1.  0.  0.  0.  0.  0.  0.]\n",
      " [ 0.  0.  0.  0.  0.  0.  0.  0.  0.]\n",
      " [ 0.  0.  0.  0.  0.  0.  0.  0.  0.]\n",
      " [ 0.  0.  0.  0.  0.  0.  0.  0.  0.]\n",
      " [ 0.  0.  0.  0.  0.  0. -1.  0.  0.]\n",
      " [ 0.  0.  0.  0.  0.  0.  0.  0.  0.]\n",
      " [ 0.  0.  0.  0.  0.  0.  0.  0.  1.]]\n"
     ]
    }
   ],
   "source": [
    "nuclear_spin = 1\n",
    "electron_spin = 1\n",
    "sigmaxE = jmat(electron_spin,'x')\n",
    "sigmayE = jmat(electron_spin,'y')\n",
    "sigmazE = jmat(electron_spin,'z')\n",
    "sigmaxN = jmat(nuclear_spin,'x')\n",
    "sigmayN = jmat(nuclear_spin,'y')\n",
    "sigmazN = jmat(nuclear_spin,'z')\n",
    "sigmazEsquared = sigmazE*sigmazE\n",
    "sigmazNsquared = sigmazN*sigmazN\n",
    "identity3 = identity(3) #3x3 identity matrix\n",
    "\n",
    "\n",
    "\n",
    "#Creating operators that can be tuned in the Hamiltonian via the control fields, list is below called H_ops\n",
    "\n",
    "H_opsEx=tensor(sigmaxE, identity3)\n",
    "H_opsEy=tensor(sigmayE, identity3)\n",
    "H_opsEz=tensor(sigmazE, identity3)\n",
    "H_opsNx=tensor(identity3, sigmaxN)\n",
    "H_opsNy=tensor(identity3, sigmayN)\n",
    "H_opsNz=tensor(identity3, sigmazN)\n",
    "\n",
    "H_opsENx = tensor(sigmaxE, sigmaxN)\n",
    "H_opsENy = tensor(sigmayE, sigmayN)           \n",
    "H_opsENz = tensor(sigmazE, sigmazN)\n",
    "print (H_opsENz)\n",
    "\n",
    "#changing dims bc qutip is silly\n",
    "\n",
    "H_opsEx.dims=[[9],[9]]\n",
    "H_opsEy.dims=[[9],[9]]\n",
    "H_opsEz.dims=[[9],[9]]\n",
    "\n",
    "H_opsNx.dims=[[9],[9]]\n",
    "H_opsNy.dims=[[9],[9]]\n",
    "H_opsNz.dims=[[9],[9]]\n",
    "\n",
    "H_opsENx.dims=[[9],[9]]\n",
    "H_opsENy.dims=[[9],[9]]\n",
    "H_opsENz.dims=[[9],[9]] \n",
    "#making H_ops list           \n",
    "H_ops = [H_opsEx, H_opsEy, H_opsEz, H_opsNx, H_opsNy, H_opsNz, H_opsENx, H_opsENy, H_opsENz]            \n",
    "               \n",
    "               \n",
    "#making labels for pulse sequence graphs\n",
    "H_labels = [r'$uE_{x}$',\n",
    "            r'$uE_{y}$',\n",
    "            r'$uE_{z}$',\n",
    "            r'$uN_{x}$',\n",
    "            r'$uN_{y}$',\n",
    "            r'$uN_{z}$',\n",
    "            r'$uEN_{x}$',\n",
    "            r'$uEN_{y}$',\n",
    "            r'$uEN_{z}$']"
   ]
  },
  {
   "cell_type": "code",
   "execution_count": 12,
   "id": "368c4455",
   "metadata": {},
   "outputs": [
    {
     "data": {
      "text/latex": [
       "Quantum object: dims = [[9], [9]], shape = (9, 9), type = oper, isherm = True $ \\\\ \\left(\\begin{matrix}2.803\\times10^{+10} & 0.0 & 0.0 & 0.0 & 0.0 & 0.0 & 0.0 & 0.0 & 0.0\\\\0.0 & 2.803\\times10^{+10} & 0.0 & 0.0 & 0.0 & 0.0 & 0.0 & 0.0 & 0.0\\\\0.0 & 0.0 & 2.803\\times10^{+10} & 0.0 & 0.0 & 0.0 & 0.0 & 0.0 & 0.0\\\\0.0 & 0.0 & 0.0 & 0.0 & 0.0 & 0.0 & 0.0 & 0.0 & 0.0\\\\0.0 & 0.0 & 0.0 & 0.0 & 0.0 & 0.0 & 0.0 & 0.0 & 0.0\\\\0.0 & 0.0 & 0.0 & 0.0 & 0.0 & 0.0 & 0.0 & 0.0 & 0.0\\\\0.0 & 0.0 & 0.0 & 0.0 & 0.0 & 0.0 & -2.803\\times10^{+10} & 0.0 & 0.0\\\\0.0 & 0.0 & 0.0 & 0.0 & 0.0 & 0.0 & 0.0 & -2.803\\times10^{+10} & 0.0\\\\0.0 & 0.0 & 0.0 & 0.0 & 0.0 & 0.0 & 0.0 & 0.0 & -2.803\\times10^{+10}\\\\\\end{matrix}\\right)$"
      ],
      "text/plain": [
       "Quantum object: dims = [[9], [9]], shape = (9, 9), type = oper, isherm = True\n",
       "Qobj data =\n",
       "[[ 2.80316794e+10  0.00000000e+00  0.00000000e+00  0.00000000e+00\n",
       "   0.00000000e+00  0.00000000e+00  0.00000000e+00  0.00000000e+00\n",
       "   0.00000000e+00]\n",
       " [ 0.00000000e+00  2.80316794e+10  0.00000000e+00  0.00000000e+00\n",
       "   0.00000000e+00  0.00000000e+00  0.00000000e+00  0.00000000e+00\n",
       "   0.00000000e+00]\n",
       " [ 0.00000000e+00  0.00000000e+00  2.80316794e+10  0.00000000e+00\n",
       "   0.00000000e+00  0.00000000e+00  0.00000000e+00  0.00000000e+00\n",
       "   0.00000000e+00]\n",
       " [ 0.00000000e+00  0.00000000e+00  0.00000000e+00  0.00000000e+00\n",
       "   0.00000000e+00  0.00000000e+00  0.00000000e+00  0.00000000e+00\n",
       "   0.00000000e+00]\n",
       " [ 0.00000000e+00  0.00000000e+00  0.00000000e+00  0.00000000e+00\n",
       "   0.00000000e+00  0.00000000e+00  0.00000000e+00  0.00000000e+00\n",
       "   0.00000000e+00]\n",
       " [ 0.00000000e+00  0.00000000e+00  0.00000000e+00  0.00000000e+00\n",
       "   0.00000000e+00  0.00000000e+00  0.00000000e+00  0.00000000e+00\n",
       "   0.00000000e+00]\n",
       " [ 0.00000000e+00  0.00000000e+00  0.00000000e+00  0.00000000e+00\n",
       "   0.00000000e+00  0.00000000e+00 -2.80316794e+10  0.00000000e+00\n",
       "   0.00000000e+00]\n",
       " [ 0.00000000e+00  0.00000000e+00  0.00000000e+00  0.00000000e+00\n",
       "   0.00000000e+00  0.00000000e+00  0.00000000e+00 -2.80316794e+10\n",
       "   0.00000000e+00]\n",
       " [ 0.00000000e+00  0.00000000e+00  0.00000000e+00  0.00000000e+00\n",
       "   0.00000000e+00  0.00000000e+00  0.00000000e+00  0.00000000e+00\n",
       "  -2.80316794e+10]]"
      ]
     },
     "execution_count": 12,
     "metadata": {},
     "output_type": "execute_result"
    }
   ],
   "source": [
    "#defining hamiltonian for NV center\n",
    "\n",
    "#constants\n",
    "\n",
    "f_fine_structure = 2.87e9\n",
    "f_nuclear_quadrupole = -5.01e6\n",
    "f_axial_magnetic_hyperfine = -2.14e6\n",
    "f_transverse_magnetic_hyperfine = -2.7e6\n",
    "g_factor_electron = 2.0028\n",
    "gyromagnetic_constant_nuclear = 1.93297e7 / (2 * np.pi)\n",
    "uB = physical_constants['Bohr magneton'][0]\n",
    "uN = physical_constants['nuclear magneton'][0]    \n",
    "bvector=[0,0,1]\n",
    "\n",
    "H5 = ((uB/h) * g_factor_electron) * tensor((sigmaxE*bvector[0] + sigmayE*bvector[1] + sigmazE*bvector[2]), identity3)\n",
    "\n",
    "H6 = gyromagnetic_constant_nuclear * tensor(identity3,(sigmaxN*bvector[0] + sigmayN*bvector[1] + sigmazN*bvector[2]))\n",
    "\n",
    "    \n",
    "H0= H5\n",
    "H0.dims=[[9],[9]] #changing dimensions bc dot products are silly\n",
    "#H0 #hamiltonian without nuclear b field term\n",
    "H5"
   ]
  },
  {
   "cell_type": "code",
   "execution_count": 16,
   "id": "cfbb404d",
   "metadata": {},
   "outputs": [],
   "source": [
    "U = 0 * H5"
   ]
  },
  {
   "cell_type": "code",
   "execution_count": 17,
   "id": "c1cddfb3",
   "metadata": {},
   "outputs": [],
   "source": [
    "R = 150 #GRAPE itterations\n",
    "\n",
    "T = 1\n",
    "times = np.linspace(0, T, 100)\n",
    "##creating initial control pulse values as starting guess for GRAPE\n",
    "\n",
    "u0 = np.array([np.random.rand(len(times)) * 2 * pi * 0.005 for _ in range(len(H_ops))])\n",
    "\n",
    "u0 = [np.convolve(np.ones(10) / 10, u0[idx, :], mode='same') for idx in range(len(H_ops))]"
   ]
  },
  {
   "cell_type": "code",
   "execution_count": 18,
   "id": "c2cf5d34",
   "metadata": {},
   "outputs": [
    {
     "name": "stdout",
     "output_type": "stream",
     "text": [
      "10.0%. Run time:  28.26s. Est. time left: 00:00:04:14\n",
      "20.0%. Run time:  56.94s. Est. time left: 00:00:03:47\n",
      "30.0%. Run time:  85.26s. Est. time left: 00:00:03:18\n",
      "40.0%. Run time: 112.21s. Est. time left: 00:00:02:48\n",
      "50.0%. Run time: 136.12s. Est. time left: 00:00:02:16\n",
      "60.0%. Run time: 160.56s. Est. time left: 00:00:01:47\n",
      "70.0%. Run time: 176.98s. Est. time left: 00:00:01:15\n",
      "80.0%. Run time: 192.76s. Est. time left: 00:00:00:48\n",
      "90.0%. Run time: 208.66s. Est. time left: 00:00:00:23\n",
      "Total run time: 223.38s\n"
     ]
    }
   ],
   "source": [
    "#doing GRAPE!\n",
    "\n",
    "result = cy_grape_unitary(U, H0, H_ops, R, times, u_start=u0, eps=2 * pi / T, phase_sensitive=False,\n",
    "                          progress_bar=TextProgressBar())"
   ]
  },
  {
   "cell_type": "code",
   "execution_count": null,
   "id": "69625783",
   "metadata": {},
   "outputs": [],
   "source": [
    "plot_grape_control_fields(times, result.u[:, :, :] / (2 * pi), H_labels, uniform_axes=True);\n",
    "plt.show()"
   ]
  }
 ],
 "metadata": {
  "kernelspec": {
   "display_name": "Python 3 (ipykernel)",
   "language": "python",
   "name": "python3"
  },
  "language_info": {
   "codemirror_mode": {
    "name": "ipython",
    "version": 3
   },
   "file_extension": ".py",
   "mimetype": "text/x-python",
   "name": "python",
   "nbconvert_exporter": "python",
   "pygments_lexer": "ipython3",
   "version": "3.9.13"
  }
 },
 "nbformat": 4,
 "nbformat_minor": 5
}
