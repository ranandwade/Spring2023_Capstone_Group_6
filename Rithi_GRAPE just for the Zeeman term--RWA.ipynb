{
 "cells": [
  {
   "cell_type": "markdown",
   "id": "97f674d8",
   "metadata": {},
   "source": [
    "The nv center paper https://pubs.aip.org/avs/aqs/article/2/2/024701/997281/Introduction-to-quantum-optimal-control-for has an example of a control pulse for just the zeeman term of the Hamiltonian.  I want to replicate this and put it in GRAPE to try to understand how to deal with the B-field being aligned or not aligned with the NV-axes."
   ]
  },
  {
   "cell_type": "code",
   "execution_count": 15,
   "id": "1b55f9b7",
   "metadata": {},
   "outputs": [],
   "source": [
    "import matplotlib.pyplot as plt\n",
    "import time\n",
    "import numpy as np\n",
    "from numpy import pi\n",
    "\n",
    "from scipy.constants import physical_constants, h\n",
    "from dataclasses import dataclass\n",
    "\n",
    "from qutip import *\n",
    "from qutip.control import *\n",
    "from qutip.qip.operations import rx\n",
    "from qutip.qip.operations import ry\n",
    "from qutip.qip.operations import rz\n",
    "\n",
    "from qutip.control.grape import plot_grape_control_fields, _overlap\n",
    "from qutip.control.cy_grape import cy_overlap\n",
    "from qutip.control.grape import cy_grape_unitary, grape_unitary_adaptive\n",
    "\n",
    "from scipy.interpolate import interp1d\n",
    "from qutip.ui.progressbar import TextProgressBar"
   ]
  },
  {
   "cell_type": "code",
   "execution_count": 21,
   "id": "4e1276df",
   "metadata": {},
   "outputs": [
    {
     "data": {
      "text/plain": [
       "'def rz3(phi, N=None, target=0):\\n    \\n    rotationx=Qobj([[np.exp(-1j*(phi/2)),0,0],\\n                            [0,0,0],\\n                            [0,0,-np.exp(1j*(phi/2))]])\\n    \\n    return rotationx\\n\\n\\nT = 1\\ntimes = np.linspace(0, T, 100)\\n\\n#theta, phi = np.random.rand(2)\\ntheta, phi = [pi/2, pi/4]\\n\\n# target unitary transformation (random single qubit rotation)\\n#U = rz(phi) * rx(theta) \\n#U\\n\\nU= rz3(phi) #* rx3(theta) \\nU'"
      ]
     },
     "execution_count": 21,
     "metadata": {},
     "output_type": "execute_result"
    }
   ],
   "source": [
    "'''def rz3(phi, N=None, target=0):\n",
    "    \n",
    "    rotationx=Qobj([[np.exp(-1j*(phi/2)),0,0],\n",
    "                            [0,0,0],\n",
    "                            [0,0,-np.exp(1j*(phi/2))]])\n",
    "    \n",
    "    return rotationx\n",
    "\n",
    "\n",
    "T = 1\n",
    "times = np.linspace(0, T, 100)\n",
    "\n",
    "#theta, phi = np.random.rand(2)\n",
    "theta, phi = [pi/2, pi/4]\n",
    "\n",
    "# target unitary transformation (random single qubit rotation)\n",
    "#U = rz(phi) * rx(theta) \n",
    "#U\n",
    "\n",
    "U= rz3(phi) #* rx3(theta) \n",
    "U'''"
   ]
  },
  {
   "cell_type": "markdown",
   "id": "0f39068f",
   "metadata": {},
   "source": [
    "The following cells are to write the Hamiltonian using the rotating wave approximation"
   ]
  },
  {
   "cell_type": "code",
   "execution_count": 29,
   "id": "79384311",
   "metadata": {},
   "outputs": [],
   "source": [
    "R = 150\n",
    "H_ops = [sigmax(), sigmay(), sigmaz()]\n",
    "\n",
    "#Labels for the graph\n",
    "H_labels = [r'$u_{x}$',\n",
    "            r'$u_{y}$',\n",
    "            r'$u_{z}$',\n",
    "        ]"
   ]
  },
  {
   "cell_type": "code",
   "execution_count": 18,
   "id": "b6068d84",
   "metadata": {},
   "outputs": [],
   "source": [
    "#defining constants in hamiltonian\n",
    "h= 6.582119 * 1e-16 #eV * sec ???????????? what h bar to use\n",
    "D= 2.87 * 1e9 #given in GHz converted to Hz\n",
    "E= 5.2 * 1e6 #given in MHz converted to Hz \n",
    "delta_parallel= 0.17 #Hz/(V*m^-1)\n",
    "delta_perpendicular= 1e-3 #Hz/(V*m^-1)\n",
    "epsilonX= 1.31 * 1e6 #given in MHz converted to Hz\n",
    "epsilonY= 1.31 * 1e6 #given in MHz converted to Hz\n",
    "epsilonZ= 1.31 * 1e6 #given in MHz converted to Hz\n",
    "\n",
    "#squaring matrices\n",
    "sigmaX3squared=sigmax3*sigmaX3\n",
    "sigmaY3squared=sigmaY3*sigmaY3\n",
    "sigmaZ3squared=sigmaZ3*sigmaZ3"
   ]
  },
  {
   "cell_type": "code",
   "execution_count": 30,
   "id": "899884e6",
   "metadata": {},
   "outputs": [
    {
     "data": {
      "text/latex": [
       "Quantum object: dims = [[3], [3]], shape = (3, 3), type = oper, isherm = True $ \\\\ \\left(\\begin{matrix}-2.443\\times10^{-11} & 0.0 & 0.0\\\\0.0 & -9.772\\times10^{-11} & 0.0\\\\0.0 & 0.0 & -2.443\\times10^{-11}\\\\\\end{matrix}\\right)$"
      ],
      "text/plain": [
       "Quantum object: dims = [[3], [3]], shape = (3, 3), type = oper, isherm = True\n",
       "Qobj data =\n",
       "[[-2.44306317e-11  0.00000000e+00  0.00000000e+00]\n",
       " [ 0.00000000e+00 -9.77225268e-11  0.00000000e+00]\n",
       " [ 0.00000000e+00  0.00000000e+00 -2.44306317e-11]]"
      ]
     },
     "execution_count": 30,
     "metadata": {},
     "output_type": "execute_result"
    }
   ],
   "source": [
    "H0= h * delta_parallel * epsilonZ * (sigmaZ3squared-(2/3)) - ((h * delta_perpendicular) \\\n",
    "        * ((epsilonX * ((sigmaX3*sigmaY3) + (sigmaY3*sigmaX3))) + (epsilonY * (sigmaX3squared - sigmaY3squared))))\n",
    "\n",
    "H0"
   ]
  },
  {
   "cell_type": "code",
   "execution_count": 22,
   "id": "eb38d2ff",
   "metadata": {},
   "outputs": [
    {
     "name": "stdout",
     "output_type": "stream",
     "text": [
      "Quantum object: dims = [[2], [1]], shape = (2, 1), type = ket\n",
      "Qobj data =\n",
      "[[1.]\n",
      " [0.]]\n"
     ]
    }
   ],
   "source": [
    "#writing out starting state for single qubit\n",
    "\n",
    "psi0 = basis(2, 0)\n",
    "print (psi0)"
   ]
  },
  {
   "cell_type": "code",
   "execution_count": 23,
   "id": "0a952aac",
   "metadata": {},
   "outputs": [
    {
     "data": {
      "text/latex": [
       "Quantum object: dims = [[2], [2]], shape = (2, 2), type = oper, isherm = False $ \\\\ \\left(\\begin{matrix}0.707 & -0.707\\\\0.707 & 0.707\\\\\\end{matrix}\\right)$"
      ],
      "text/plain": [
       "Quantum object: dims = [[2], [2]], shape = (2, 2), type = oper, isherm = False\n",
       "Qobj data =\n",
       "[[ 0.70710678 -0.70710678]\n",
       " [ 0.70710678  0.70710678]]"
      ]
     },
     "execution_count": 23,
     "metadata": {},
     "output_type": "execute_result"
    }
   ],
   "source": [
    "#creating transform matrix\n",
    "\n",
    "phi=(np.pi/2)\n",
    "U = ry(phi)\n",
    "U"
   ]
  },
  {
   "cell_type": "code",
   "execution_count": 24,
   "id": "fe3267ae",
   "metadata": {},
   "outputs": [],
   "source": [
    "#definiting U0 ??????\n",
    "\n",
    "u0 = np.array([np.random.rand(len(times)) * 2 * pi * 0.005 for _ in range(len(H_ops))])\n",
    "u0 = [np.convolve(np.ones(10)/10, u0[idx,:], mode='same') for idx in range(len(H_ops))]"
   ]
  },
  {
   "cell_type": "code",
   "execution_count": 27,
   "id": "6ab14a44",
   "metadata": {},
   "outputs": [
    {
     "ename": "ValueError",
     "evalue": "dimension mismatch",
     "output_type": "error",
     "traceback": [
      "\u001b[1;31m---------------------------------------------------------------------------\u001b[0m",
      "\u001b[1;31mValueError\u001b[0m                                Traceback (most recent call last)",
      "\u001b[1;32m~\\AppData\\Local\\Temp\\ipykernel_984\\1935869485.py\u001b[0m in \u001b[0;36m<module>\u001b[1;34m\u001b[0m\n\u001b[0;32m      1\u001b[0m \u001b[1;31m#doing GRAPE!\u001b[0m\u001b[1;33m\u001b[0m\u001b[1;33m\u001b[0m\u001b[0m\n\u001b[1;32m----> 2\u001b[1;33m result = cy_grape_unitary(U, H0, H_ops, R, times, u_start=u0, eps=2*pi/T, phase_sensitive=False,\n\u001b[0m\u001b[0;32m      3\u001b[0m                           progress_bar=TextProgressBar())\n",
      "\u001b[1;32m~\\AppData\\Roaming\\Python\\Python39\\site-packages\\qutip\\control\\grape.py\u001b[0m in \u001b[0;36mcy_grape_unitary\u001b[1;34m(U, H0, H_ops, R, times, eps, u_start, u_limits, interp_kind, use_interp, alpha, beta, phase_sensitive, progress_bar)\u001b[0m\n\u001b[0;32m    366\u001b[0m \u001b[1;33m\u001b[0m\u001b[0m\n\u001b[0;32m    367\u001b[0m             \u001b[0mU_b_list\u001b[0m\u001b[1;33m.\u001b[0m\u001b[0minsert\u001b[0m\u001b[1;33m(\u001b[0m\u001b[1;36m0\u001b[0m\u001b[1;33m,\u001b[0m \u001b[0mU_b\u001b[0m\u001b[1;33m)\u001b[0m\u001b[1;33m\u001b[0m\u001b[1;33m\u001b[0m\u001b[0m\n\u001b[1;32m--> 368\u001b[1;33m             \u001b[0mU_b\u001b[0m \u001b[1;33m=\u001b[0m \u001b[0mU_list\u001b[0m\u001b[1;33m[\u001b[0m\u001b[0mM\u001b[0m \u001b[1;33m-\u001b[0m \u001b[1;36m2\u001b[0m \u001b[1;33m-\u001b[0m \u001b[0mn\u001b[0m\u001b[1;33m]\u001b[0m\u001b[1;33m.\u001b[0m\u001b[0mT\u001b[0m\u001b[1;33m.\u001b[0m\u001b[0mconj\u001b[0m\u001b[1;33m(\u001b[0m\u001b[1;33m)\u001b[0m\u001b[1;33m.\u001b[0m\u001b[0mtocsr\u001b[0m\u001b[1;33m(\u001b[0m\u001b[1;33m)\u001b[0m \u001b[1;33m*\u001b[0m \u001b[0mU_b\u001b[0m\u001b[1;33m\u001b[0m\u001b[1;33m\u001b[0m\u001b[0m\n\u001b[0m\u001b[0;32m    369\u001b[0m \u001b[1;33m\u001b[0m\u001b[0m\n\u001b[0;32m    370\u001b[0m         cy_grape_inner(U.data, u, r, J, M, U_b_list, U_f_list, H_ops_data,\n",
      "\u001b[1;32mC:\\ProgramData\\Anaconda3\\lib\\site-packages\\scipy\\sparse\\_base.py\u001b[0m in \u001b[0;36m__mul__\u001b[1;34m(self, other)\u001b[0m\n\u001b[0;32m    588\u001b[0m \u001b[1;33m\u001b[0m\u001b[0m\n\u001b[0;32m    589\u001b[0m     \u001b[1;32mdef\u001b[0m \u001b[0m__mul__\u001b[0m\u001b[1;33m(\u001b[0m\u001b[0mself\u001b[0m\u001b[1;33m,\u001b[0m \u001b[0mother\u001b[0m\u001b[1;33m)\u001b[0m\u001b[1;33m:\u001b[0m\u001b[1;33m\u001b[0m\u001b[1;33m\u001b[0m\u001b[0m\n\u001b[1;32m--> 590\u001b[1;33m         \u001b[1;32mreturn\u001b[0m \u001b[0mself\u001b[0m\u001b[1;33m.\u001b[0m\u001b[0m_mul_dispatch\u001b[0m\u001b[1;33m(\u001b[0m\u001b[0mother\u001b[0m\u001b[1;33m)\u001b[0m\u001b[1;33m\u001b[0m\u001b[1;33m\u001b[0m\u001b[0m\n\u001b[0m\u001b[0;32m    591\u001b[0m \u001b[1;33m\u001b[0m\u001b[0m\n\u001b[0;32m    592\u001b[0m     \u001b[1;31m# by default, use CSR for __mul__ handlers\u001b[0m\u001b[1;33m\u001b[0m\u001b[1;33m\u001b[0m\u001b[0m\n",
      "\u001b[1;32mC:\\ProgramData\\Anaconda3\\lib\\site-packages\\scipy\\sparse\\_base.py\u001b[0m in \u001b[0;36m_mul_dispatch\u001b[1;34m(self, other)\u001b[0m\n\u001b[0;32m    538\u001b[0m         \u001b[1;32mif\u001b[0m \u001b[0missparse\u001b[0m\u001b[1;33m(\u001b[0m\u001b[0mother\u001b[0m\u001b[1;33m)\u001b[0m\u001b[1;33m:\u001b[0m\u001b[1;33m\u001b[0m\u001b[1;33m\u001b[0m\u001b[0m\n\u001b[0;32m    539\u001b[0m             \u001b[1;32mif\u001b[0m \u001b[0mself\u001b[0m\u001b[1;33m.\u001b[0m\u001b[0mshape\u001b[0m\u001b[1;33m[\u001b[0m\u001b[1;36m1\u001b[0m\u001b[1;33m]\u001b[0m \u001b[1;33m!=\u001b[0m \u001b[0mother\u001b[0m\u001b[1;33m.\u001b[0m\u001b[0mshape\u001b[0m\u001b[1;33m[\u001b[0m\u001b[1;36m0\u001b[0m\u001b[1;33m]\u001b[0m\u001b[1;33m:\u001b[0m\u001b[1;33m\u001b[0m\u001b[1;33m\u001b[0m\u001b[0m\n\u001b[1;32m--> 540\u001b[1;33m                 \u001b[1;32mraise\u001b[0m \u001b[0mValueError\u001b[0m\u001b[1;33m(\u001b[0m\u001b[1;34m'dimension mismatch'\u001b[0m\u001b[1;33m)\u001b[0m\u001b[1;33m\u001b[0m\u001b[1;33m\u001b[0m\u001b[0m\n\u001b[0m\u001b[0;32m    541\u001b[0m             \u001b[1;32mreturn\u001b[0m \u001b[0mself\u001b[0m\u001b[1;33m.\u001b[0m\u001b[0m_mul_sparse_matrix\u001b[0m\u001b[1;33m(\u001b[0m\u001b[0mother\u001b[0m\u001b[1;33m)\u001b[0m\u001b[1;33m\u001b[0m\u001b[1;33m\u001b[0m\u001b[0m\n\u001b[0;32m    542\u001b[0m \u001b[1;33m\u001b[0m\u001b[0m\n",
      "\u001b[1;31mValueError\u001b[0m: dimension mismatch"
     ]
    }
   ],
   "source": [
    "#doing GRAPE!\n",
    "result = cy_grape_unitary(U, H0, H_ops, R, times, u_start=u0, eps=2*pi/T, phase_sensitive=False,\n",
    "                          progress_bar=TextProgressBar())"
   ]
  },
  {
   "cell_type": "markdown",
   "id": "e0fdab55",
   "metadata": {},
   "source": [
    "ok now I'm going to write out the full Hamiltonian for that term"
   ]
  },
  {
   "cell_type": "code",
   "execution_count": 13,
   "id": "1ceae871",
   "metadata": {},
   "outputs": [],
   "source": [
    "#defining hamiltonian for NV center\n",
    "\n",
    "#constants\n",
    "\n",
    "f_fine_structure = 2.87e9\n",
    "f_nuclear_quadrupole = -5.01e6\n",
    "f_axial_magnetic_hyperfine = -2.14E6\n",
    "f_transverse_magnetic_hyperfine = -2.7E6\n",
    "g_factor_electron = 2.0028\n",
    "gyromagnetic_constant_nuclear = 1.93297E7 / (2 * np.pi)\n",
    "uB = physical_constants['Bohr magneton'][0]\n",
    "uN = physical_constants['nuclear magneton'][0]    \n",
    "bvector=[0,0,1]\n",
    "\n",
    "\n",
    "\n",
    "@dataclass\n",
    "class NVGroundParameters14N:\n",
    "    nuclear_spin: int = 1\n",
    "    electron_spin: int = 1\n",
    "    f_fine_structure: float = 2.87E9\n",
    "    f_nuclear_quadrupole: float = -5.01E6\n",
    "    f_axial_magnetic_hyperfine: float = -2.14E6\n",
    "    f_transverse_magnetic_hyperfine: float = -2.7E6\n",
    "    g_factor_electron: float = 2.0028\n",
    "    gyromagnetic_constant_nuclear: float = 1.93297E7 / (2 * np.pi) # Hz / Tesla\n",
    "\n",
    "        \n",
    "bvector=[0,0,1]\n",
    "\n",
    "def nnplus1(n):\n",
    "    return n * (n + 1)\n",
    "\n",
    "\n",
    "def twonplus1(n):\n",
    "    return 2 * n + 1"
   ]
  },
  {
   "cell_type": "code",
   "execution_count": 14,
   "id": "368c4455",
   "metadata": {},
   "outputs": [],
   "source": [
    "def get_nv_zeeman_hamiltonian(p:NVGroundParameters14N, bvector):\n",
    "    \"\"\"\n",
    "    Zeeman Hamiltonian for both electronic and nuclear spin.\n",
    "    :param p: Ground state NV center parameters\n",
    "    :param bvector: Static magnetic field vector\n",
    "    :return: The Zeeman Hamiltonian for a static magnetic field\n",
    "    \"\"\"\n",
    "    h_zeeman = uB / h * p.g_factor_electron * tensor(jmat(p.electron_spin, 'x') * bvector[0] +\n",
    "                                            jmat(p.electron_spin, 'y') * bvector[1] +\n",
    "                                            jmat(p.electron_spin, 'z') * bvector[2], identity(twonplus1(p.nuclear_spin))) + \\\n",
    "          p.gyromagnetic_constant_nuclear * (tensor(identity(twonplus1(p.electron_spin)),\n",
    "                                                    jmat(p.nuclear_spin, 'x') * bvector[0] +\n",
    "                                                    jmat(p.nuclear_spin, 'y') * bvector[1] +\n",
    "                                                    jmat(p.nuclear_spin, 'z') * bvector[2]))\n",
    "    return h_zeeman"
   ]
  },
  {
   "cell_type": "code",
   "execution_count": null,
   "id": "c1cddfb3",
   "metadata": {},
   "outputs": [],
   "source": []
  }
 ],
 "metadata": {
  "kernelspec": {
   "display_name": "Python 3 (ipykernel)",
   "language": "python",
   "name": "python3"
  },
  "language_info": {
   "codemirror_mode": {
    "name": "ipython",
    "version": 3
   },
   "file_extension": ".py",
   "mimetype": "text/x-python",
   "name": "python",
   "nbconvert_exporter": "python",
   "pygments_lexer": "ipython3",
   "version": "3.9.13"
  }
 },
 "nbformat": 4,
 "nbformat_minor": 5
}
