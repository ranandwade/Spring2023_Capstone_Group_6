{
 "cells": [
  {
   "cell_type": "code",
   "execution_count": 63,
   "id": "90356ed2",
   "metadata": {},
   "outputs": [],
   "source": [
    "import matplotlib.pyplot as plt\n",
    "import time\n",
    "import numpy as np\n",
    "from numpy import pi\n",
    "\n",
    "from qutip import *\n",
    "from qutip.control import *\n",
    "from qutip.qip.operations import rx\n",
    "from qutip.qip.operations import ry\n",
    "from qutip.qip.operations import rz\n",
    "\n",
    "from qutip.control.grape import plot_grape_control_fields, _overlap\n",
    "from qutip.control.cy_grape import cy_overlap\n",
    "from qutip.control.grape import cy_grape_unitary, grape_unitary_adaptive\n",
    "\n",
    "from scipy.interpolate import interp1d\n",
    "from qutip.ui.progressbar import TextProgressBar\n",
    "from dataclasses import dataclass\n",
    "from typing import List, Tuple, Sequence\n",
    "\n",
    "import matplotlib.pyplot as plt\n",
    "import numpy as np\n",
    "import plotly.graph_objs as go\n",
    "import plotly.express as px\n",
    "\n",
    "from scipy.constants import physical_constants, h\n",
    "\n",
    "from qutip import jmat, tensor, identity, Qobj\n",
    "\n",
    "from scipy.interpolate import interp1d\n",
    "from qutip.ui.progressbar import TextProgressBar\n",
    "from qiskit.visualization import plot_state_city\n",
    "from qiskit.visualization import plot_bloch_multivector\n",
    "\n",
    "import numpy as np"
   ]
  },
  {
   "cell_type": "markdown",
   "id": "02f55882",
   "metadata": {},
   "source": [
    "# Finding Pulse Sequence"
   ]
  },
  {
   "cell_type": "markdown",
   "id": "62678ac8",
   "metadata": {},
   "source": [
    "### Setting beginning and ending states\n",
    "### setting desired U value"
   ]
  },
  {
   "cell_type": "code",
   "execution_count": 64,
   "id": "c0d049a4",
   "metadata": {},
   "outputs": [
    {
     "name": "stdout",
     "output_type": "stream",
     "text": [
      "Quantum object: dims = [[9], [1]], shape = (9, 1), type = ket\n",
      "Qobj data =\n",
      "[[1.]\n",
      " [0.]\n",
      " [0.]\n",
      " [0.]\n",
      " [0.]\n",
      " [0.]\n",
      " [0.]\n",
      " [0.]\n",
      " [0.]]\n",
      "Quantum object: dims = [[9], [1]], shape = (9, 1), type = ket\n",
      "Qobj data =\n",
      "[[0.]\n",
      " [0.]\n",
      " [1.]\n",
      " [0.]\n",
      " [0.]\n",
      " [0.]\n",
      " [0.]\n",
      " [0.]\n",
      " [0.]]\n"
     ]
    },
    {
     "name": "stderr",
     "output_type": "stream",
     "text": [
      "C:\\Users\\RA\\AppData\\Local\\Temp\\ipykernel_5060\\1588627107.py:11: DeprecationWarning: Importing functions/classes of the qip submodule directly from the namespace qutip is deprecated. Please import them from the submodule instead, e.g.\n",
      "from qutip.qip.operations import cnot\n",
      "from qutip.qip.circuit import QubitCircuit\n",
      "\n",
      "  U=tensor(rotation (jmat(1,'x'),pi),identity(3))\n"
     ]
    },
    {
     "data": {
      "text/latex": [
       "Quantum object: dims = [[9], [9]], shape = (9, 9), type = oper, isherm = False $ \\\\ \\left(\\begin{matrix}0.500 & 0.0 & 0.0 & -0.707j & 0.0 & 0.0 & -0.500 & 0.0 & 0.0\\\\0.0 & 0.500 & 0.0 & 0.0 & -0.707j & 0.0 & 0.0 & -0.500 & 0.0\\\\0.0 & 0.0 & 0.500 & 0.0 & 0.0 & -0.707j & 0.0 & 0.0 & -0.500\\\\-0.707j & 0.0 & 0.0 & 0.0 & 0.0 & 0.0 & -0.707j & 0.0 & 0.0\\\\0.0 & -0.707j & 0.0 & 0.0 & 0.0 & 0.0 & 0.0 & -0.707j & 0.0\\\\0.0 & 0.0 & -0.707j & 0.0 & 0.0 & 0.0 & 0.0 & 0.0 & -0.707j\\\\-0.500 & 0.0 & 0.0 & -0.707j & 0.0 & 0.0 & 0.500 & 0.0 & 0.0\\\\0.0 & -0.500 & 0.0 & 0.0 & -0.707j & 0.0 & 0.0 & 0.500 & 0.0\\\\0.0 & 0.0 & -0.500 & 0.0 & 0.0 & -0.707j & 0.0 & 0.0 & 0.500\\\\\\end{matrix}\\right)$"
      ],
      "text/plain": [
       "Quantum object: dims = [[9], [9]], shape = (9, 9), type = oper, isherm = False\n",
       "Qobj data =\n",
       "[[ 0.5+0.j          0. +0.j          0. +0.j          0. -0.70710678j\n",
       "   0. +0.j          0. +0.j         -0.5+0.j          0. +0.j\n",
       "   0. +0.j        ]\n",
       " [ 0. +0.j          0.5+0.j          0. +0.j          0. +0.j\n",
       "   0. -0.70710678j  0. +0.j          0. +0.j         -0.5+0.j\n",
       "   0. +0.j        ]\n",
       " [ 0. +0.j          0. +0.j          0.5+0.j          0. +0.j\n",
       "   0. +0.j          0. -0.70710678j  0. +0.j          0. +0.j\n",
       "  -0.5+0.j        ]\n",
       " [ 0. -0.70710678j  0. +0.j          0. +0.j          0. +0.j\n",
       "   0. +0.j          0. +0.j          0. -0.70710678j  0. +0.j\n",
       "   0. +0.j        ]\n",
       " [ 0. +0.j          0. -0.70710678j  0. +0.j          0. +0.j\n",
       "   0. +0.j          0. +0.j          0. +0.j          0. -0.70710678j\n",
       "   0. +0.j        ]\n",
       " [ 0. +0.j          0. +0.j          0. -0.70710678j  0. +0.j\n",
       "   0. +0.j          0. +0.j          0. +0.j          0. +0.j\n",
       "   0. -0.70710678j]\n",
       " [-0.5+0.j          0. +0.j          0. +0.j          0. -0.70710678j\n",
       "   0. +0.j          0. +0.j          0.5+0.j          0. +0.j\n",
       "   0. +0.j        ]\n",
       " [ 0. +0.j         -0.5+0.j          0. +0.j          0. +0.j\n",
       "   0. -0.70710678j  0. +0.j          0. +0.j          0.5+0.j\n",
       "   0. +0.j        ]\n",
       " [ 0. +0.j          0. +0.j         -0.5+0.j          0. +0.j\n",
       "   0. +0.j          0. -0.70710678j  0. +0.j          0. +0.j\n",
       "   0.5+0.j        ]]"
      ]
     },
     "execution_count": 64,
     "metadata": {},
     "output_type": "execute_result"
    }
   ],
   "source": [
    "qubit1state=basis(3, 0)\n",
    "qubit2state=basis(3, 0)\n",
    "startingstate=tensor(qubit1state,qubit1state) #initial state\n",
    "endingstate= tensor(basis(3,0),basis(3,2))\n",
    "startingstate.dims=[[9],[1]]\n",
    "endingstate.dims=[[9],[1]]\n",
    "print (startingstate)\n",
    "print (endingstate)\n",
    "\n",
    "\n",
    "U=tensor(rotation (jmat(1,'x'),pi),identity(3))\n",
    "\n",
    "U.dims=[[9],[9]]\n",
    "U\n",
    "\n"
   ]
  },
  {
   "cell_type": "markdown",
   "id": "45166508",
   "metadata": {},
   "source": [
    "## Defining 3x3 pauli spin matrices \n",
    "## Definiting number of iterations\n",
    "## Defining H_ops"
   ]
  },
  {
   "cell_type": "code",
   "execution_count": 65,
   "id": "d67d543b",
   "metadata": {},
   "outputs": [],
   "source": [
    "#defining constants in hamiltonian\n",
    "#h= 6.582119 * 1e-16 #eV * sec \n",
    "Bperpendicular = 10 #mT\n",
    "Bparallel = 10 #mT\n",
    "gammanv = 2*np.pi*28 * 1000000 #Hz/mT\n",
    "omeganv = Bparallel * gammanv\n",
    "omegamw = 1000000000 #Hz\n",
    "Delta = omeganv - omegamw\n",
    "#Delta\n",
    "Omega = Bperpendicular * gammanv\n",
    "Omega\n",
    "\n",
    "#constants\n",
    "\n",
    "f_fine_structure = 2.87e9\n",
    "f_nuclear_quadrupole = -5.01e6\n",
    "f_axial_magnetic_hyperfine = -2.14e6\n",
    "f_transverse_magnetic_hyperfine = -2.7e6\n",
    "g_factor_electron = 2.0028\n",
    "gyromagnetic_constant_nuclear = 1.93297e7 / (2 * np.pi)\n",
    "uB = physical_constants['Bohr magneton'][0]\n",
    "uN = physical_constants['nuclear magneton'][0]    \n",
    "bvector=[0,0,1]\n",
    "\n",
    "\n",
    "T = 1/2000000000\n",
    "steps=1000\n",
    "times = np.linspace(0, T, steps)"
   ]
  },
  {
   "cell_type": "code",
   "execution_count": 66,
   "id": "2ddca87e",
   "metadata": {},
   "outputs": [],
   "source": [
    "\n",
    "\n",
    "#wirting our terms so I can actually read the hamiltonian\n",
    "#Nuc terms are second qubit\n",
    "#Elec qubit is first qubit\n",
    "\n",
    "nuclear_spin = 1\n",
    "electron_spin = 1\n",
    "sigmaxE = jmat(electron_spin,'x')\n",
    "sigmayE = jmat(electron_spin,'y')\n",
    "sigmazE = jmat(electron_spin,'z')\n",
    "sigmaxN = jmat(nuclear_spin,'x')\n",
    "sigmayN = jmat(nuclear_spin,'y')\n",
    "sigmazN = jmat(nuclear_spin,'z')\n",
    "sigmazEsquared = sigmazE*sigmazE\n",
    "sigmazNsquared = sigmazN*sigmazN\n",
    "identity3 = identity(3) #3x3 identity matrix\n",
    "\n",
    "\n",
    "\n",
    "#Creating operators that can be tuned in the Hamiltonian via the control fields, list is below called H_ops\n",
    "\n",
    "H_opsEx=tensor(sigmaxE, identity3)\n",
    "H_opsEy=tensor(sigmayE, identity3)\n",
    "H_opsEz=tensor(sigmazE, identity3)\n",
    "\n",
    "H_opsNx=tensor(identity3, sigmaxN)\n",
    "H_opsNy=tensor(identity3, sigmayN)\n",
    "H_opsNz=tensor(identity3, sigmazN)\n",
    "\n",
    "H_opsENx = tensor(sigmaxE, sigmaxN)\n",
    "H_opsENy = tensor(sigmayE, sigmayN)           \n",
    "H_opsENz = tensor(sigmazE, sigmazN)\n",
    "#print (H_opsENz)\n",
    "\n",
    "#changing dims bc qutip is silly\n",
    "\n",
    "H_opsEx.dims=[[9],[9]]\n",
    "H_opsEy.dims=[[9],[9]]\n",
    "H_opsEz.dims=[[9],[9]]\n",
    "\n",
    "H_opsNx.dims=[[9],[9]]\n",
    "H_opsNy.dims=[[9],[9]]\n",
    "H_opsNz.dims=[[9],[9]]\n",
    "\n",
    "H_opsENx.dims=[[9],[9]]\n",
    "H_opsENy.dims=[[9],[9]]\n",
    "H_opsENz.dims=[[9],[9]] \n",
    "\n",
    "\n",
    "#making H_ops list           \n",
    "H_ops = [H_opsEx*Omega, H_opsEy*Omega]#, H_opsEz, H_opsNx, H_opsNy, H_opsNz, H_opsENx, H_opsENy, H_opsENz]            \n",
    "               \n",
    "               \n",
    "#making labels for pulse sequence graphs\n",
    "H_labels = [r'$uE_{x}$',\n",
    "            r'$uE_{y}$']\n",
    "            #r'$uE_{z}$',\n",
    "            #r'$uN_{x}$',\n",
    "            ##r'$uN_{y}$',\n",
    "            #r'$uN_{z}$',\n",
    "           # r'$uEN_{x}$',\n",
    "           # r'$uEN_{y}$',\n",
    "            #r'$uEN_{z}$']\n"
   ]
  },
  {
   "cell_type": "markdown",
   "id": "587c4893",
   "metadata": {},
   "source": [
    "# Defining hamiltonian and constants "
   ]
  },
  {
   "cell_type": "code",
   "execution_count": 67,
   "id": "43f769bc",
   "metadata": {},
   "outputs": [
    {
     "data": {
      "text/latex": [
       "Quantum object: dims = [[9], [9]], shape = (9, 9), type = oper, isherm = True $ \\\\ \\left(\\begin{matrix}2.899\\times10^{+10} & 0.0 & 0.0 & 0.0 & 0.0 & 0.0 & 0.0 & 0.0 & 0.0\\\\0.0 & 2.899\\times10^{+10} & 0.0 & -2.700\\times10^{+06} & 0.0 & 0.0 & 0.0 & 0.0 & 0.0\\\\0.0 & 0.0 & 2.899\\times10^{+10} & 0.0 & -2.700\\times10^{+06} & 0.0 & 0.0 & 0.0 & 0.0\\\\0.0 & -2.700\\times10^{+06} & 0.0 & -1.912\\times10^{+09} & 0.0 & 0.0 & 0.0 & 0.0 & 0.0\\\\0.0 & 0.0 & -2.700\\times10^{+06} & 0.0 & -1.910\\times10^{+09} & 0.0 & -2.700\\times10^{+06} & 0.0 & 0.0\\\\0.0 & 0.0 & 0.0 & 0.0 & 0.0 & -1.918\\times10^{+09} & 0.0 & -2.700\\times10^{+06} & 0.0\\\\0.0 & 0.0 & 0.0 & 0.0 & -2.700\\times10^{+06} & 0.0 & -2.707\\times10^{+10} & 0.0 & 0.0\\\\0.0 & 0.0 & 0.0 & 0.0 & 0.0 & -2.700\\times10^{+06} & 0.0 & -2.707\\times10^{+10} & 0.0\\\\0.0 & 0.0 & 0.0 & 0.0 & 0.0 & 0.0 & 0.0 & 0.0 & -2.708\\times10^{+10}\\\\\\end{matrix}\\right)$"
      ],
      "text/plain": [
       "Quantum object: dims = [[9], [9]], shape = (9, 9), type = oper, isherm = True\n",
       "Qobj data =\n",
       "[[ 2.89876124e+10  0.00000000e+00  0.00000000e+00  0.00000000e+00\n",
       "   0.00000000e+00  0.00000000e+00  0.00000000e+00  0.00000000e+00\n",
       "   0.00000000e+00]\n",
       " [ 0.00000000e+00  2.89916860e+10  0.00000000e+00 -2.70000000e+06\n",
       "   0.00000000e+00  0.00000000e+00  0.00000000e+00  0.00000000e+00\n",
       "   0.00000000e+00]\n",
       " [ 0.00000000e+00  0.00000000e+00  2.89857396e+10  0.00000000e+00\n",
       "  -2.70000000e+06  0.00000000e+00  0.00000000e+00  0.00000000e+00\n",
       "   0.00000000e+00]\n",
       " [ 0.00000000e+00 -2.70000000e+06  0.00000000e+00 -1.91192692e+09\n",
       "   0.00000000e+00  0.00000000e+00  0.00000000e+00  0.00000000e+00\n",
       "   0.00000000e+00]\n",
       " [ 0.00000000e+00  0.00000000e+00 -2.70000000e+06  0.00000000e+00\n",
       "  -1.90999333e+09  0.00000000e+00 -2.70000000e+06  0.00000000e+00\n",
       "   0.00000000e+00]\n",
       " [ 0.00000000e+00  0.00000000e+00  0.00000000e+00  0.00000000e+00\n",
       "   0.00000000e+00 -1.91807975e+09  0.00000000e+00 -2.70000000e+06\n",
       "   0.00000000e+00]\n",
       " [ 0.00000000e+00  0.00000000e+00  0.00000000e+00  0.00000000e+00\n",
       "  -2.70000000e+06  0.00000000e+00 -2.70714663e+10  0.00000000e+00\n",
       "   0.00000000e+00]\n",
       " [ 0.00000000e+00  0.00000000e+00  0.00000000e+00  0.00000000e+00\n",
       "   0.00000000e+00 -2.70000000e+06  0.00000000e+00 -2.70716727e+10\n",
       "   0.00000000e+00]\n",
       " [ 0.00000000e+00  0.00000000e+00  0.00000000e+00  0.00000000e+00\n",
       "   0.00000000e+00  0.00000000e+00  0.00000000e+00  0.00000000e+00\n",
       "  -2.70818991e+10]]"
      ]
     },
     "execution_count": 67,
     "metadata": {},
     "output_type": "execute_result"
    }
   ],
   "source": [
    "#defining hamiltonian for NV center\n",
    "\n",
    "#constants\n",
    "\n",
    "#witing out hamiltonian terms\n",
    "\n",
    "f_fine_structure = 2.87e9\n",
    "f_nuclear_quadrupole = -5.01e6\n",
    "f_axial_magnetic_hyperfine = -2.14e6\n",
    "f_transverse_magnetic_hyperfine = -2.7e6\n",
    "g_factor_electron = 2.0028\n",
    "gyromagnetic_constant_nuclear = 1.93297e7 / (2 * np.pi)\n",
    "uB = physical_constants['Bohr magneton'][0]\n",
    "uN = physical_constants['nuclear magneton'][0]    \n",
    "bvector=[0,0,1]\n",
    "\n",
    "\n",
    "\n",
    "\n",
    "H1 = f_fine_structure * tensor((sigmazEsquared-(2/3)*identity3),identity3)\n",
    "\n",
    "H2 = f_axial_magnetic_hyperfine * tensor(sigmazE,sigmazN) \n",
    "\n",
    "H3 = f_transverse_magnetic_hyperfine * (tensor(sigmaxE,sigmaxN)+tensor(sigmayE,sigmayN))\n",
    "\n",
    "H4 = f_nuclear_quadrupole * tensor(tensor(identity3), (sigmazNsquared-(2/3)*identity3))\n",
    "\n",
    "H5 = ((uB/h) * g_factor_electron) * tensor((sigmaxE*bvector[0] + sigmayE*bvector[1] + sigmazE*bvector[2]), identity3)\n",
    "\n",
    "H6 = gyromagnetic_constant_nuclear * tensor(identity3,(sigmaxN*bvector[0] + sigmayN*bvector[1] + sigmazN*bvector[2]))\n",
    "          \n",
    "    \n",
    "H0= H1+H2 +H3 +H4 +H5 +H6\n",
    "H0.dims=[[9],[9]] #changing dimensions bc dot products are silly\n",
    "H0 #hamiltonian without b field term\n",
    "\n"
   ]
  },
  {
   "cell_type": "markdown",
   "id": "05144d08",
   "metadata": {},
   "source": [
    "# Plot pulses"
   ]
  },
  {
   "cell_type": "code",
   "execution_count": 68,
   "id": "c72769a0",
   "metadata": {},
   "outputs": [],
   "source": [
    "\n",
    "\n",
    "##creating initial control pulse values as starting guess for GRAPE\n",
    "\n",
    "u0 = np.array([np.random.rand(len(times))*T * 2 * pi * 0.005 for _ in range(len(H_ops))])\n",
    "\n",
    "u0 = [np.convolve(np.ones(10) / 10, u0[idx, :], mode='same') for idx in range(len(H_ops))]\n"
   ]
  },
  {
   "cell_type": "code",
   "execution_count": 69,
   "id": "8342fb7d",
   "metadata": {},
   "outputs": [
    {
     "name": "stdout",
     "output_type": "stream",
     "text": [
      "10.0%. Run time: 329.07s. Est. time left: 00:00:49:21\n",
      "20.0%. Run time: 660.47s. Est. time left: 00:00:44:01\n",
      "30.0%. Run time: 998.02s. Est. time left: 00:00:38:48\n",
      "40.0%. Run time: 1341.99s. Est. time left: 00:00:33:32\n",
      "50.0%. Run time: 1678.77s. Est. time left: 00:00:27:58\n",
      "60.0%. Run time: 2024.39s. Est. time left: 00:00:22:29\n",
      "70.0%. Run time: 2358.87s. Est. time left: 00:00:16:50\n",
      "80.0%. Run time: 2687.00s. Est. time left: 00:00:11:11\n",
      "90.0%. Run time: 3022.21s. Est. time left: 00:00:05:35\n",
      "Total run time: 3357.25s\n"
     ]
    }
   ],
   "source": [
    "#doing GRAPE!\n",
    "R=1000\n",
    "result = cy_grape_unitary(U, H0, H_ops, R, times, u_start=u0, eps=2 * pi / T, phase_sensitive=False,\n",
    "                          progress_bar=TextProgressBar())\n",
    "\n"
   ]
  },
  {
   "cell_type": "code",
   "execution_count": 70,
   "id": "97f31e2a",
   "metadata": {},
   "outputs": [
    {
     "data": {
      "image/png": "[encoded data removed]",
      "text/plain": [
       "<Figure size 576x288 with 2 Axes>"
      ]
     },
     "metadata": {
      "needs_background": "light"
     },
     "output_type": "display_data"
    }
   ],
   "source": [
    "plot_grape_control_fields(times, result.u[:, :, :] / (2 * pi), H_labels, uniform_axes=True);\n",
    "plt.show()"
   ]
  },
  {
   "cell_type": "markdown",
   "id": "6e786cb8",
   "metadata": {},
   "source": [
    "# Calcuate fidelity"
   ]
  },
  {
   "cell_type": "code",
   "execution_count": 71,
   "id": "45f4ba5b",
   "metadata": {},
   "outputs": [
    {
     "name": "stdout",
     "output_type": "stream",
     "text": [
      "Quantum object: dims = [[9], [1]], shape = (9, 1), type = ket\n",
      "Qobj data =\n",
      "[[ 0.5+0.j        ]\n",
      " [ 0. +0.j        ]\n",
      " [ 0. +0.j        ]\n",
      " [ 0. -0.70710678j]\n",
      " [ 0. +0.j        ]\n",
      " [ 0. +0.j        ]\n",
      " [-0.5+0.j        ]\n",
      " [ 0. +0.j        ]\n",
      " [ 0. +0.j        ]]\n"
     ]
    }
   ],
   "source": [
    "idealfinalstate=U*startingstate\n",
    "print (idealfinalstate)"
   ]
  },
  {
   "cell_type": "code",
   "execution_count": 72,
   "id": "d83fcdfd",
   "metadata": {},
   "outputs": [
    {
     "data": {
      "text/latex": [
       "Quantum object: dims = [[9], [9]], shape = (9, 9), type = oper, isherm = False $ \\\\ \\left(\\begin{matrix}(0.234-0.387j) & 0.0 & 0.0 & (0.459-0.548j) & 0.0 & 0.0 & (0.400-0.354j) & 0.0 & 0.0\\\\0.0 & (0.233-0.388j) & 0.0 & 0.0 & (0.458-0.548j) & 0.0 & 0.0 & (0.400-0.354j) & 0.0\\\\0.0 & 0.0 & (0.235-0.387j) & 0.0 & 0.0 & (0.460-0.546j) & 0.0 & 0.0 & (0.401-0.353j)\\\\(-0.696+0.095j) & 0.0 & 0.0 & (-0.083+0.016j) & 0.0 & 0.0 & (0.700+0.095j) & 0.0 & 0.0\\\\0.0 & (-0.696+0.096j) & 0.0 & 0.0 & (-0.083+0.016j) & 0.0 & 0.0 & (0.700+0.094j) & 0.0\\\\0.0 & 0.0 & (-0.697+0.093j) & 0.0 & 0.0 & (-0.083+0.016j) & 0.0 & 0.0 & (0.700+0.097j)\\\\(0.402+0.375j) & 0.0 & 0.0 & (-0.446-0.532j) & 0.0 & 0.0 & (0.255+0.388j) & 0.0 & 0.0\\\\0.0 & (0.402+0.374j) & 0.0 & 0.0 & (-0.447-0.532j) & 0.0 & 0.0 & (0.255+0.388j) & 0.0\\\\0.0 & 0.0 & (0.401+0.376j) & 0.0 & 0.0 & (-0.445-0.534j) & 0.0 & 0.0 & (0.254+0.389j)\\\\\\end{matrix}\\right)$"
      ],
      "text/plain": [
       "Quantum object: dims = [[9], [9]], shape = (9, 9), type = oper, isherm = False\n",
       "Qobj data =\n",
       "[[ 0.2335486 -0.3873302j   0.        +0.j          0.        +0.j\n",
       "   0.45867491-0.54750201j  0.        +0.j          0.        +0.j\n",
       "   0.39994359-0.35402593j  0.        +0.j          0.        +0.j        ]\n",
       " [ 0.        +0.j          0.23317402-0.38755582j  0.        +0.j\n",
       "   0.        +0.j          0.45814537-0.5479452j   0.        +0.j\n",
       "   0.        +0.j          0.39960114-0.35441242j  0.        +0.j        ]\n",
       " [ 0.        +0.j          0.        +0.j          0.23473907-0.38660988j\n",
       "   0.        +0.j          0.        +0.j          0.46035708-0.54608835j\n",
       "   0.        +0.j          0.        +0.j          0.40103084-0.35279386j]\n",
       " [-0.69626849+0.09496321j  0.        +0.j          0.        +0.j\n",
       "  -0.08329959+0.01580865j  0.        +0.j          0.        +0.j\n",
       "   0.69996313+0.09515806j  0.        +0.j          0.        +0.j        ]\n",
       " [ 0.        +0.j         -0.69617636+0.09563631j  0.        +0.j\n",
       "   0.        +0.j         -0.08328427+0.01588918j  0.        +0.j\n",
       "   0.        +0.j          0.7000548 +0.0944813j   0.        +0.j        ]\n",
       " [ 0.        +0.j          0.        +0.j         -0.69655735+0.09282076j\n",
       "   0.        +0.j          0.        +0.j         -0.08334783+0.01555232j\n",
       "   0.        +0.j          0.        +0.j          0.69966707+0.09731099j]\n",
       " [ 0.40166427+0.37455086j  0.        +0.j          0.        +0.j\n",
       "  -0.4463059 -0.5324295j   0.        +0.j          0.        +0.j\n",
       "   0.25485669+0.38827232j  0.        +0.j          0.        +0.j        ]\n",
       " [ 0.        +0.j          0.4020262 +0.37416236j  0.        +0.j\n",
       "   0.        +0.j         -0.44682044-0.53199777j  0.        +0.j\n",
       "   0.        +0.j          0.25523194+0.38802575j  0.        +0.j        ]\n",
       " [ 0.        +0.j          0.        +0.j          0.4005101 +0.37578477j\n",
       "   0.        +0.j          0.        +0.j         -0.44466582-0.53380001j\n",
       "   0.        +0.j          0.        +0.j          0.25366098+0.38905453j]]"
      ]
     },
     "execution_count": 72,
     "metadata": {},
     "output_type": "execute_result"
    }
   ],
   "source": [
    "result.U_f.tidyup(1e-2)"
   ]
  },
  {
   "cell_type": "code",
   "execution_count": 73,
   "id": "dfc11651",
   "metadata": {},
   "outputs": [
    {
     "name": "stdout",
     "output_type": "stream",
     "text": [
      "Quantum object: dims = [[9], [1]], shape = (9, 1), type = ket\n",
      "Qobj data =\n",
      "[[ 0.2335486 -0.3873302j ]\n",
      " [ 0.        +0.j        ]\n",
      " [ 0.        +0.j        ]\n",
      " [-0.69626849+0.09496321j]\n",
      " [ 0.        +0.j        ]\n",
      " [ 0.        +0.j        ]\n",
      " [ 0.40166427+0.37455086j]\n",
      " [ 0.        +0.j        ]\n",
      " [ 0.        +0.j        ]]\n"
     ]
    }
   ],
   "source": [
    "realfinalstate=result.U_f*startingstate\n",
    "print (realfinalstate)"
   ]
  },
  {
   "cell_type": "code",
   "execution_count": 74,
   "id": "c21a234f",
   "metadata": {},
   "outputs": [
    {
     "name": "stdout",
     "output_type": "stream",
     "text": [
      "Quantum object: dims = [[9], [9]], shape = (9, 9), type = oper, isherm = True\n",
      "Qobj data =\n",
      "[[ 0.25+0.j          0.  +0.j          0.  +0.j          0.  +0.35355339j\n",
      "   0.  +0.j          0.  +0.j         -0.25+0.j          0.  +0.j\n",
      "   0.  +0.j        ]\n",
      " [ 0.  +0.j          0.  +0.j          0.  +0.j          0.  +0.j\n",
      "   0.  +0.j          0.  +0.j          0.  +0.j          0.  +0.j\n",
      "   0.  +0.j        ]\n",
      " [ 0.  +0.j          0.  +0.j          0.  +0.j          0.  +0.j\n",
      "   0.  +0.j          0.  +0.j          0.  +0.j          0.  +0.j\n",
      "   0.  +0.j        ]\n",
      " [ 0.  -0.35355339j  0.  +0.j          0.  +0.j          0.5 +0.j\n",
      "   0.  +0.j          0.  +0.j          0.  +0.35355339j  0.  +0.j\n",
      "   0.  +0.j        ]\n",
      " [ 0.  +0.j          0.  +0.j          0.  +0.j          0.  +0.j\n",
      "   0.  +0.j          0.  +0.j          0.  +0.j          0.  +0.j\n",
      "   0.  +0.j        ]\n",
      " [ 0.  +0.j          0.  +0.j          0.  +0.j          0.  +0.j\n",
      "   0.  +0.j          0.  +0.j          0.  +0.j          0.  +0.j\n",
      "   0.  +0.j        ]\n",
      " [-0.25+0.j          0.  +0.j          0.  +0.j          0.  -0.35355339j\n",
      "   0.  +0.j          0.  +0.j          0.25+0.j          0.  +0.j\n",
      "   0.  +0.j        ]\n",
      " [ 0.  +0.j          0.  +0.j          0.  +0.j          0.  +0.j\n",
      "   0.  +0.j          0.  +0.j          0.  +0.j          0.  +0.j\n",
      "   0.  +0.j        ]\n",
      " [ 0.  +0.j          0.  +0.j          0.  +0.j          0.  +0.j\n",
      "   0.  +0.j          0.  +0.j          0.  +0.j          0.  +0.j\n",
      "   0.  +0.j        ]]\n",
      "Quantum object: dims = [[9], [9]], shape = (9, 9), type = oper, isherm = True\n",
      "Qobj data =\n",
      "[[ 0.20456963+0.j          0.        +0.j          0.        +0.j\n",
      "  -0.19939465+0.24750729j  0.        +0.j          0.        +0.j\n",
      "  -0.05126673-0.24305253j  0.        +0.j          0.        +0.j        ]\n",
      " [ 0.        +0.j          0.        +0.j          0.        +0.j\n",
      "   0.        +0.j          0.        +0.j          0.        +0.j\n",
      "   0.        +0.j          0.        +0.j          0.        +0.j        ]\n",
      " [ 0.        +0.j          0.        +0.j          0.        +0.j\n",
      "   0.        +0.j          0.        +0.j          0.        +0.j\n",
      "   0.        +0.j          0.        +0.j          0.        +0.j        ]\n",
      " [-0.19939465-0.24750729j  0.        +0.j          0.        +0.j\n",
      "   0.49380783+0.j          0.        +0.j          0.        +0.j\n",
      "  -0.24409763+0.29893129j  0.        +0.j          0.        +0.j        ]\n",
      " [ 0.        +0.j          0.        +0.j          0.        +0.j\n",
      "   0.        +0.j          0.        +0.j          0.        +0.j\n",
      "   0.        +0.j          0.        +0.j          0.        +0.j        ]\n",
      " [ 0.        +0.j          0.        +0.j          0.        +0.j\n",
      "   0.        +0.j          0.        +0.j          0.        +0.j\n",
      "   0.        +0.j          0.        +0.j          0.        +0.j        ]\n",
      " [-0.05126673+0.24305253j  0.        +0.j          0.        +0.j\n",
      "  -0.24409763-0.29893129j  0.        +0.j          0.        +0.j\n",
      "   0.30162254+0.j          0.        +0.j          0.        +0.j        ]\n",
      " [ 0.        +0.j          0.        +0.j          0.        +0.j\n",
      "   0.        +0.j          0.        +0.j          0.        +0.j\n",
      "   0.        +0.j          0.        +0.j          0.        +0.j        ]\n",
      " [ 0.        +0.j          0.        +0.j          0.        +0.j\n",
      "   0.        +0.j          0.        +0.j          0.        +0.j\n",
      "   0.        +0.j          0.        +0.j          0.        +0.j        ]]\n"
     ]
    },
    {
     "data": {
      "text/plain": [
       "0.8862707020732212"
      ]
     },
     "execution_count": 74,
     "metadata": {},
     "output_type": "execute_result"
    }
   ],
   "source": [
    "idealdensitymatrix=(idealfinalstate * idealfinalstate.dag())#ideal density matrix\n",
    "densitymatrix=(realfinalstate * realfinalstate.dag())# real density matrix\n",
    "print (idealdensitymatrix)\n",
    "print (densitymatrix)\n",
    "fidelity(idealdensitymatrix,densitymatrix)"
   ]
  },
  {
   "cell_type": "markdown",
   "id": "374a06f6",
   "metadata": {},
   "source": [
    "# Plotting City Scape\n"
   ]
  }
 ],
 "metadata": {
  "kernelspec": {
   "display_name": "Python 3 (ipykernel)",
   "language": "python",
   "name": "python3"
  },
  "language_info": {
   "codemirror_mode": {
    "name": "ipython",
    "version": 3
   },
   "file_extension": ".py",
   "mimetype": "text/x-python",
   "name": "python",
   "nbconvert_exporter": "python",
   "pygments_lexer": "ipython3",
   "version": "3.9.12"
  }
 },
 "nbformat": 4,
 "nbformat_minor": 5
}
